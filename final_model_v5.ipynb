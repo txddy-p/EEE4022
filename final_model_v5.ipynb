{
 "cells": [
  {
   "cell_type": "markdown",
   "metadata": {},
   "source": [
    "# Quenser Qube-Servo 2 modelling\n",
    "- $\\theta$ = arm angle, $\\alpha$ = pendulum angle\n",
    "- $\\alpha$ = 0 is the upright position, while $\\alpha$ = $\\pi$ is the starting position"
   ]
  },
  {
   "cell_type": "markdown",
   "metadata": {},
   "source": [
    "## Motor Parameters and variables"
   ]
  },
  {
   "cell_type": "code",
   "execution_count": 30,
   "metadata": {},
   "outputs": [],
   "source": [
    "# pendulum parameters\n",
    "mar = 0.095 #kg actual mass of arm\n",
    "lar = 0.085 #m actual length of arm\n",
    "mpr = 0.024 #kg actual mass of pen\n",
    "lpr = 0.129 #m actual length of pen\n",
    "\n",
    "# Motor Parameters\n",
    "V_nom = 18.0       # Nominal input voltage (V)\n",
    "tau_nom = 22.0/1000     # Nominal torque (mN-m) (Note: Convert to N-m)\n",
    "omega_nom = 3050   # Nominal speed (RPM)\n",
    "I_nom = 0.54       # Nominal current (A)\n",
    "R_m = 8.4          # Terminal resistance (Ohms)\n",
    "k_t = 0.042        # Torque constant (N-m/A)\n",
    "k_m = 0.042        # Motor back-emf constant (V/(rad/s))\n",
    "J_m = 0.000004     # Rotor inertia (kg-m^2)\n",
    "L_m = 1.16e-3      # Rotor inductance (H)"
   ]
  },
  {
   "cell_type": "markdown",
   "metadata": {},
   "source": [
    "## USeful functions\n",
    "- Rotation matrices\n",
    "- torque voltage function"
   ]
  },
  {
   "cell_type": "code",
   "execution_count": 31,
   "metadata": {},
   "outputs": [],
   "source": [
    "import sympy as sym\n",
    "import numpy as np\n",
    "from IPython.display import display #for pretty printing\n",
    "import csv\n",
    "\n",
    "# Define the rotation matrices as functions, counterclockwise rotation\n",
    "# axes system is defined similar to the one used for making the 3d plots\n",
    "def rotX(th):\n",
    "    return sym.Matrix([ [1.0,         0.0,          0.0],\n",
    "                        [0.0, sym.cos(th), -sym.sin(th)],\n",
    "                        [0.0, sym.sin(th),  sym.cos(th)]])\n",
    "\n",
    "def rotY(th):\n",
    "    return sym.Matrix([ [ sym.cos(th), 0.0, sym.sin(th)],\n",
    "                        [ 0.0,         1.0,         0.0],\n",
    "                        [-sym.sin(th), 0.0, sym.cos(th)]])\n",
    "\n",
    "def rotZ(th):\n",
    "    return sym.Matrix([ [sym.cos(th), -sym.sin(th), 0.0],\n",
    "                        [sym.sin(th),  sym.cos(th), 0.0],\n",
    "                        [0.0,    0.0,               1.0]])\n",
    "\n",
    "def calculate_torque_voltage(i, m):\n",
    "    # Step 1: Combine the motor's rotor inertia and the arm's inertia\n",
    "    J_total = value(m.In[1]) + J_m\n",
    "    \n",
    "    # Step 2: Calculate the required torque to rotate the arm (from acceleration)\n",
    "    if i > 1:\n",
    "        torque = J_total * m.ddq[i, 1]\n",
    "    else:\n",
    "        torque = 0  # or some initial value\n",
    "    \n",
    "    # Step 3: Calculate the current required for the torque\n",
    "    current = torque / k_t\n",
    "    \n",
    "    # Step 4: Calculate the motor's voltage, including the back-emf term\n",
    "    if i > 1:\n",
    "        voltage = current * R_m + k_m * m.dq[i, 1]\n",
    "    else:\n",
    "        voltage = 0  # or some initial value\n",
    "    \n",
    "    return torque, voltage"
   ]
  },
  {
   "cell_type": "markdown",
   "metadata": {},
   "source": [
    "## Dynamic Model\n",
    "- positions\n",
    "- velocities\n",
    "- energies\n",
    "- lagrangian"
   ]
  },
  {
   "cell_type": "code",
   "execution_count": 32,
   "metadata": {},
   "outputs": [
    {
     "data": {
      "text/latex": [
       "$\\displaystyle \\left[\\begin{matrix}\\ddot{\\theta}\\\\\\ddot{\\alpha}\\end{matrix}\\right]$"
      ],
      "text/plain": [
       "Matrix([\n",
       "[\\ddot{\\theta}],\n",
       "[\\ddot{\\alpha}]])"
      ]
     },
     "metadata": {},
     "output_type": "display_data"
    },
    {
     "data": {
      "text/latex": [
       "$\\displaystyle \\left[\\begin{matrix}0.5 l_{A} \\cos{\\left(\\theta \\right)}\\\\- 0.5 l_{A} \\sin{\\left(\\theta \\right)}\\\\0\\end{matrix}\\right]$"
      ],
      "text/plain": [
       "Matrix([\n",
       "[ 0.5*l_A*cos(\\theta)],\n",
       "[-0.5*l_A*sin(\\theta)],\n",
       "[                   0]])"
      ]
     },
     "metadata": {},
     "output_type": "display_data"
    },
    {
     "data": {
      "text/latex": [
       "$\\displaystyle \\left[\\begin{matrix}1.0 l_{A} \\cos{\\left(\\theta \\right)} + 0.5 l_{P} \\sin{\\left(\\alpha \\right)} \\sin{\\left(\\theta \\right)}\\\\- 1.0 l_{A} \\sin{\\left(\\theta \\right)} + 0.5 l_{P} \\sin{\\left(\\alpha \\right)} \\cos{\\left(\\theta \\right)}\\\\0.5 l_{P} \\cos{\\left(\\alpha \\right)}\\end{matrix}\\right]$"
      ],
      "text/plain": [
       "Matrix([\n",
       "[ 1.0*l_A*cos(\\theta) + 0.5*l_P*sin(\\alpha)*sin(\\theta)],\n",
       "[-1.0*l_A*sin(\\theta) + 0.5*l_P*sin(\\alpha)*cos(\\theta)],\n",
       "[                                   0.5*l_P*cos(\\alpha)]])"
      ]
     },
     "metadata": {},
     "output_type": "display_data"
    }
   ],
   "source": [
    "# create symbolic variables\n",
    "# system parameters\n",
    "X0, Y0, Z0 = sym.symbols(['X0','Y0', 'Z0']) # fixed position of Arm\n",
    "g = sym.symbols('g')\n",
    "\n",
    "mH, Lh, InH = sym.symbols(['m_H', 'l_H', 'I_H']) # Hub\n",
    "mA, La, InA = sym.symbols(['m_A', 'l_A', 'I_A']) # Arm\n",
    "mP, Lp, InP = sym.symbols(['m_P', 'l_P', 'I_P']) # Pen\n",
    "\n",
    "# generalized coordinates\n",
    "th, dth, ddth       = sym.symbols(['\\\\theta', '\\\\dot{\\\\theta}', '\\\\ddot{\\\\theta}'])\n",
    "alph, dalph, ddalph = sym.symbols(['\\\\alpha', '\\\\dot{\\\\alpha}', '\\\\ddot{\\\\alpha}'])\n",
    "\n",
    "q   = sym.Matrix([  [th],  [alph]]) #group into matrices\n",
    "dq  = sym.Matrix([ [dth], [dalph]])\n",
    "ddq = sym.Matrix([[ddth],[ddalph]])\n",
    "\n",
    "display(ddq) #display prints it as cool latex stuff\n",
    "\n",
    "# Rotation Matrices\n",
    "R01 = rotZ(th)\n",
    "R10 = R01.T\n",
    "\n",
    "R12 = rotX(alph)\n",
    "R21 = R12.T\n",
    "\n",
    "R02 = R12*R01\n",
    "R20 = R02.T\n",
    "\n",
    "# Positions-----------------------------------------------\n",
    "##### Arm is at the origin so no need for X0 and Y0\n",
    "r_Hub_1 = sym.Matrix([0, 0, 0])\n",
    "r_Hub   = R10*r_Hub_1\n",
    "\n",
    "r_Arm_1 = sym.Matrix([La*0.5, 0, 0])\n",
    "r_Arm   = R10*r_Arm_1\n",
    "\n",
    "r_Pen_2 = sym.Matrix([0, 0, Lp*0.5]) # when alpha = 0 it should be upright which is the case here\n",
    "r_Pen   = r_Arm*2 + R20*r_Pen_2\n",
    "display(r_Arm, r_Pen)\n",
    "\n",
    "# Velocities-------------------------------------------------\n",
    "## Linear\n",
    "dr_Arm = sym.simplify(r_Arm.jacobian(q)*dq)\n",
    "dr_Pen = sym.simplify(r_Pen.jacobian(q)*dq)\n",
    "dr_Hub = sym.simplify(r_Hub.jacobian(q)*dq)\n",
    "#display(dr_Arm,dr_Pen)\n",
    "\n",
    "## Angular\n",
    "wHub = sym.Matrix([0, 0, dth])\n",
    "wArm = sym.Matrix([0, 0, dth])\n",
    "wPen = R12*wArm + sym.Matrix([dalph, 0, 0])\n",
    "\n",
    "#display(wArm, wPen)\n",
    "\n",
    "# Energies\n",
    "## Kinetic energies\n",
    "Ek = lambda m, dr, w, In: (0.5*m*dr.T*dr) + (0.5*In*w.T*w)\n",
    "THub = Ek(mH, dr_Hub, wHub, InH)\n",
    "TArm = sym.simplify(Ek(mA, dr_Arm, wArm, InA))\n",
    "TPen = sym.simplify(Ek(mP, dr_Pen, wPen, InP))\n",
    "T = sym.Matrix([sym.simplify(TArm + TPen)])\n",
    "#display(THub, TArm, TPen, T)\n",
    "\n",
    "## Potential energies\n",
    "VArm = 0\n",
    "VHub = 0\n",
    "VPen = mP*g*r_Pen[2]\n",
    "V = sym.Matrix([sym.simplify(VArm + VHub + VPen)])\n",
    "#display(V)"
   ]
  },
  {
   "cell_type": "markdown",
   "metadata": {},
   "source": [
    "## Forces, torques and lagrangian"
   ]
  },
  {
   "cell_type": "code",
   "execution_count": 33,
   "metadata": {},
   "outputs": [
    {
     "data": {
      "text/latex": [
       "$\\displaystyle \\left[\\begin{matrix}- 0.5 \\ddot{\\alpha} l_{A} l_{P} m_{P} \\cos{\\left(\\alpha \\right)} + \\ddot{\\theta} \\left(I_{A} + 1.0 I_{P} + 0.25 l_{A}^{2} m_{A} + 1.0 l_{A}^{2} m_{P} + 0.25 l_{P}^{2} m_{P} \\sin^{2}{\\left(\\alpha \\right)}\\right) + 0.5 \\dot{\\alpha}^{2} l_{A} l_{P} m_{P} \\sin{\\left(\\alpha \\right)} + 0.5 \\dot{\\alpha} \\dot{\\theta} l_{P}^{2} m_{P} \\sin{\\left(\\alpha \\right)} \\cos{\\left(\\alpha \\right)} - \\tau\\\\\\ddot{\\alpha} \\left(1.0 I_{P} + 0.25 l_{P}^{2} m_{P}\\right) - 0.5 \\ddot{\\theta} l_{A} l_{P} m_{P} \\cos{\\left(\\alpha \\right)} - 0.25 \\dot{\\theta}^{2} l_{P}^{2} m_{P} \\sin{\\left(\\alpha \\right)} \\cos{\\left(\\alpha \\right)} - 0.5 g l_{P} m_{P} \\sin{\\left(\\alpha \\right)}\\end{matrix}\\right]$"
      ],
      "text/plain": [
       "Matrix([\n",
       "[-0.5*\\ddot{\\alpha}*l_A*l_P*m_P*cos(\\alpha) + \\ddot{\\theta}*(I_A + 1.0*I_P + 0.25*l_A**2*m_A + 1.0*l_A**2*m_P + 0.25*l_P**2*m_P*sin(\\alpha)**2) + 0.5*\\dot{\\alpha}**2*l_A*l_P*m_P*sin(\\alpha) + 0.5*\\dot{\\alpha}*\\dot{\\theta}*l_P**2*m_P*sin(\\alpha)*cos(\\alpha) - \\tau],\n",
       "[                                                                                           \\ddot{\\alpha}*(1.0*I_P + 0.25*l_P**2*m_P) - 0.5*\\ddot{\\theta}*l_A*l_P*m_P*cos(\\alpha) - 0.25*\\dot{\\theta}**2*l_P**2*m_P*sin(\\alpha)*cos(\\alpha) - 0.5*g*l_P*m_P*sin(\\alpha)]])"
      ]
     },
     "metadata": {},
     "output_type": "display_data"
    },
    {
     "data": {
      "text/latex": [
       "$\\displaystyle \\left[\\begin{matrix}- 0.5 \\ddot{\\alpha} l_{A} l_{P} m_{P} \\cos{\\left(\\alpha \\right)} + \\ddot{\\theta} \\left(I_{A} + 1.0 I_{P} + 0.25 l_{A}^{2} m_{A} + 1.0 l_{A}^{2} m_{P} + 0.25 l_{P}^{2} m_{P} \\sin^{2}{\\left(\\alpha \\right)}\\right) + 0.5 \\dot{\\alpha}^{2} l_{A} l_{P} m_{P} \\sin{\\left(\\alpha \\right)} + 0.25 \\dot{\\alpha} \\dot{\\theta} l_{P}^{2} m_{P} \\sin{\\left(2 \\alpha \\right)} - \\tau\\\\\\ddot{\\alpha} \\left(1.0 I_{P} + 0.25 l_{P}^{2} m_{P}\\right) - 0.5 \\ddot{\\theta} l_{A} l_{P} m_{P} \\cos{\\left(\\alpha \\right)} - 0.125 \\dot{\\theta}^{2} l_{P}^{2} m_{P} \\sin{\\left(2 \\alpha \\right)} - 0.5 g l_{P} m_{P} \\sin{\\left(\\alpha \\right)}\\end{matrix}\\right]$"
      ],
      "text/plain": [
       "Matrix([\n",
       "[-0.5*\\ddot{\\alpha}*l_A*l_P*m_P*cos(\\alpha) + \\ddot{\\theta}*(I_A + 1.0*I_P + 0.25*l_A**2*m_A + 1.0*l_A**2*m_P + 0.25*l_P**2*m_P*sin(\\alpha)**2) + 0.5*\\dot{\\alpha}**2*l_A*l_P*m_P*sin(\\alpha) + 0.25*\\dot{\\alpha}*\\dot{\\theta}*l_P**2*m_P*sin(2*\\alpha) - \\tau],\n",
       "[                                                                                           \\ddot{\\alpha}*(1.0*I_P + 0.25*l_P**2*m_P) - 0.5*\\ddot{\\theta}*l_A*l_P*m_P*cos(\\alpha) - 0.125*\\dot{\\theta}**2*l_P**2*m_P*sin(2*\\alpha) - 0.5*g*l_P*m_P*sin(\\alpha)]])"
      ]
     },
     "metadata": {},
     "output_type": "display_data"
    }
   ],
   "source": [
    "# forces & torques\n",
    "tau = sym.symbols('\\\\tau')\n",
    "vol   = sym.symbols('V')\n",
    "\n",
    "Qtau = sym.Matrix([[tau],[0]]) # Torque tau acts in the th1 direction\n",
    "\n",
    "Qtot = Qtau\n",
    "Qall = Qtau\n",
    "# ------------------------------------------------------------------------------------------------------------------\n",
    "Lg1 = sym.zeros(1,len(q))\n",
    "for i in range(len(q)):\n",
    "    dT_ddq = sym.diff(T,dq[i]) # get partial of T in dq_i\n",
    "    Lg1[i] = dT_ddq.jacobian(q)*dq + dT_ddq.jacobian(dq)*ddq #...then get time derivative of that partial\n",
    "\n",
    "# term 3\n",
    "Lg3 = T.jacobian(q) # partial of T in q\n",
    "\n",
    "# term 4\n",
    "Lg4 = V.jacobian(q) # partial of U in q\n",
    "\n",
    "# put it all together\n",
    "EOM = Lg1 - Lg3 + Lg4 - Qall.transpose()\n",
    "\n",
    "EOM[1].simplify()\n",
    "EOM = sym.simplify(EOM)\n",
    "display(EOM)"
   ]
  },
  {
   "cell_type": "markdown",
   "metadata": {},
   "source": [
    "# Pyomo stuff"
   ]
  },
  {
   "cell_type": "code",
   "execution_count": 34,
   "metadata": {},
   "outputs": [
    {
     "name": "stdout",
     "output_type": "stream",
     "text": [
      "ERROR: evaluating object as numeric value: ddq[2,1]\n",
      "        (object: <class 'pyomo.core.base.var.VarData'>)\n",
      "    No value for uninitialized NumericValue object ddq[2,1]\n",
      "ERROR: Constructing component 'update_torque_voltage' from data=None failed:\n",
      "        ValueError: No value for uninitialized NumericValue object ddq[2,1]\n"
     ]
    },
    {
     "ename": "ValueError",
     "evalue": "No value for uninitialized NumericValue object ddq[2,1]",
     "output_type": "error",
     "traceback": [
      "\u001b[0;31m---------------------------------------------------------------------------\u001b[0m",
      "\u001b[0;31mValueError\u001b[0m                                Traceback (most recent call last)",
      "Cell \u001b[0;32mIn[34], line 46\u001b[0m\n\u001b[1;32m     43\u001b[0m         m\u001b[38;5;241m.\u001b[39mVc[i] \u001b[38;5;241m=\u001b[39m voltage\n\u001b[1;32m     45\u001b[0m \u001b[38;5;66;03m# Call this function after each iteration or when needed\u001b[39;00m\n\u001b[0;32m---> 46\u001b[0m m\u001b[38;5;241m.\u001b[39mupdate_torque_voltage \u001b[38;5;241m=\u001b[39m BuildAction(rule\u001b[38;5;241m=\u001b[39mupdate_torque_voltage)\n\u001b[1;32m     50\u001b[0m \u001b[38;5;66;03m# Integration constraints---------------------------------\u001b[39;00m\n\u001b[1;32m     51\u001b[0m \u001b[38;5;66;03m## positions-------------\u001b[39;00m\n\u001b[1;32m     52\u001b[0m \u001b[38;5;28;01mdef\u001b[39;00m \u001b[38;5;21mBwEuler_p\u001b[39m(m,n,l): \u001b[38;5;66;03m# for positions\u001b[39;00m\n",
      "File \u001b[0;32m~/.local/lib/python3.12/site-packages/pyomo/core/base/block.py:571\u001b[0m, in \u001b[0;36mBlockData.__setattr__\u001b[0;34m(self, name, val)\u001b[0m\n\u001b[1;32m    566\u001b[0m \u001b[38;5;28;01mif\u001b[39;00m name \u001b[38;5;129;01mnot\u001b[39;00m \u001b[38;5;129;01min\u001b[39;00m \u001b[38;5;28mself\u001b[39m\u001b[38;5;241m.\u001b[39m\u001b[38;5;18m__dict__\u001b[39m:\n\u001b[1;32m    567\u001b[0m     \u001b[38;5;28;01mif\u001b[39;00m \u001b[38;5;28misinstance\u001b[39m(val, Component):\n\u001b[1;32m    568\u001b[0m         \u001b[38;5;66;03m#\u001b[39;00m\n\u001b[1;32m    569\u001b[0m         \u001b[38;5;66;03m# Pyomo components are added with the add_component method.\u001b[39;00m\n\u001b[1;32m    570\u001b[0m         \u001b[38;5;66;03m#\u001b[39;00m\n\u001b[0;32m--> 571\u001b[0m         \u001b[38;5;28mself\u001b[39m\u001b[38;5;241m.\u001b[39madd_component(name, val)\n\u001b[1;32m    572\u001b[0m     \u001b[38;5;28;01melse\u001b[39;00m:\n\u001b[1;32m    573\u001b[0m         \u001b[38;5;66;03m#\u001b[39;00m\n\u001b[1;32m    574\u001b[0m         \u001b[38;5;66;03m# Other Python objects are added with the standard __setattr__\u001b[39;00m\n\u001b[1;32m    575\u001b[0m         \u001b[38;5;66;03m# method.\u001b[39;00m\n\u001b[1;32m    576\u001b[0m         \u001b[38;5;66;03m#\u001b[39;00m\n\u001b[1;32m    577\u001b[0m         \u001b[38;5;28msuper\u001b[39m(BlockData, \u001b[38;5;28mself\u001b[39m)\u001b[38;5;241m.\u001b[39m\u001b[38;5;21m__setattr__\u001b[39m(name, val)\n",
      "File \u001b[0;32m~/.local/lib/python3.12/site-packages/pyomo/core/base/block.py:1105\u001b[0m, in \u001b[0;36mBlockData.add_component\u001b[0;34m(self, name, val)\u001b[0m\n\u001b[1;32m   1097\u001b[0m     logger\u001b[38;5;241m.\u001b[39mdebug(\n\u001b[1;32m   1098\u001b[0m         \u001b[38;5;124m\"\u001b[39m\u001b[38;5;124mConstructing \u001b[39m\u001b[38;5;132;01m%s\u001b[39;00m\u001b[38;5;124m \u001b[39m\u001b[38;5;124m'\u001b[39m\u001b[38;5;132;01m%s\u001b[39;00m\u001b[38;5;124m'\u001b[39m\u001b[38;5;124m on \u001b[39m\u001b[38;5;132;01m%s\u001b[39;00m\u001b[38;5;124m from data=\u001b[39m\u001b[38;5;132;01m%s\u001b[39;00m\u001b[38;5;124m\"\u001b[39m,\n\u001b[1;32m   1099\u001b[0m         val\u001b[38;5;241m.\u001b[39m\u001b[38;5;18m__class__\u001b[39m\u001b[38;5;241m.\u001b[39m\u001b[38;5;18m__name__\u001b[39m,\n\u001b[0;32m   (...)\u001b[0m\n\u001b[1;32m   1102\u001b[0m         \u001b[38;5;28mstr\u001b[39m(data),\n\u001b[1;32m   1103\u001b[0m     )\n\u001b[1;32m   1104\u001b[0m \u001b[38;5;28;01mtry\u001b[39;00m:\n\u001b[0;32m-> 1105\u001b[0m     val\u001b[38;5;241m.\u001b[39mconstruct(data)\n\u001b[1;32m   1106\u001b[0m \u001b[38;5;28;01mexcept\u001b[39;00m:\n\u001b[1;32m   1107\u001b[0m     err \u001b[38;5;241m=\u001b[39m sys\u001b[38;5;241m.\u001b[39mexc_info()[\u001b[38;5;241m1\u001b[39m]\n",
      "File \u001b[0;32m~/.local/lib/python3.12/site-packages/pyomo/core/base/action.py:72\u001b[0m, in \u001b[0;36mBuildAction.construct\u001b[0;34m(self, data)\u001b[0m\n\u001b[1;32m     69\u001b[0m \u001b[38;5;66;03m#\u001b[39;00m\n\u001b[1;32m     70\u001b[0m \u001b[38;5;28;01mif\u001b[39;00m \u001b[38;5;129;01mnot\u001b[39;00m \u001b[38;5;28mself\u001b[39m\u001b[38;5;241m.\u001b[39mis_indexed():\n\u001b[1;32m     71\u001b[0m     \u001b[38;5;66;03m# Scalar component\u001b[39;00m\n\u001b[0;32m---> 72\u001b[0m     \u001b[38;5;28mself\u001b[39m\u001b[38;5;241m.\u001b[39m_rule(\u001b[38;5;28mself\u001b[39m\u001b[38;5;241m.\u001b[39m_parent())\n\u001b[1;32m     73\u001b[0m \u001b[38;5;28;01melse\u001b[39;00m:\n\u001b[1;32m     74\u001b[0m     \u001b[38;5;66;03m# Indexed component\u001b[39;00m\n\u001b[1;32m     75\u001b[0m     \u001b[38;5;28;01mfor\u001b[39;00m index \u001b[38;5;129;01min\u001b[39;00m \u001b[38;5;28mself\u001b[39m\u001b[38;5;241m.\u001b[39m_index_set:\n",
      "Cell \u001b[0;32mIn[34], line 42\u001b[0m, in \u001b[0;36mupdate_torque_voltage\u001b[0;34m(m)\u001b[0m\n\u001b[1;32m     40\u001b[0m \u001b[38;5;28;01mfor\u001b[39;00m i \u001b[38;5;129;01min\u001b[39;00m m\u001b[38;5;241m.\u001b[39mN:\n\u001b[1;32m     41\u001b[0m     torque, voltage \u001b[38;5;241m=\u001b[39m calculate_torque_voltage(i, m)\n\u001b[0;32m---> 42\u001b[0m     m\u001b[38;5;241m.\u001b[39mTc[i] \u001b[38;5;241m=\u001b[39m torque\n\u001b[1;32m     43\u001b[0m     m\u001b[38;5;241m.\u001b[39mVc[i] \u001b[38;5;241m=\u001b[39m voltage\n",
      "File \u001b[0;32m~/.local/lib/python3.12/site-packages/pyomo/core/base/indexed_component.py:714\u001b[0m, in \u001b[0;36mIndexedComponent.__setitem__\u001b[0;34m(self, index, val)\u001b[0m\n\u001b[1;32m    712\u001b[0m obj \u001b[38;5;241m=\u001b[39m \u001b[38;5;28mself\u001b[39m\u001b[38;5;241m.\u001b[39m_data\u001b[38;5;241m.\u001b[39mget(index, _NotFound)\n\u001b[1;32m    713\u001b[0m \u001b[38;5;28;01mif\u001b[39;00m obj \u001b[38;5;129;01mis\u001b[39;00m _NotFound:\n\u001b[0;32m--> 714\u001b[0m     \u001b[38;5;28;01mreturn\u001b[39;00m \u001b[38;5;28mself\u001b[39m\u001b[38;5;241m.\u001b[39m_setitem_when_not_present(index, val)\n\u001b[1;32m    715\u001b[0m \u001b[38;5;28;01melse\u001b[39;00m:\n\u001b[1;32m    716\u001b[0m     \u001b[38;5;28;01mreturn\u001b[39;00m \u001b[38;5;28mself\u001b[39m\u001b[38;5;241m.\u001b[39m_setitem_impl(index, obj, val)\n",
      "File \u001b[0;32m~/.local/lib/python3.12/site-packages/pyomo/core/base/param.py:732\u001b[0m, in \u001b[0;36mParam._setitem_when_not_present\u001b[0;34m(self, index, value, _check_domain)\u001b[0m\n\u001b[1;32m    730\u001b[0m \u001b[38;5;28;01mif\u001b[39;00m value\u001b[38;5;241m.\u001b[39m\u001b[38;5;18m__class__\u001b[39m \u001b[38;5;129;01mnot\u001b[39;00m \u001b[38;5;129;01min\u001b[39;00m native_types:\n\u001b[1;32m    731\u001b[0m     \u001b[38;5;28;01mif\u001b[39;00m \u001b[38;5;28misinstance\u001b[39m(value, NumericValue):\n\u001b[0;32m--> 732\u001b[0m         value \u001b[38;5;241m=\u001b[39m value()\n\u001b[1;32m    734\u001b[0m \u001b[38;5;66;03m#\u001b[39;00m\n\u001b[1;32m    735\u001b[0m \u001b[38;5;66;03m# Set the value depending on the type of param value.\u001b[39;00m\n\u001b[1;32m    736\u001b[0m \u001b[38;5;66;03m#\u001b[39;00m\n\u001b[1;32m    737\u001b[0m \u001b[38;5;28;01mtry\u001b[39;00m:\n",
      "File \u001b[0;32m~/.local/lib/python3.12/site-packages/pyomo/core/expr/base.py:118\u001b[0m, in \u001b[0;36mExpressionBase.__call__\u001b[0;34m(self, exception)\u001b[0m\n\u001b[1;32m    103\u001b[0m \u001b[38;5;28;01mdef\u001b[39;00m \u001b[38;5;21m__call__\u001b[39m(\u001b[38;5;28mself\u001b[39m, exception\u001b[38;5;241m=\u001b[39m\u001b[38;5;28;01mTrue\u001b[39;00m):\n\u001b[1;32m    104\u001b[0m \u001b[38;5;250m    \u001b[39m\u001b[38;5;124;03m\"\"\"Evaluate the value of the expression tree.\u001b[39;00m\n\u001b[1;32m    105\u001b[0m \n\u001b[1;32m    106\u001b[0m \u001b[38;5;124;03m    Parameters\u001b[39;00m\n\u001b[0;32m   (...)\u001b[0m\n\u001b[1;32m    116\u001b[0m \n\u001b[1;32m    117\u001b[0m \u001b[38;5;124;03m    \"\"\"\u001b[39;00m\n\u001b[0;32m--> 118\u001b[0m     \u001b[38;5;28;01mreturn\u001b[39;00m visitor\u001b[38;5;241m.\u001b[39mevaluate_expression(\u001b[38;5;28mself\u001b[39m, exception)\n",
      "File \u001b[0;32m~/.local/lib/python3.12/site-packages/pyomo/core/expr/visitor.py:1296\u001b[0m, in \u001b[0;36mevaluate_expression\u001b[0;34m(exp, exception, constant)\u001b[0m\n\u001b[1;32m   1293\u001b[0m         clear_active \u001b[38;5;241m=\u001b[39m \u001b[38;5;28;01mTrue\u001b[39;00m\n\u001b[1;32m   1295\u001b[0m \u001b[38;5;28;01mtry\u001b[39;00m:\n\u001b[0;32m-> 1296\u001b[0m     ans \u001b[38;5;241m=\u001b[39m visitor\u001b[38;5;241m.\u001b[39mdfs_postorder_stack(exp)\n\u001b[1;32m   1297\u001b[0m \u001b[38;5;28;01mexcept\u001b[39;00m (\n\u001b[1;32m   1298\u001b[0m     TemplateExpressionError,\n\u001b[1;32m   1299\u001b[0m     \u001b[38;5;167;01mValueError\u001b[39;00m,\n\u001b[0;32m   (...)\u001b[0m\n\u001b[1;32m   1312\u001b[0m     \u001b[38;5;66;03m#   TypeError: This can be raised in Python3 when evaluating a\u001b[39;00m\n\u001b[1;32m   1313\u001b[0m     \u001b[38;5;66;03m#      operation returns a complex number (e.g., sqrt(-1))\u001b[39;00m\n\u001b[1;32m   1314\u001b[0m     \u001b[38;5;28;01mif\u001b[39;00m exception:\n",
      "File \u001b[0;32m~/.local/lib/python3.12/site-packages/pyomo/core/expr/visitor.py:919\u001b[0m, in \u001b[0;36mExpressionValueVisitor.dfs_postorder_stack\u001b[0;34m(self, node)\u001b[0m\n\u001b[1;32m    917\u001b[0m _sub \u001b[38;5;241m=\u001b[39m _argList[_idx]\n\u001b[1;32m    918\u001b[0m _idx \u001b[38;5;241m+\u001b[39m\u001b[38;5;241m=\u001b[39m \u001b[38;5;241m1\u001b[39m\n\u001b[0;32m--> 919\u001b[0m flag, value \u001b[38;5;241m=\u001b[39m \u001b[38;5;28mself\u001b[39m\u001b[38;5;241m.\u001b[39mvisiting_potential_leaf(_sub)\n\u001b[1;32m    920\u001b[0m \u001b[38;5;28;01mif\u001b[39;00m flag:\n\u001b[1;32m    921\u001b[0m     _result\u001b[38;5;241m.\u001b[39mappend(value)\n",
      "File \u001b[0;32m~/.local/lib/python3.12/site-packages/pyomo/core/expr/visitor.py:1201\u001b[0m, in \u001b[0;36m_EvaluationVisitor.visiting_potential_leaf\u001b[0;34m(self, node)\u001b[0m\n\u001b[1;32m   1198\u001b[0m     \u001b[38;5;28;01mreturn\u001b[39;00m \u001b[38;5;28;01mFalse\u001b[39;00m, \u001b[38;5;28;01mNone\u001b[39;00m\n\u001b[1;32m   1200\u001b[0m \u001b[38;5;28;01mif\u001b[39;00m node\u001b[38;5;241m.\u001b[39mis_numeric_type():\n\u001b[0;32m-> 1201\u001b[0m     \u001b[38;5;28;01mreturn\u001b[39;00m \u001b[38;5;28;01mTrue\u001b[39;00m, value(node, exception\u001b[38;5;241m=\u001b[39m\u001b[38;5;28mself\u001b[39m\u001b[38;5;241m.\u001b[39mexception)\n\u001b[1;32m   1202\u001b[0m \u001b[38;5;28;01melif\u001b[39;00m node\u001b[38;5;241m.\u001b[39mis_logical_type():\n\u001b[1;32m   1203\u001b[0m     \u001b[38;5;28;01mreturn\u001b[39;00m \u001b[38;5;28;01mTrue\u001b[39;00m, value(node, exception\u001b[38;5;241m=\u001b[39m\u001b[38;5;28mself\u001b[39m\u001b[38;5;241m.\u001b[39mexception)\n",
      "File \u001b[0;32m~/.local/lib/python3.12/site-packages/pyomo/common/numeric_types.py:384\u001b[0m, in \u001b[0;36mvalue\u001b[0;34m(obj, exception)\u001b[0m\n\u001b[1;32m    382\u001b[0m     tmp \u001b[38;5;241m=\u001b[39m obj(exception\u001b[38;5;241m=\u001b[39m\u001b[38;5;28;01mTrue\u001b[39;00m)\n\u001b[1;32m    383\u001b[0m     \u001b[38;5;28;01mif\u001b[39;00m tmp \u001b[38;5;129;01mis\u001b[39;00m \u001b[38;5;28;01mNone\u001b[39;00m:\n\u001b[0;32m--> 384\u001b[0m         \u001b[38;5;28;01mraise\u001b[39;00m \u001b[38;5;167;01mValueError\u001b[39;00m(\n\u001b[1;32m    385\u001b[0m             \u001b[38;5;124m\"\u001b[39m\u001b[38;5;124mNo value for uninitialized NumericValue object \u001b[39m\u001b[38;5;132;01m%s\u001b[39;00m\u001b[38;5;124m\"\u001b[39m \u001b[38;5;241m%\u001b[39m (obj\u001b[38;5;241m.\u001b[39mname,)\n\u001b[1;32m    386\u001b[0m         )\n\u001b[1;32m    387\u001b[0m     \u001b[38;5;28;01mreturn\u001b[39;00m tmp\n\u001b[1;32m    388\u001b[0m \u001b[38;5;28;01mexcept\u001b[39;00m TemplateExpressionError:\n\u001b[1;32m    389\u001b[0m     \u001b[38;5;66;03m# Template expressions work by catching this error type. So\u001b[39;00m\n\u001b[1;32m    390\u001b[0m     \u001b[38;5;66;03m# we should defer this error handling and not log an error\u001b[39;00m\n\u001b[1;32m    391\u001b[0m     \u001b[38;5;66;03m# message.\u001b[39;00m\n",
      "\u001b[0;31mValueError\u001b[0m: No value for uninitialized NumericValue object ddq[2,1]"
     ]
    }
   ],
   "source": [
    "from pyomo.environ import*\n",
    "from pyomo.opt import SolverFactory\n",
    "from pyomo.opt import SolverStatus, TerminationCondition\n",
    "\n",
    "# Create model\n",
    "m = ConcreteModel()\n",
    "\n",
    "# Model parameters\n",
    "N = 100 # number of points in the trajectory\n",
    "m.N = RangeSet(N)\n",
    "m.L = RangeSet(2)\n",
    "\n",
    "# initialise some parameters\n",
    "m.g   = Param(initialize = 9.81) # gravity\n",
    "m.X0  = Param(initialize = 0.00) # Base position\n",
    "m.Y0  = Param(initialize = 0.00)\n",
    "m.Z0  = Param(initialize = 0.00)\n",
    "m.h   = Param(initialize = 0.02) # timestep\n",
    "m.m   = Param(m.L, initialize={1: 0.095, 2: 0.024})  # mass of links (kg)\n",
    "m.len = Param(m.L, initialize={1: 0.085, 2: 0.129})  # length of links (m)\n",
    "\n",
    "\n",
    "# Moment of inertia calculation\n",
    "calculate_In = lambda m, l: m.m[l]*m.len[l]**2/12\n",
    "m.In = Param(m.L, initialize = calculate_In) # moment of inertia\n",
    "\n",
    "# Variables\n",
    "m.q   = Var(m.N, m.L) # position\n",
    "m.dq  = Var(m.N, m.L) # velocity\n",
    "m.ddq = Var(m.N, m.L) # acceleration\n",
    "\n",
    "# define torque and voltage\n",
    "m.Tc = Var(m.N) # torque\n",
    "\n",
    "\n",
    "# Integration constraints---------------------------------\n",
    "## positions-------------\n",
    "def BwEuler_p(m,n,l): # for positions\n",
    "    if n > 1:\n",
    "        return m.q[n,l] == m.q[n-1,l] + m.h*m.dq[n-1,l]\n",
    "    else:\n",
    "        return Constraint.Skip #use this to leave out members of a set that the constraint doesn't apply to\n",
    "\n",
    "m.integrate_p = Constraint(m.N, m.L, rule = BwEuler_p)\n",
    "\n",
    "## velocities-------------\n",
    "def BwEuler_v(m,n,l): # for velocities\n",
    "    if n > 1:\n",
    "        return m.dq[n,l] == m.dq[n-1,l] + m.h*m.ddq[n-1,l]\n",
    "    else:\n",
    "        return Constraint.Skip \n",
    "\n",
    "m.integrate_v = Constraint(m.N, m.L, rule = BwEuler_v)\n",
    "\n",
    "\n",
    "\n",
    "func_map = {'sin':sin, 'cos':cos}\n",
    "\n",
    "sym_list = [g,\n",
    "            mA , mP,\n",
    "            La , Lp,\n",
    "            InA,InP,\n",
    "            X0, Y0, Z0,\n",
    "            th  ,   alph,\n",
    "            dth ,  dalph,\n",
    "            ddth, ddalph,\n",
    "            tau]\n",
    "\n",
    "lambEOM = {}\n",
    "for i in range(1,3):\n",
    "    lambEOM[i] = sym.lambdify(sym_list, EOM[i-1], modules = [func_map])\n",
    "\n",
    "def dynamics(m, n, l):\n",
    "    var_list = [m.g,\n",
    "            m.m[1] , m.m[2],\n",
    "            m.len[1] , m.len[2],\n",
    "            m.In[1]  , m.In[2],\n",
    "            m.X0, m.Y0, m.Z0,\n",
    "            m.q[n, 1]   ,    m.q[n, 2],\n",
    "            m.dq[n, 1]  ,   m.dq[n, 2],\n",
    "            m.ddq[n, 1] ,  m.ddq[n, 2],\n",
    "            m.Tc[n]]\n",
    "    return lambEOM[l](*var_list) == 0\n",
    "m.dynamics = Constraint(m.N, m.L, rule = dynamics)\n",
    "\n",
    "# motor model-------------------------------------\n",
    "## add motor model here\n"
   ]
  },
  {
   "cell_type": "code",
   "execution_count": null,
   "metadata": {},
   "outputs": [],
   "source": [
    "# Cost function\n",
    "def CostFun(m):\n",
    "    torque_sum = sum(m.Tc[n]**2 for n in m.N)\n",
    "    return torque_sum\n",
    "\n",
    "m.Cost = Objective(rule = CostFun)\n",
    "\n",
    "\n",
    "# Variable bounds-----------------------\n",
    "AB = np.pi/2 # arm angle bounds\n",
    "PB = np.pi   # pen angle bounds\n",
    "\n",
    "bounds = {1: (-AB, AB),\n",
    "          2: (-PB, PB)}\n",
    "\n",
    "for n in range(1, N+1):\n",
    "    m.Vc[n].setlb(-10)\n",
    "    m.Vc[n].setub( 10)\n",
    "    for link, (lb, ub) in bounds.items():\n",
    "        m.q[n, link].setlb(lb)\n",
    "        m.q[n, link].setub(ub)\n",
    "\n",
    "# Conditions-------------------------------\n",
    "## Initial conditions\n",
    "m.q[1, 1].fix(0)\n",
    "m.q[1, 2].fix(np.pi)\n",
    "m.dq[1, 1].fix(0)\n",
    "m.dq[1, 2].fix(0)\n",
    "\n",
    "## final conditions\n",
    "m.q[N, 1].fix(0) # final position in the middle\n",
    "m.q[N, 2].fix(0) # final angle position (upright)\n",
    "m.dq[N, 1].fix(0)    # final speed (0)\n",
    "m.dq[N, 2].fix(0)    # final acceleration (0)"
   ]
  },
  {
   "cell_type": "code",
   "execution_count": null,
   "metadata": {},
   "outputs": [],
   "source": [
    "# solving\n",
    "opt = SolverFactory('ipopt') # standard issue, garden variety ipopt\n",
    "\n",
    "# If you've managed to install your own version of ipopt, you can call it like:\n",
    "#opt = SolverFactory('ipopt',executable = 'C:/cygwin64/home/Stacey/CoinIpopt/build/bin/ipopt.exe')\n",
    "#opt.options[\"linear_solver\"] = 'ma86'\n",
    "\n",
    "# solver options\n",
    "opt.options[\"print_level\"]  = 5 # prints a log with each iteration (you want to this - it's the only way to see progress.)\n",
    "opt.options[\"max_iter\"]     = 30000 # maximum number of iterations\n",
    "opt.options[\"max_cpu_time\"] = 300 # maximum cpu time in seconds\n",
    "opt.options[\"Tol\"]          = 1e-6 # the tolerance for feasibility. Considers constraints satisfied when they're within this margin.\n",
    "    \n",
    "results = opt.solve(m, tee = True)"
   ]
  },
  {
   "cell_type": "code",
   "execution_count": null,
   "metadata": {},
   "outputs": [],
   "source": [
    "# For debugging:\n",
    "print(results.solver.status) # tells you if the solver had any errors/ warnings\n",
    "print(results.solver.termination_condition) # tells you if the solution was (locally) optimal, feasible, or neither.\n",
    "\n",
    "# If you want a full print-out of everything going on with your model, use:\n",
    "#m.pprint() \n",
    "\n",
    "# This is your best friend when it comes to figuring out why something's not converging, why the solution looks weird, etc.\n",
    "# It's probably most handy if you print it to a file:\n",
    "#instance.pprint(filename='blah.txt')\n",
    "\n",
    "# You can also pretty print individual elements of the model. e.g.\n",
    "m.q.pprint()\n",
    "\n",
    "# export trajectories\n",
    "def write_trajectory_to_csv(m, filename, decimal_places=6):\n",
    "    with open(filename, 'w', newline='') as file:\n",
    "        writer = csv.writer(file)\n",
    "        \n",
    "        # Write header\n",
    "        writer.writerow(['Time', 'Arm Angle', 'Pendulum Angle', 'Arm Velocity', 'Pendulum Velocity' , 'Torque'])\n",
    "        \n",
    "        for n in m.N:\n",
    "            torque, voltage = calculate_torque_voltage(n, m)\n",
    "            row = [\n",
    "                round(m.h.value * (n-1), decimal_places),  # Time\n",
    "                round(m.q[n, 1].value, decimal_places),   # Arm angle (theta)\n",
    "                round(m.q[n, 2].value, decimal_places),   # Pendulum angle (alpha)\n",
    "                round(m.dq[n, 1].value, decimal_places),  # Arm angular velocity\n",
    "                round(m.dq[n, 2].value, decimal_places),  # Pendulum angular velocity\n",
    "                round(m.Tc[n].value, decimal_places)       # torque\n",
    "            ]\n",
    "            writer.writerow(row)\n",
    "\n",
    "\n",
    "# # Usage:\n",
    "write_trajectory_to_csv(m, 'trajectory.csv', decimal_places=4)"
   ]
  },
  {
   "cell_type": "markdown",
   "metadata": {},
   "source": [
    "# Animation"
   ]
  },
  {
   "cell_type": "code",
   "execution_count": null,
   "metadata": {},
   "outputs": [],
   "source": [
    "import matplotlib.pyplot as plt\n",
    "import matplotlib.animation as ani\n",
    "import numpy as np\n",
    "from mpl_toolkits.mplot3d import Axes3D\n",
    "from IPython.display import HTML\n",
    "\n",
    "# Create the figure and subplots for XY, XZ, YZ planes, and a 3D plot\n",
    "fig = plt.figure()\n",
    "ax = fig.add_subplot(111, projection='3d')  # 3D plot\n",
    "\n",
    "def plot_pendulum(i, m):  \n",
    "    # Clear previous plots\n",
    "    ax.clear()\n",
    "    \n",
    "    # Set limits and titles for each axis\n",
    "    lim = 0.2\n",
    "    ax.set_xlim([-lim, lim])\n",
    "    ax.set_ylim([-lim, lim])\n",
    "    ax.set_zlim([-lim, lim])\n",
    "    ax.set_xlabel('X-axis', color='red')\n",
    "    ax.set_ylabel('Y-axis', color='blue')\n",
    "    ax.set_zlabel('Z-axis', color='green')\n",
    "    ax.grid(True)\n",
    "\n",
    "    # Calculate positions for the pendulum\n",
    "    L1bottomx = m.X0.value + m.len[1] * np.cos(m.q[i,1].value)\n",
    "    L1bottomy = m.Y0.value - m.len[1] * np.sin(m.q[i,1].value)\n",
    "    L1bottomz = m.Z0.value\n",
    "\n",
    "    L2bottomx = L1bottomx + m.len[2] * np.sin(m.q[i,1].value) * np.sin(m.q[i,2].value)\n",
    "    L2bottomy = L1bottomy + m.len[2] * np.sin(m.q[i,1].value) * np.cos(m.q[i,2].value)\n",
    "    L2bottomz = L1bottomz + m.len[2] * np.cos(m.q[i,2].value)\n",
    "\n",
    "    # Plot in 3D\n",
    "    ax.plot([m.X0.value, L1bottomx], [m.Y0.value, L1bottomy], [m.Z0.value, L1bottomz], color='xkcd:blue')\n",
    "    ax.plot([L1bottomx, L2bottomx], [L1bottomy, L2bottomy], [L1bottomz, L2bottomz], color='xkcd:red')\n",
    "\n",
    "# Update function for the animation\n",
    "update = lambda i: plot_pendulum(i, m)\n",
    "\n",
    "# Create animation\n",
    "animate = ani.FuncAnimation(fig, update, range(1,N+1), interval=50, repeat=True)\n",
    "\n",
    "# Embed the animation in the notebook\n",
    "HTML(animate.to_html5_video())"
   ]
  },
  {
   "cell_type": "code",
   "execution_count": null,
   "metadata": {},
   "outputs": [],
   "source": []
  }
 ],
 "metadata": {
  "kernelspec": {
   "display_name": "Python 3 (ipykernel)",
   "language": "python",
   "name": "python3"
  },
  "language_info": {
   "codemirror_mode": {
    "name": "ipython",
    "version": 3
   },
   "file_extension": ".py",
   "mimetype": "text/x-python",
   "name": "python",
   "nbconvert_exporter": "python",
   "pygments_lexer": "ipython3",
   "version": "3.12.2"
  }
 },
 "nbformat": 4,
 "nbformat_minor": 4
}
