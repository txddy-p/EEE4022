{
 "cells": [
  {
   "cell_type": "markdown",
   "id": "0c5b497d",
   "metadata": {},
   "source": [
    "# Box pendulum\n",
    "- This is modelling for the rotary pendulum\n",
    "- $m_P$ is the mass of the pendulum\n",
    "- $m_A$ is the mass of the Arm\n",
    "- $\\theta$ is the angle made by the arm from the principal axis\n",
    "- $\\alpha$ is the angle made by the pendulum from the z axis of the arm"
   ]
  },
  {
   "cell_type": "markdown",
   "id": "d76ea7e3",
   "metadata": {},
   "source": [
    "## Motor Parameters"
   ]
  },
  {
   "cell_type": "code",
   "execution_count": 1,
   "id": "8c0eca91",
   "metadata": {},
   "outputs": [],
   "source": [
    "mar = 0.095 #kg\n",
    "lar = 0.085 #m\n",
    "mpr = 0.024 #kg\n",
    "lpr = 0.129 #m\n",
    "\n",
    "# Motor Parameters\n",
    "V_nom = 18.0       # Nominal input voltage (V)\n",
    "tau_nom = 22.0/1000     # Nominal torque (mN-m) (Note: Convert to N-m)\n",
    "omega_nom = 3050   # Nominal speed (RPM)\n",
    "I_nom = 0.54       # Nominal current (A)\n",
    "R_m = 8.4          # Terminal resistance (Ohms)\n",
    "k_t = 0.042        # Torque constant (N-m/A)\n",
    "k_m = 0.042        # Motor back-emf constant (V/(rad/s))\n",
    "J_m = 0.000004     # Rotor inertia (kg-m^2)\n",
    "L_m = 1.16e-3      # Rotor inductance (H)\n",
    "\n",
    "# torque and voltage\n",
    "# def calculate_torque_voltage(th, dth, ddth, J_arm):\n",
    "#     # Step 1: Combine the motor's rotor inertia and the arm's inertia\n",
    "#     J_total = J_m + J_arm\n",
    "    \n",
    "#     # Step 2: Calculate the required torque to rotate the arm (from acceleration)\n",
    "#     torque = J_total * ddth  # Torque based on combined inertia and angular acceleration\n",
    "    \n",
    "#     # Step 3: Calculate the current required for the torque\n",
    "#     current = torque / k_t\n",
    "    \n",
    "#     # Step 4: Calculate the motor's voltage, including the back-emf term\n",
    "#     voltage = current * R_m + k_m * dth  # Voltage = IR + back-emf\n",
    "    \n",
    "#     return torque, voltage\n",
    "\n",
    "def calculate_torque_voltage(i, m):\n",
    "    # Step 1: Combine the motor's rotor inertia and the arm's inertia\n",
    "    J_total = value(m.In[1]) + J_m\n",
    "    \n",
    "    # Step 2: Calculate the required torque to rotate the arm (from acceleration)\n",
    "    if i > 1:\n",
    "        torque = J_total * m.ddth[i, 1]\n",
    "    else:\n",
    "        torque = 0  # or some initial value\n",
    "    \n",
    "    # Step 3: Calculate the current required for the torque\n",
    "    current = torque / k_t\n",
    "    \n",
    "    # Step 4: Calculate the motor's voltage, including the back-emf term\n",
    "    if i > 1:\n",
    "        voltage = current * R_m + k_m * m.dth[i, 1]\n",
    "    else:\n",
    "        voltage = 0  # or some initial value\n",
    "    \n",
    "    return torque, voltage\n"
   ]
  },
  {
   "cell_type": "markdown",
   "id": "8299c12b",
   "metadata": {},
   "source": [
    "## Rotation Matrices and functions"
   ]
  },
  {
   "cell_type": "code",
   "execution_count": 2,
   "id": "e4d46cce-aad3-4086-9598-f1bde4505488",
   "metadata": {},
   "outputs": [],
   "source": [
    "# Rotation matrices\n",
    "import sympy as sym\n",
    "import numpy as np\n",
    "from IPython.display import display #for pretty printing\n",
    "import csv\n",
    "\n",
    "# Define the rotation matrices as functions, counterclockwise rotation\n",
    "# axes system is defined similar to the one used for making the 3d plots\n",
    "def rotX(th):\n",
    "    return sym.Matrix([ [1.0,         0.0,          0.0],\n",
    "                        [0.0, sym.cos(th), -sym.sin(th)],\n",
    "                        [0.0, sym.sin(th),  sym.cos(th)]])\n",
    "\n",
    "def rotY(th):\n",
    "    return sym.Matrix([ [ sym.cos(th), 0.0, sym.sin(th)],\n",
    "                        [ 0.0,         1.0,         0.0],\n",
    "                        [-sym.sin(th), 0.0, sym.cos(th)]])\n",
    "\n",
    "def rotZ(th):\n",
    "    return sym.Matrix([ [sym.cos(th), -sym.sin(th), 0.0],\n",
    "                        [sym.sin(th),  sym.cos(th), 0.0],\n",
    "                        [0.0,    0.0,               1.0]])"
   ]
  },
  {
   "cell_type": "markdown",
   "id": "bbf40b47",
   "metadata": {},
   "source": [
    "## Dynamic Model"
   ]
  },
  {
   "cell_type": "code",
   "execution_count": 3,
   "id": "1103d436",
   "metadata": {},
   "outputs": [
    {
     "data": {
      "text/latex": [
       "$\\displaystyle \\left[\\begin{matrix}\\ddot{\\theta}\\\\\\ddot{\\alpha}\\end{matrix}\\right]$"
      ],
      "text/plain": [
       "Matrix([\n",
       "[\\ddot{\\theta}],\n",
       "[\\ddot{\\alpha}]])"
      ]
     },
     "metadata": {},
     "output_type": "display_data"
    },
    {
     "data": {
      "text/latex": [
       "$\\displaystyle \\left[\\begin{matrix}0.5 l_{A} \\cos{\\left(\\theta \\right)}\\\\- 0.5 l_{A} \\sin{\\left(\\theta \\right)}\\\\0\\end{matrix}\\right]$"
      ],
      "text/plain": [
       "Matrix([\n",
       "[ 0.5*l_A*cos(\\theta)],\n",
       "[-0.5*l_A*sin(\\theta)],\n",
       "[                   0]])"
      ]
     },
     "metadata": {},
     "output_type": "display_data"
    },
    {
     "data": {
      "text/latex": [
       "$\\displaystyle \\left[\\begin{matrix}1.0 l_{A} \\cos{\\left(\\theta \\right)} + 0.5 l_{P} \\sin{\\left(\\alpha \\right)} \\sin{\\left(\\theta \\right)}\\\\- 1.0 l_{A} \\sin{\\left(\\theta \\right)} + 0.5 l_{P} \\sin{\\left(\\alpha \\right)} \\cos{\\left(\\theta \\right)}\\\\0.5 l_{P} \\cos{\\left(\\alpha \\right)}\\end{matrix}\\right]$"
      ],
      "text/plain": [
       "Matrix([\n",
       "[ 1.0*l_A*cos(\\theta) + 0.5*l_P*sin(\\alpha)*sin(\\theta)],\n",
       "[-1.0*l_A*sin(\\theta) + 0.5*l_P*sin(\\alpha)*cos(\\theta)],\n",
       "[                                   0.5*l_P*cos(\\alpha)]])"
      ]
     },
     "metadata": {},
     "output_type": "display_data"
    }
   ],
   "source": [
    "# create symbolic variables\n",
    "\n",
    "# system parameters\n",
    "X0, Y0, Z0 = sym.symbols(['X0','Y0', 'Z0']) # fixed position of Arm\n",
    "g = sym.symbols('g')\n",
    "\n",
    "mH, Lh, InH = sym.symbols(['m_H', 'l_H', 'I_H']) # Hub\n",
    "mA, La, InA = sym.symbols(['m_A', 'l_A', 'I_A']) # Arm\n",
    "mP, Lp, InP = sym.symbols(['m_P', 'l_P', 'I_P']) # Pen\n",
    "\n",
    "# generalized coordinates\n",
    "th, dth, ddth       = sym.symbols(['\\\\theta', '\\\\dot{\\\\theta}', '\\\\ddot{\\\\theta}'])\n",
    "alph, dalph, ddalph = sym.symbols(['\\\\alpha', '\\\\dot{\\\\alpha}', '\\\\ddot{\\\\alpha}'])\n",
    "\n",
    "q   = sym.Matrix([  [th],  [alph]]) #group into matrices\n",
    "dq  = sym.Matrix([ [dth], [dalph]])\n",
    "ddq = sym.Matrix([[ddth],[ddalph]])\n",
    "\n",
    "display(ddq) #display prints it as cool latex stuff\n",
    "\n",
    "# Rotation Matrices\n",
    "R01 = rotZ(th)\n",
    "R10 = R01.T\n",
    "\n",
    "R12 = rotX(alph)\n",
    "R21 = R12.T\n",
    "\n",
    "R02 = R12*R01\n",
    "R20 = R02.T\n",
    "\n",
    "# Positions-----------------------------------------------\n",
    "##### Arm is at the origin so no need for X0 and Y0\n",
    "r_Hub_1 = sym.Matrix([0, 0, 0])\n",
    "r_Hub   = R10*r_Hub_1\n",
    "\n",
    "r_Arm_1 = sym.Matrix([La*0.5, 0, 0])\n",
    "r_Arm   = R10*r_Arm_1\n",
    "\n",
    "r_Pen_2 = sym.Matrix([0, 0, Lp*0.5]) # when alpha = 0 it should be upright which is the case here\n",
    "r_Pen   = r_Arm*2 + R20*r_Pen_2\n",
    "display(r_Arm, r_Pen)\n",
    "\n",
    "# Velocities-------------------------------------------------\n",
    "## Linear\n",
    "dr_Arm = sym.simplify(r_Arm.jacobian(q)*dq)\n",
    "dr_Pen = sym.simplify(r_Pen.jacobian(q)*dq)\n",
    "dr_Hub = sym.simplify(r_Hub.jacobian(q)*dq)\n",
    "#display(dr_Arm,dr_Pen)\n",
    "\n",
    "## Angular\n",
    "wHub = sym.Matrix([0, 0, dth])\n",
    "wArm = sym.Matrix([0, 0, dth])\n",
    "wPen = R12*wArm + sym.Matrix([dalph, 0, 0])\n",
    "\n",
    "#display(wArm, wPen)\n",
    "\n",
    "# Energies\n",
    "## Kinetic energies\n",
    "Ek = lambda m, dr, w, In: (0.5*m*dr.T*dr) + (0.5*In*w.T*w)\n",
    "THub = Ek(mH, dr_Hub, wHub, InH)\n",
    "TArm = sym.simplify(Ek(mA, dr_Arm, wArm, InA))\n",
    "TPen = sym.simplify(Ek(mP, dr_Pen, wPen, InP))\n",
    "T = sym.Matrix([sym.simplify(TArm + TPen)])\n",
    "#display(THub, TArm, TPen, T)\n",
    "\n",
    "## Potential energies\n",
    "VArm = 0\n",
    "VHub = 0\n",
    "VPen = mP*g*r_Pen[2]\n",
    "V = sym.Matrix([sym.simplify(VArm + VHub + VPen)])\n",
    "#display(V)"
   ]
  },
  {
   "cell_type": "markdown",
   "id": "487d32dd",
   "metadata": {},
   "source": [
    "## Forces and Torques"
   ]
  },
  {
   "cell_type": "code",
   "execution_count": 4,
   "id": "03f14a51",
   "metadata": {},
   "outputs": [
    {
     "data": {
      "text/latex": [
       "$\\displaystyle \\ddot{\\alpha} \\left(1.0 I_{P} + 0.25 l_{P}^{2} m_{P}\\right) - 0.5 \\ddot{\\theta} l_{A} l_{P} m_{P} \\cos{\\left(\\alpha \\right)} - 0.125 \\dot{\\theta}^{2} l_{P}^{2} m_{P} \\sin{\\left(2 \\alpha \\right)} - 0.5 g l_{P} m_{P} \\sin{\\left(\\alpha \\right)}$"
      ],
      "text/plain": [
       "\\ddot{\\alpha}*(1.0*I_P + 0.25*l_P**2*m_P) - 0.5*\\ddot{\\theta}*l_A*l_P*m_P*cos(\\alpha) - 0.125*\\dot{\\theta}**2*l_P**2*m_P*sin(2*\\alpha) - 0.5*g*l_P*m_P*sin(\\alpha)"
      ]
     },
     "execution_count": 4,
     "metadata": {},
     "output_type": "execute_result"
    }
   ],
   "source": [
    "# forces & torques\n",
    "tau = sym.symbols('\\\\tau')\n",
    "\n",
    "Qtau = sym.Matrix([[tau],[0]]) # Torque tau acts in the th1 direction\n",
    "\n",
    "Qtot = Qtau\n",
    "Qall = Qtau\n",
    "# ------------------------------------------------------------------------------------------------------------------\n",
    "\n",
    "Lg1 = sym.zeros(1,len(q))\n",
    "for i in range(len(q)):\n",
    "    dT_ddq = sym.diff(T,dq[i]) # get partial of T in dq_i\n",
    "    Lg1[i] = dT_ddq.jacobian(q)*dq + dT_ddq.jacobian(dq)*ddq #...then get time derivative of that partial\n",
    "\n",
    "# term 3\n",
    "Lg3 = T.jacobian(q) # partial of T in q\n",
    "\n",
    "# term 4\n",
    "Lg4 = V.jacobian(q) # partial of U in q\n",
    "\n",
    "# put it all together\n",
    "EOM = Lg1 - Lg3 + Lg4 - Qall.transpose()\n",
    "\n",
    "EOM[1].simplify()"
   ]
  },
  {
   "cell_type": "markdown",
   "id": "5ac9fbf7",
   "metadata": {},
   "source": [
    "# Pyomo stuff"
   ]
  },
  {
   "cell_type": "code",
   "execution_count": 5,
   "id": "48c1529f",
   "metadata": {},
   "outputs": [],
   "source": [
    "# %reset # clears variables in workspace\n",
    "\n",
    "# import libraries\n",
    "# Pyomo stuff\n",
    "from pyomo.environ import*\n",
    "from pyomo.opt import SolverFactory\n",
    "from pyomo.opt import SolverStatus, TerminationCondition\n",
    "\n",
    "# other\n",
    "import sympy as sym\n",
    "import numpy as np\n",
    "\n",
    "from IPython.display import display #for pretty printing\n",
    "\n",
    "# create the model\n",
    "m = ConcreteModel()"
   ]
  },
  {
   "cell_type": "code",
   "execution_count": 6,
   "id": "212c4a36",
   "metadata": {},
   "outputs": [
    {
     "name": "stdout",
     "output_type": "stream",
     "text": [
      "Link 1: Mass = 0.095, Length = 0.085\n",
      "Link 2: Mass = 0.024, Length = 0.129\n"
     ]
    },
    {
     "data": {
      "text/latex": [
       "$\\displaystyle \\ddot{\\alpha} \\left(1.0 I_{P} + 0.25 l_{P}^{2} m_{P}\\right) - 0.5 \\ddot{\\theta} l_{A} l_{P} m_{P} \\cos{\\left(\\alpha \\right)} - 0.125 \\dot{\\theta}^{2} l_{P}^{2} m_{P} \\sin{\\left(2 \\alpha \\right)} - 0.5 g l_{P} m_{P} \\sin{\\left(\\alpha \\right)}$"
      ],
      "text/plain": [
       "\\ddot{\\alpha}*(1.0*I_P + 0.25*l_P**2*m_P) - 0.5*\\ddot{\\theta}*l_A*l_P*m_P*cos(\\alpha) - 0.125*\\dot{\\theta}**2*l_P**2*m_P*sin(2*\\alpha) - 0.5*g*l_P*m_P*sin(\\alpha)"
      ]
     },
     "execution_count": 6,
     "metadata": {},
     "output_type": "execute_result"
    }
   ],
   "source": [
    "N = 100 # how many points are in the trajectory\n",
    "m.N = RangeSet(N) # For defining ordered/numerical sets. Works like 'range' in python.\n",
    "m.L = RangeSet(2)\n",
    "\n",
    "\n",
    "# Parameters\n",
    "m.g = Param(initialize = 9.81)\n",
    "m.X0 = Param(initialize = 0.0) # position of fixed base\n",
    "m.Y0 = Param(initialize = 0.0)\n",
    "m.Z0 = Param(initialize = 0.0)\n",
    "m.h = Param(initialize = 0.02) # time step\n",
    "\n",
    "# m.m = Param(m.L, initialize = 1.0) # mass of links\n",
    "# m.len = Param(m.L, initialize = 1.0) # length of links\n",
    "m.m = Param(m.L, initialize={1: 0.095, 2: 0.024})  # mass of links (kg)\n",
    "m.len = Param(m.L, initialize={1: 0.085, 2: 0.129})  # length of links (m)\n",
    "\n",
    "# Print the mass values for each link\n",
    "for link in m.L:\n",
    "    print(f\"Link {link}: Mass = {m.m[link]}, Length = {m.len[link]}\")\n",
    "\n",
    "# IMPORTANT make sure your values are declared as floats: many a long debugging session has eventually led me to find something\n",
    "# unexpectedly has a value of zero because of integer devision gone wrong. Goddamn implicit typing fuuuuuuuuuuuuuuuuuuuuuuuuuuu\n",
    "\n",
    "# function for calculating moment of intertia from mass and length\n",
    "calculate_In = lambda m, l: m.m[l]*m.len[l]**2/12\n",
    "# m here is a local variable: the model given as input to the function, not necessarily our global model 'm'\n",
    "# l is just an iterator: it doesn't have to have the same name as the set \n",
    "\n",
    "m.In = Param(m.L, initialize = calculate_In) # moment of inertia\n",
    "\n",
    "# Variables\n",
    "m.th   = Var(m.N, m.L) # position\n",
    "m.dth  = Var(m.N, m.L) # velocity\n",
    "m.ddth = Var(m.N, m.L) # acceleration\n",
    "\n",
    "# define torque and voltage\n",
    "m.Tc = Var(m.N) # torque\n",
    "m.V  = Var(m.N) # voltage\n",
    "\n",
    "\n",
    "# Integration constraints\n",
    "def BwEuler_p(m,n,l): # for positions\n",
    "    if n > 1:\n",
    "        return m.th[n,l] == m.th[n-1,l] + m.h*m.dth[n-1,l]\n",
    "    else:\n",
    "        return Constraint.Skip #use this to leave out members of a set that the constraint doesn't apply to\n",
    "m.integrate_p = Constraint(m.N, m.L, rule = BwEuler_p)\n",
    "\n",
    "def BwEuler_v(m,n,l): # for velocities\n",
    "    if n > 1:\n",
    "        return m.dth[n,l] == m.dth[n-1,l] + m.h*m.ddth[n-1,l]\n",
    "    else:\n",
    "        return Constraint.Skip \n",
    "m.integrate_v = Constraint(m.N, m.L, rule = BwEuler_v)\n",
    "\n",
    "# actually define torque\n",
    "def torque_voltage_constraint(m, i):\n",
    "    if i > 1:\n",
    "        torque, _ = calculate_torque_voltage(i, m)\n",
    "        return m.Tc[i] == torque\n",
    "    else:\n",
    "        return Constraint.Skip\n",
    "\n",
    "#m.torque_constraint = Constraint(m.N, rule=torque_voltage_constraint)\n",
    "\n",
    "def voltage_constraint(m, i):\n",
    "    if i > 1:\n",
    "        _, voltage = calculate_torque_voltage(i, m)\n",
    "        return m.V[i] == voltage\n",
    "    else:\n",
    "        return Constraint.Skip\n",
    "\n",
    "#m.voltage_constraint = Constraint(m.N, rule=voltage_constraint)\n",
    "\n",
    "# EOM stuff\n",
    "EOM[1].simplify()"
   ]
  },
  {
   "cell_type": "code",
   "execution_count": 7,
   "id": "1c9af98c",
   "metadata": {},
   "outputs": [],
   "source": [
    "#Lambdify the EOM\n",
    "func_map = {'sin':sin, 'cos':cos} \n",
    "\n",
    "sym_list = [X0, Y0, Z0, g,\n",
    "           th, alph, dth, dalph, ddth, ddalph, tau, V,\n",
    "           mA, mP, La, Lp, InA, InP] # list of the symbols that will be substituted with inputs\n",
    "\n",
    "lambEOM = {} # dictionaries are honestly my favourite thing about Python\n",
    "for i in range(1,3): \n",
    "    lambEOM[i] = sym.lambdify(sym_list,EOM[i-1],modules = [func_map])\n",
    "# We can contain the EOMs for all coordinates in a dictionary so we just need one constraint definition for the dynamics.\n",
    "\n",
    "#create the dynamic constraints\n",
    "def dynamics(m,n,l): # for theta1\n",
    "    # list the model versions of all quantities in the same order as sym_list\n",
    "    var_list = [m.X0, m.Y0, m.Z0, m.g, \n",
    "               m.th[n,1], m.th[n,2], m.dth[n,1], m.dth[n,2], m.ddth[n,1], m.ddth[n,2], m.Tc[n], m.V[n],\n",
    "               m.m[1], m.m[2], m.len[1], m.len[2], m.In[1], m.In[2]] \n",
    "    return lambEOM[l](*var_list) == 0\n",
    "m.dynamics = Constraint(m.N, m.L, rule = dynamics)"
   ]
  },
  {
   "cell_type": "code",
   "execution_count": 8,
   "id": "728043e1",
   "metadata": {},
   "outputs": [],
   "source": [
    "# def CostFun(m):\n",
    "#     torque_sum = 0\n",
    "#     for n in range(1,N+1):\n",
    "#             torque_sum += m.Tc[n]**2\n",
    "#     return torque_sum\n",
    "# m.Cost = Objective(rule = CostFun)\n",
    "\n",
    "\n",
    "# cost function based on torque, voltage and final position\n",
    "def CostFun(m):\n",
    "    torque_sum = sum(m.Tc[n]**2 for n in m.N)\n",
    "    voltage_sum = sum(m.V[n]**2 for n in m.N)\n",
    "    final_position_penalty = (\n",
    "        100 * (m.th[N, 1] - 0)**2 +\n",
    "        100 * (m.th[N, 2] - 17*np.pi/180)**2 +\n",
    "        100 * m.dth[N, 1]**2 +\n",
    "        100 * m.dth[N, 2]**2\n",
    "    )\n",
    "    return torque_sum + 0.01 * voltage_sum + final_position_penalty\n",
    "\n",
    "m.Cost = Objective(rule = CostFun)\n",
    "\n",
    "# variable bounds\n",
    "# In Pyomo, all variables are individual objects, so you have to use a loop to bound them.\n",
    "# (If all the bounds are the same, you can set up a default bound when you create the variable, though)\n",
    "\n",
    "for n in range(1,N+1):\n",
    "    m.V[n].setlb(-10) \n",
    "    m.V[n].setub(10)\n",
    "# bounding actuator forces is tricky. It's usually a good idea, but if your cost function penalizes large forces as is \n",
    "# the case here, you might have an easier time finding a solution without doing so.\n",
    "    \n",
    "    # for l in range(1,3):\n",
    "    #     m.th[n,l].setlb(-np.pi*2) #lower bound\n",
    "    #     m.th[n,l].setub(np.pi*2) #upper bound\n",
    "    \n",
    "bounds = {1: (-np.pi/2, np.pi/2), # Link 1 bounds\n",
    "          2: (-np.pi*2, np.pi*2)} # link 2 bounds\n",
    "\n",
    "for n in range(1, N+1):\n",
    "    for link, (lb, ub) in bounds.items():\n",
    "        m.th[n, link].setlb(lb)\n",
    "        m.th[n, link].setub(ub)"
   ]
  },
  {
   "cell_type": "code",
   "execution_count": 9,
   "id": "43c7d9ea",
   "metadata": {},
   "outputs": [],
   "source": [
    "# initialization\n",
    "# I'd suggest leaving out random initialization until you know your model converges. \n",
    "# The default null guess usually converges more easily.\n",
    "\n",
    "# for n in range(1,N+1):\n",
    "#     m.Tc[n].value = np.random.uniform(-0.1,0.1)\n",
    "    \n",
    "#     for l in range(1,3):\n",
    "#         #m.th[n,l].value = np.random.uniform(-0.1,0.1)\n",
    "#         m.dth[n,l].value = np.random.uniform(-0.1,0.1)\n",
    "#         m.ddth[n,l].value = np.random.uniform(-0.1,0.1)"
   ]
  },
  {
   "cell_type": "code",
   "execution_count": 10,
   "id": "4c9911ae",
   "metadata": {},
   "outputs": [],
   "source": [
    "# Boundary conditions\n",
    "# you should to do these after initialization so the values you want to be fixed don't accidentally end up being changed\n",
    "\n",
    "# Initial conditions\n",
    "m.th[1, 1].fix(0)\n",
    "m.th[1, 2].fix(np.pi)\n",
    "# m.dth[1, 1].fix(0)\n",
    "# m.dth[1, 2].fix(0)\n",
    "\n",
    "# final conditions\n",
    "m.th[N, 2].fix(17*np.pi/180) # final position in the middle\n",
    "m.th[N, 1].fix(0) # final angle position (upright)\n",
    "m.dth[N, 1].fix(0)    # final speed (0)\n",
    "m.dth[N, 2].fix(0)    # final acceleration (0)"
   ]
  },
  {
   "cell_type": "code",
   "execution_count": 11,
   "id": "cd9200b2",
   "metadata": {},
   "outputs": [
    {
     "name": "stdout",
     "output_type": "stream",
     "text": [
      "Ipopt 3.14.13: print_level=5\n",
      "max_iter=30000\n",
      "max_cpu_time=300\n",
      "Tol=1e-06\n",
      "\n",
      "\n",
      "******************************************************************************\n",
      "This program contains Ipopt, a library for large-scale nonlinear optimization.\n",
      " Ipopt is released as open source code under the Eclipse Public License (EPL).\n",
      "         For more information visit https://github.com/coin-or/Ipopt\n",
      "******************************************************************************\n",
      "\n",
      "This is Ipopt version 3.14.13, running with linear solver MUMPS 5.2.1.\n",
      "\n",
      "Number of nonzeros in equality constraint Jacobian...:     2662\n",
      "Number of nonzeros in inequality constraint Jacobian.:        0\n",
      "Number of nonzeros in Lagrangian Hessian.............:      884\n",
      "\n",
      "Exception of type: TOO_FEW_DOF in file \"../../src/Interfaces/IpIpoptApplication.cpp\" at line 662:\n",
      " Exception message: status != TOO_FEW_DEGREES_OF_FREEDOM evaluated false: Too few degrees of freedom (rethrown)!\n",
      "\n",
      "EXIT: Problem has too few degrees of freedom.\n",
      "WARNING: Loading a SolverResults object with a warning status into\n",
      "model.name=\"unknown\";\n",
      "    - termination condition: other\n",
      "    - message from solver: Too few degrees of freedom (rethrown)!\n"
     ]
    }
   ],
   "source": [
    "# solving\n",
    "opt = SolverFactory('ipopt') # standard issue, garden variety ipopt\n",
    "\n",
    "# If you've managed to install your own version of ipopt, you can call it like:\n",
    "#opt = SolverFactory('ipopt',executable = 'C:/cygwin64/home/Stacey/CoinIpopt/build/bin/ipopt.exe')\n",
    "#opt.options[\"linear_solver\"] = 'ma86'\n",
    "\n",
    "# solver options\n",
    "opt.options[\"print_level\"]  = 5 # prints a log with each iteration (you want to this - it's the only way to see progress.)\n",
    "opt.options[\"max_iter\"]     = 30000 # maximum number of iterations\n",
    "opt.options[\"max_cpu_time\"] = 300 # maximum cpu time in seconds\n",
    "opt.options[\"Tol\"]          = 1e-6 # the tolerance for feasibility. Considers constraints satisfied when they're within this margin.\n",
    "    \n",
    "results = opt.solve(m, tee = True) "
   ]
  },
  {
   "cell_type": "code",
   "execution_count": 12,
   "id": "799a621f",
   "metadata": {},
   "outputs": [
    {
     "name": "stdout",
     "output_type": "stream",
     "text": [
      "warning\n",
      "other\n"
     ]
    },
    {
     "ename": "TypeError",
     "evalue": "type NoneType doesn't define __round__ method",
     "output_type": "error",
     "traceback": [
      "\u001b[0;31m---------------------------------------------------------------------------\u001b[0m",
      "\u001b[0;31mTypeError\u001b[0m                                 Traceback (most recent call last)",
      "Cell \u001b[0;32mIn[12], line 38\u001b[0m\n\u001b[1;32m     34\u001b[0m             writer\u001b[38;5;241m.\u001b[39mwriterow(row)\n\u001b[1;32m     37\u001b[0m \u001b[38;5;66;03m# # Usage:\u001b[39;00m\n\u001b[0;32m---> 38\u001b[0m write_trajectory_to_csv(m, \u001b[38;5;124m'\u001b[39m\u001b[38;5;124mtrajectory.csv\u001b[39m\u001b[38;5;124m'\u001b[39m, decimal_places\u001b[38;5;241m=\u001b[39m\u001b[38;5;241m4\u001b[39m)\n",
      "Cell \u001b[0;32mIn[12], line 31\u001b[0m, in \u001b[0;36mwrite_trajectory_to_csv\u001b[0;34m(m, filename, decimal_places)\u001b[0m\n\u001b[1;32m     23\u001b[0m \u001b[38;5;28;01mfor\u001b[39;00m n \u001b[38;5;129;01min\u001b[39;00m m\u001b[38;5;241m.\u001b[39mN:\n\u001b[1;32m     24\u001b[0m     torque, voltage \u001b[38;5;241m=\u001b[39m calculate_torque_voltage(n, m)\n\u001b[1;32m     25\u001b[0m     row \u001b[38;5;241m=\u001b[39m [\n\u001b[1;32m     26\u001b[0m         \u001b[38;5;28mround\u001b[39m(m\u001b[38;5;241m.\u001b[39mh\u001b[38;5;241m.\u001b[39mvalue \u001b[38;5;241m*\u001b[39m (n\u001b[38;5;241m-\u001b[39m\u001b[38;5;241m1\u001b[39m), decimal_places),  \u001b[38;5;66;03m# Time\u001b[39;00m\n\u001b[1;32m     27\u001b[0m         \u001b[38;5;28mround\u001b[39m(m\u001b[38;5;241m.\u001b[39mth[n, \u001b[38;5;241m1\u001b[39m]\u001b[38;5;241m.\u001b[39mvalue, decimal_places),   \u001b[38;5;66;03m# Arm angle (theta)\u001b[39;00m\n\u001b[1;32m     28\u001b[0m         \u001b[38;5;28mround\u001b[39m(m\u001b[38;5;241m.\u001b[39mth[n, \u001b[38;5;241m2\u001b[39m]\u001b[38;5;241m.\u001b[39mvalue, decimal_places),   \u001b[38;5;66;03m# Pendulum angle (alpha)\u001b[39;00m\n\u001b[1;32m     29\u001b[0m         \u001b[38;5;28mround\u001b[39m(m\u001b[38;5;241m.\u001b[39mdth[n, \u001b[38;5;241m1\u001b[39m]\u001b[38;5;241m.\u001b[39mvalue, decimal_places),  \u001b[38;5;66;03m# Arm angular velocity\u001b[39;00m\n\u001b[1;32m     30\u001b[0m         \u001b[38;5;28mround\u001b[39m(m\u001b[38;5;241m.\u001b[39mdth[n, \u001b[38;5;241m2\u001b[39m]\u001b[38;5;241m.\u001b[39mvalue, decimal_places),  \u001b[38;5;66;03m# Pendulum angular velocity\u001b[39;00m\n\u001b[0;32m---> 31\u001b[0m         \u001b[38;5;28mround\u001b[39m(m\u001b[38;5;241m.\u001b[39mV[n]\u001b[38;5;241m.\u001b[39mvalue, decimal_places),       \u001b[38;5;66;03m# Voltage\u001b[39;00m\n\u001b[1;32m     32\u001b[0m         \u001b[38;5;28mround\u001b[39m(m\u001b[38;5;241m.\u001b[39mTc[n]\u001b[38;5;241m.\u001b[39mvalue, decimal_places)       \u001b[38;5;66;03m# torque\u001b[39;00m\n\u001b[1;32m     33\u001b[0m     ]\n\u001b[1;32m     34\u001b[0m     writer\u001b[38;5;241m.\u001b[39mwriterow(row)\n",
      "\u001b[0;31mTypeError\u001b[0m: type NoneType doesn't define __round__ method"
     ]
    }
   ],
   "source": [
    "# For debugging:\n",
    "print(results.solver.status) # tells you if the solver had any errors/ warnings\n",
    "print(results.solver.termination_condition) # tells you if the solution was (locally) optimal, feasible, or neither.\n",
    "\n",
    "# If you want a full print-out of everything going on with your model, use:\n",
    "#m.pprint() \n",
    "\n",
    "# This is your best friend when it comes to figuring out why something's not converging, why the solution looks weird, etc.\n",
    "# It's probably most handy if you print it to a file:\n",
    "#instance.pprint(filename='blah.txt')\n",
    "\n",
    "# You can also pretty print individual elements of the model. e.g.\n",
    "#m.th.pprint()\n",
    "\n",
    "# export trajectories\n",
    "def write_trajectory_to_csv(m, filename, decimal_places=6):\n",
    "    with open(filename, 'w', newline='') as file:\n",
    "        writer = csv.writer(file)\n",
    "        \n",
    "        # Write header\n",
    "        writer.writerow(['Time', 'Arm Angle', 'Pendulum Angle', 'Arm Velocity', 'Pendulum Velocity', 'Voltage', 'Torque'])\n",
    "        \n",
    "        for n in m.N:\n",
    "            torque, voltage = calculate_torque_voltage(n, m)\n",
    "            row = [\n",
    "                round(m.h.value * (n-1), decimal_places),  # Time\n",
    "                round(m.th[n, 1].value, decimal_places),   # Arm angle (theta)\n",
    "                round(m.th[n, 2].value, decimal_places),   # Pendulum angle (alpha)\n",
    "                round(m.dth[n, 1].value, decimal_places),  # Arm angular velocity\n",
    "                round(m.dth[n, 2].value, decimal_places),  # Pendulum angular velocity\n",
    "                round(m.V[n].value, decimal_places),       # Voltage\n",
    "                round(m.Tc[n].value, decimal_places)       # torque\n",
    "            ]\n",
    "            writer.writerow(row)\n",
    "\n",
    "\n",
    "# # Usage:\n",
    "write_trajectory_to_csv(m, 'trajectory.csv', decimal_places=4)"
   ]
  },
  {
   "cell_type": "markdown",
   "id": "b6a8cde6",
   "metadata": {},
   "source": [
    "# Animate"
   ]
  },
  {
   "cell_type": "code",
   "execution_count": null,
   "id": "fed9e230",
   "metadata": {},
   "outputs": [],
   "source": [
    "import matplotlib.pyplot as plt\n",
    "import matplotlib.animation as ani\n",
    "import numpy as np\n",
    "from mpl_toolkits.mplot3d import Axes3D\n",
    "from IPython.display import HTML\n",
    "\n",
    "# Create the figure and subplots for XY, XZ, YZ planes, and a 3D plot\n",
    "fig = plt.figure()\n",
    "ax = fig.add_subplot(111, projection='3d')  # 3D plot\n",
    "\n",
    "def plot_pendulum(i, m):  \n",
    "    # Clear previous plots\n",
    "    ax.clear()\n",
    "    \n",
    "    # Set limits and titles for each axis\n",
    "    lim = 0.2\n",
    "    ax.set_xlim([-lim, lim])\n",
    "    ax.set_ylim([-lim, lim])\n",
    "    ax.set_zlim([-lim, lim])\n",
    "    ax.set_xlabel('X-axis', color='red')\n",
    "    ax.set_ylabel('Y-axis', color='blue')\n",
    "    ax.set_zlabel('Z-axis', color='green')\n",
    "    ax.grid(True)\n",
    "\n",
    "    # Calculate positions for the pendulum\n",
    "    L1bottomx = m.X0.value + m.len[1] * np.cos(m.th[i,1].value)\n",
    "    L1bottomy = m.Y0.value - m.len[1] * np.sin(m.th[i,1].value)\n",
    "    L1bottomz = m.Z0.value\n",
    "\n",
    "    L2bottomx = L1bottomx + m.len[2] * np.sin(m.th[i,1].value) * np.sin(m.th[i,2].value)\n",
    "    L2bottomy = L1bottomy + m.len[2] * np.sin(m.th[i,1].value) * np.cos(m.th[i,2].value)\n",
    "    L2bottomz = L1bottomz + m.len[2] * np.cos(m.th[i,2].value)\n",
    "\n",
    "    # Plot in 3D\n",
    "    ax.plot([m.X0.value, L1bottomx], [m.Y0.value, L1bottomy], [m.Z0.value, L1bottomz], color='xkcd:blue')\n",
    "    ax.plot([L1bottomx, L2bottomx], [L1bottomy, L2bottomy], [L1bottomz, L2bottomz], color='xkcd:red')\n",
    "\n",
    "# Update function for the animation\n",
    "update = lambda i: plot_pendulum(i, m)\n",
    "\n",
    "# Create animation\n",
    "animate = ani.FuncAnimation(fig, update, range(1,N+1), interval=50, repeat=True)\n",
    "\n",
    "# Embed the animation in the notebook\n",
    "HTML(animate.to_html5_video())\n"
   ]
  },
  {
   "cell_type": "code",
   "execution_count": null,
   "id": "adcc6dc7-aeba-49cd-9674-ab25b3228624",
   "metadata": {},
   "outputs": [],
   "source": []
  }
 ],
 "metadata": {
  "kernelspec": {
   "display_name": "Python 3 (ipykernel)",
   "language": "python",
   "name": "python3"
  },
  "language_info": {
   "codemirror_mode": {
    "name": "ipython",
    "version": 3
   },
   "file_extension": ".py",
   "mimetype": "text/x-python",
   "name": "python",
   "nbconvert_exporter": "python",
   "pygments_lexer": "ipython3",
   "version": "3.12.2"
  }
 },
 "nbformat": 4,
 "nbformat_minor": 5
}
