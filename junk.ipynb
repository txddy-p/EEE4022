{
 "cells": [
  {
   "cell_type": "code",
   "execution_count": null,
   "metadata": {},
   "outputs": [],
   "source": [
    "# ANimate from spherical pendulum file part 3\n",
    "#animate it\n",
    "import matplotlib.pyplot as plt\n",
    "import matplotlib.animation as ani\n",
    "from IPython.display import HTML\n",
    "%matplotlib inline\n",
    "\n",
    "fig1, ax1 = plt.subplots(1,1) #create axes\n",
    "Z0val = 0\n",
    "def plot_pendulum(i,th1_in,th2_in,ax, ph1_in, ph2_in): #update function for animation\n",
    "    ax.clear()\n",
    "    ax.set_xlim([-4,4])\n",
    "    ax.set_ylim([-4,4])\n",
    "    ax.set_zlim([-4,4])\n",
    "\n",
    "    # Debug: Print current angles\n",
    "    print(f\"Frame {i}: th = {th1_in[i]}, alpha = {th2_in[i]}\")\n",
    "    \n",
    "    #plot link 1\n",
    "    L1topx = X0val\n",
    "    L1topy = Y0val\n",
    "    L1topz = Z0val\n",
    "    L1bottomx = X0val + laval*np.sin(th1_in[i])*np.cos(ph1_in[i])\n",
    "    L1bottomy = Y0val + laval*np.sin(th1_in[i])*np.sin(ph1_in[i])\n",
    "    L1bottomz = Z0val + laval*np.cos(th1_in[i])\n",
    "    ax.plot([L1topx,L1bottomx],[L1topy,L1bottomy],[L1topz,L1bottomz],color='xkcd:blue')\n",
    "    \n",
    "    # x1 = La*sym.sin(th1)*sym.cos(ph1)/2\n",
    "    # y1 = La*sym.sin(th1)*sym.sin(ph1)/2\n",
    "    # z1 = La*sym.cos(th1)/2\n",
    "\n",
    "    # x2 = x1*2 + La*sym.sin(thr)*sym.cos(phr)/2\n",
    "    # y2 = y1*2 + La*sym.sin(thr)*sym.sin(phr)/2\n",
    "    # z2 = z1*2 + Lp*sym.cos(thr)/2\n",
    "\n",
    "    #plot link 2\n",
    "    L2bottomx = L1bottomx + lpval*np.sin(th1_in[i] + th2_in[i])*np.cos(ph1_in[i]+ph2_in[i])\n",
    "    L2bottomy = L1bottomy + lpval*np.sin(th1_in[i]+th2_in[i])*np.sin(ph1_in[i]+ph2_in[i]) \n",
    "    L2bottomz = L1bottomz + lpval*np.cos(th1_in[i]+th2_in[i])\n",
    "    ax.plot([L1bottomx,L2bottomx],[L1bottomy,L2bottomy],color='xkcd:black')\n",
    "    \n",
    "update = lambda i: plot_pendulum(i,th1ar,th2ar,ax1,ph1ar,ph2ar) #lambdify update function\n",
    "\n",
    "animate = ani.FuncAnimation(fig1,update,range(N),interval = 50,repeat=True)\n",
    "\n",
    "HTML(animate.to_html5_video()) #you need to convert the animation to HTML5 to embed it in the notebook"
   ]
  }
 ],
 "metadata": {
  "language_info": {
   "name": "python"
  }
 },
 "nbformat": 4,
 "nbformat_minor": 2
}
