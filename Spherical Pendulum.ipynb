{
 "cells": [
  {
   "cell_type": "markdown",
   "id": "34c9f811-7402-4e33-8594-176a819445d6",
   "metadata": {},
   "source": [
    "# Spherical pendulum\n",
    "\n",
    "- The model assummes a pendulum attached using a string, I'll edit it later\n",
    "- (l,$\\theta$,$\\alpha$) are used to describe the positions"
   ]
  },
  {
   "cell_type": "code",
   "execution_count": 1,
   "id": "5a4cf5ee-0b74-4ed9-bf61-440c84d6663e",
   "metadata": {},
   "outputs": [],
   "source": [
    "# Imports\n",
    "import sympy as sym\n",
    "import numpy as np\n",
    "from IPython.display import display #for pretty printing"
   ]
  },
  {
   "cell_type": "code",
   "execution_count": 2,
   "id": "cba87658-2095-4665-a2da-d9223c85b323",
   "metadata": {},
   "outputs": [
    {
     "data": {
      "text/latex": [
       "$\\displaystyle \\left[\\begin{matrix}\\ddot{\\theta}\\\\\\ddot{\\alpha}\\end{matrix}\\right]$"
      ],
      "text/plain": [
       "Matrix([\n",
       "[\\ddot{\\theta}],\n",
       "[\\ddot{\\alpha}]])"
      ]
     },
     "metadata": {},
     "output_type": "display_data"
    }
   ],
   "source": [
    "# create symbolic variables\n",
    "\n",
    "# system parameters\n",
    "X0,Y0, Z0 = sym.symbols(['X0','Y0', 'Z0']) # fixed position of Arm\n",
    "g = sym.symbols('g')\n",
    "mP,mA = sym.symbols(['mP','mA']) # mass of links\n",
    "La,Lp = sym.symbols(['La','Lp']) # length of links\n",
    "InA,InP = sym.symbols(['InA','InP']) # moment of intertia of links\n",
    "\n",
    "# generalized coordinates\n",
    "th,alph = sym.symbols(['\\\\theta','\\\\alpha']) #position\n",
    "dth,dalph = sym.symbols(['\\\\dot{\\\\theta}','\\\\dot{\\\\alpha}']) #velocity\n",
    "ddth,ddalph = sym.symbols(['\\\\ddot{\\\\theta}','\\\\ddot{\\\\alpha}']) #acceleration\n",
    "\n",
    "q = sym.Matrix([[th],[alph]]) #group into matrices\n",
    "dq = sym.Matrix([[dth],[dalph]])\n",
    "ddq = sym.Matrix([[ddth],[ddalph]])\n",
    "\n",
    "display(ddq) #display prints it as cool latex stuff"
   ]
  },
  {
   "cell_type": "code",
   "execution_count": 18,
   "id": "a498fe5a-b3d1-4189-8106-2de76d0db840",
   "metadata": {},
   "outputs": [
    {
     "data": {
      "text/latex": [
       "$\\displaystyle \\left[\\begin{matrix}- La \\dot{\\alpha} \\sin{\\left(\\alpha \\right)} \\sin{\\left(\\theta \\right)} + La \\dot{\\theta} \\cos{\\left(\\alpha \\right)} \\cos{\\left(\\theta \\right)}\\\\La \\dot{\\alpha} \\sin{\\left(\\theta \\right)} \\cos{\\left(\\alpha \\right)} + La \\dot{\\theta} \\sin{\\left(\\alpha \\right)} \\cos{\\left(\\theta \\right)}\\\\La \\dot{\\theta} \\sin{\\left(\\theta \\right)}\\end{matrix}\\right]$"
      ],
      "text/plain": [
       "Matrix([\n",
       "[-La*\\dot{\\alpha}*sin(\\alpha)*sin(\\theta) + La*\\dot{\\theta}*cos(\\alpha)*cos(\\theta)],\n",
       "[ La*\\dot{\\alpha}*sin(\\theta)*cos(\\alpha) + La*\\dot{\\theta}*sin(\\alpha)*cos(\\theta)],\n",
       "[                                                       La*\\dot{\\theta}*sin(\\theta)]])"
      ]
     },
     "metadata": {},
     "output_type": "display_data"
    }
   ],
   "source": [
    "# Positions\n",
    "## Arm\n",
    "xa = La*sym.sin(th)*sym.cos(alph)\n",
    "ya = La*sym.sin(th)*sym.sin(alph)\n",
    "za = La*(1-sym.cos(th))\n",
    "\n",
    "## Pen\n",
    "xp = La*sym.sin(th)*sym.cos(alph)\n",
    "yp = La*sym.sin(th)*sym.sin(alph)\n",
    "zp = La*(1-sym.cos(th))\n",
    "\n",
    "rArm = sym.Matrix([xa, ya, za])\n",
    "rPen = sym.Matrix([xp, yp, zp])\n",
    "\n",
    "# Linear Velocities\n",
    "drArm = rArm.jacobian(q)*dq\n",
    "drPen = rPen.jacobian(q)*dq\n",
    "\n",
    "# Angular velocities\n",
    "display(drArm)"
   ]
  },
  {
   "cell_type": "code",
   "execution_count": 22,
   "id": "248dfd47-3be0-46fe-b42f-4adcc8868298",
   "metadata": {},
   "outputs": [
    {
     "data": {
      "text/latex": [
       "$\\displaystyle \\left[\\begin{matrix}La g mA \\left(1 - \\cos{\\left(\\theta \\right)}\\right)\\end{matrix}\\right]$"
      ],
      "text/plain": [
       "Matrix([[La*g*mA*(1 - cos(\\theta))]])"
      ]
     },
     "metadata": {},
     "output_type": "display_data"
    }
   ],
   "source": [
    "# Energies\n",
    "## Kinetic\n",
    "TArm = sym.simplify(0.5*mA*drArm.T*drArm)\n",
    "TPen = sym.simplify(0.5*mA*drArm.T*drArm)\n",
    "\n",
    "T = sym.Matrix([TArm + TPen*0])\n",
    "## Potential\n",
    "VArm = sym.simplify(mA*g*rArm[2])\n",
    "VPen = sym.simplify(mP*g*rPen[2])\n",
    "\n",
    "V = sym.Matrix([VArm + VPen*0])\n",
    "\n",
    "display(V)"
   ]
  },
  {
   "cell_type": "code",
   "execution_count": 23,
   "id": "aced5ca7-65ad-4f30-8226-4ea276aefb6e",
   "metadata": {},
   "outputs": [
    {
     "data": {
      "text/latex": [
       "$\\displaystyle \\left[\\begin{matrix}1.0 La^{2} \\ddot{\\theta} mA - 1.0 La^{2} \\dot{\\alpha}^{2} mA \\sin{\\left(\\theta \\right)} \\cos{\\left(\\theta \\right)} + La g mA \\sin{\\left(\\theta \\right)} & 1.0 La^{2} \\ddot{\\alpha} mA \\sin^{2}{\\left(\\theta \\right)} + 2.0 La^{2} \\dot{\\alpha} \\dot{\\theta} mA \\sin{\\left(\\theta \\right)} \\cos{\\left(\\theta \\right)}\\end{matrix}\\right]$"
      ],
      "text/plain": [
       "Matrix([[1.0*La**2*\\ddot{\\theta}*mA - 1.0*La**2*\\dot{\\alpha}**2*mA*sin(\\theta)*cos(\\theta) + La*g*mA*sin(\\theta), 1.0*La**2*\\ddot{\\alpha}*mA*sin(\\theta)**2 + 2.0*La**2*\\dot{\\alpha}*\\dot{\\theta}*mA*sin(\\theta)*cos(\\theta)]])"
      ]
     },
     "metadata": {},
     "output_type": "display_data"
    }
   ],
   "source": [
    "# Lagrangian\n",
    "# STEP 4: calculate each term of the Lagrange equation\n",
    "# term 1\n",
    "Lg1 = sym.zeros(1,len(q))\n",
    "for i in range(len(q)):\n",
    "    dT_ddq = sym.diff(T,dq[i]) # get partial of T in dq_i\n",
    "    Lg1[i] = dT_ddq.jacobian(q)*dq + dT_ddq.jacobian(dq)*ddq #...then get time derivative of that partial\n",
    "\n",
    "# term 3\n",
    "Lg3 = T.jacobian(q) # partial of T in q\n",
    "\n",
    "# term 4\n",
    "Lg4 = V.jacobian(q) # partial of U in q\n",
    "\n",
    "#combine\n",
    "EOM = Lg1 - Lg3 + Lg4\n",
    "display(EOM)\n",
    "#display(EOM) #<-this will give you an idea of the magnitude of the faff a decent symbolic package lets you avoid"
   ]
  },
  {
   "cell_type": "code",
   "execution_count": null,
   "id": "554db0ff-c204-4e73-9dcc-1a60c0322945",
   "metadata": {},
   "outputs": [],
   "source": []
  }
 ],
 "metadata": {
  "kernelspec": {
   "display_name": "Python 3 (ipykernel)",
   "language": "python",
   "name": "python3"
  },
  "language_info": {
   "codemirror_mode": {
    "name": "ipython",
    "version": 3
   },
   "file_extension": ".py",
   "mimetype": "text/x-python",
   "name": "python",
   "nbconvert_exporter": "python",
   "pygments_lexer": "ipython3",
   "version": "3.12.2"
  }
 },
 "nbformat": 4,
 "nbformat_minor": 5
}
