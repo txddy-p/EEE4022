{
 "cells": [
  {
   "cell_type": "code",
   "execution_count": 1,
   "id": "41bc79c9-bc32-41e0-9ce4-abe958e4c567",
   "metadata": {},
   "outputs": [
    {
     "data": {
      "text/latex": [
       "$\\displaystyle \\left[\\begin{matrix}\\ddot{\\theta_{1}} & \\ddot{\\phi_{1}} & \\ddot{\\theta_{2}} & \\ddot{\\phi_{2}}\\end{matrix}\\right]$"
      ],
      "text/plain": [
       "Matrix([[\\ddot{\\theta_{1}}, \\ddot{\\phi_{1}}, \\ddot{\\theta_{2}}, \\ddot{\\phi_{2}}]])"
      ]
     },
     "metadata": {},
     "output_type": "display_data"
    }
   ],
   "source": [
    "# Code from spherical pendulum\n",
    "# import libraries\n",
    "import sympy as sym\n",
    "import numpy as np\n",
    "\n",
    "from IPython.display import display #for pretty printing\n",
    "\n",
    "# system parameters\n",
    "X0,Y0, Z0 = sym.symbols(['X0','Y0', 'Z0']) # fixed position of Arm\n",
    "g = sym.symbols('g')\n",
    "mP,mA = sym.symbols(['mP','mA']) # mass of links\n",
    "La,Lp = sym.symbols(['La','Lp']) # length of links\n",
    "InA,InP = sym.symbols(['InA','InP']) # moment of intertia of links\n",
    "\n",
    "# generalized coordinates\n",
    "th1,ph1,th2,ph2 = sym.symbols(['\\\\theta_{1}','\\\\phi_{1}','\\\\theta_{2}','\\\\phi_{2}']) #position\n",
    "dth1,dph1, dth2, dph2 = sym.symbols(['\\\\dot{\\\\theta_{1}}','\\\\dot{\\\\phi_{1}}', '\\\\dot{\\\\theta_{2}}','\\\\dot{\\\\phi_{2}}']) #velocity\n",
    "ddth1,ddph1, ddth2, ddph2 = sym.symbols(['\\\\ddot{\\\\theta_{1}}','\\\\ddot{\\\\phi_{1}}', '\\\\ddot{\\\\theta_{2}}','\\\\ddot{\\\\phi_{2}}']) #acceleration\n",
    "\n",
    "# assuming not absolute angles\n",
    "thr = th1+th2\n",
    "phr = ph1+ph2\n",
    "\n",
    "q = sym.Matrix([[th1],[ph1],[th2],[ph2]]) #group into matrices\n",
    "dq = sym.Matrix([[dth1],[dph1],[dth2],[dph2]])\n",
    "ddq = sym.Matrix([[ddth1],[ddph1],[ddth2],[ddph2]])\n",
    "\n",
    "qt = ddq.T\n",
    "display(qt) #display prints it as cool latex stuff\n",
    "\n",
    "# positiions\n",
    "## Link 1\n",
    "x1 = La*sym.sin(th1)*sym.cos(ph1)/2\n",
    "y1 = -La*sym.sin(th1)*sym.sin(ph1)/2\n",
    "z1 = -La*sym.cos(th1)/2\n",
    "\n",
    "x2 = x1*2 + La*sym.sin(thr)*sym.cos(phr)/2\n",
    "y2 = y1*2 - La*sym.sin(thr)*sym.sin(phr)/2\n",
    "z2 = z1*2 - Lp*sym.cos(thr)/2\n",
    "\n",
    "rArm = sym.simplify(sym.Matrix([x1, y1, z1]))\n",
    "rPen = sym.simplify(sym.Matrix([x2, y2, z2]))\n",
    "\n",
    "\n",
    "# velocities\n",
    "## linear velocities\n",
    "drArm = rArm.jacobian(q)*dq\n",
    "drPen = rPen.jacobian(q)*dq\n",
    "\n",
    "#display(drArm, drPen)\n",
    "## angular velocities\n",
    "\n",
    "# energies\n",
    "## kinetic\n",
    "Tarm = 1/2 * mA * drArm.T*drArm\n",
    "Tpen = 1/2 * mP * drPen.T*drPen\n",
    "T = sym.Matrix([sym.simplify(Tarm+Tpen)])\n",
    "\n",
    "\n",
    "## potential\n",
    "Varm = mA*g*z1\n",
    "Vpen = mP*g*z2\n",
    "V = sym.Matrix([sym.simplify(Varm+Vpen)])\n",
    "\n",
    "# Lagrangian\n",
    "Lg1 = sym.zeros(1,len(q))\n",
    "for i in range(len(q)):\n",
    "    dT_ddq = sym.diff(T,dq[i]) # get partial of T in dq_i\n",
    "    Lg1[i] = dT_ddq.jacobian(q)*dq + dT_ddq.jacobian(dq)*ddq #...then get time derivative of that partial\n",
    "\n",
    "# term 3\n",
    "Lg3 = T.jacobian(q) # partial of T in q\n",
    "\n",
    "# term 4\n",
    "Lg4 = V.jacobian(q) # partial of U in q"
   ]
  },
  {
   "cell_type": "code",
   "execution_count": 9,
   "id": "9dfcf142-e019-4929-8d90-c07a29d72db2",
   "metadata": {},
   "outputs": [
    {
     "data": {
      "text/latex": [
       "$\\displaystyle \\left[\\begin{matrix}0.001 La \\cos{\\left(\\phi_{1} \\right)} \\cos{\\left(\\theta_{1} \\right)} & - 0.001 La \\sin{\\left(\\phi_{1} \\right)} \\sin{\\left(\\theta_{1} \\right)} & 0 & 0\\\\- 0.001 La \\sin{\\left(\\phi_{1} \\right)} \\cos{\\left(\\theta_{1} \\right)} & - 0.001 La \\sin{\\left(\\theta_{1} \\right)} \\cos{\\left(\\phi_{1} \\right)} & 0 & 0\\\\0.001 La \\sin{\\left(\\theta_{1} \\right)} & 0 & 0 & 0\\end{matrix}\\right]$"
      ],
      "text/plain": [
       "Matrix([\n",
       "[ 0.001*La*cos(\\phi_{1})*cos(\\theta_{1}), -0.001*La*sin(\\phi_{1})*sin(\\theta_{1}), 0, 0],\n",
       "[-0.001*La*sin(\\phi_{1})*cos(\\theta_{1}), -0.001*La*sin(\\theta_{1})*cos(\\phi_{1}), 0, 0],\n",
       "[               0.001*La*sin(\\theta_{1}),                                       0, 0, 0]])"
      ]
     },
     "metadata": {},
     "output_type": "display_data"
    },
    {
     "data": {
      "text/latex": [
       "$\\displaystyle \\left[\\begin{matrix}0.001 Fx La \\cos{\\left(\\phi_{1} \\right)} \\cos{\\left(\\theta_{1} \\right)} - 0.001 Fy La \\sin{\\left(\\phi_{1} \\right)} \\cos{\\left(\\theta_{1} \\right)} + 0.001 Fz La \\sin{\\left(\\theta_{1} \\right)}\\\\- 0.001 Fx La \\sin{\\left(\\phi_{1} \\right)} \\sin{\\left(\\theta_{1} \\right)} - 0.001 Fy La \\sin{\\left(\\theta_{1} \\right)} \\cos{\\left(\\phi_{1} \\right)}\\\\0\\\\0\\end{matrix}\\right]$"
      ],
      "text/plain": [
       "Matrix([\n",
       "[0.001*Fx*La*cos(\\phi_{1})*cos(\\theta_{1}) - 0.001*Fy*La*sin(\\phi_{1})*cos(\\theta_{1}) + 0.001*Fz*La*sin(\\theta_{1})],\n",
       "[                             -0.001*Fx*La*sin(\\phi_{1})*sin(\\theta_{1}) - 0.001*Fy*La*sin(\\theta_{1})*cos(\\phi_{1})],\n",
       "[                                                                                                                  0],\n",
       "[                                                                                                                  0]])"
      ]
     },
     "metadata": {},
     "output_type": "display_data"
    },
    {
     "data": {
      "text/latex": [
       "$\\displaystyle \\left[\\begin{matrix}0\\\\\\tau\\end{matrix}\\right]$"
      ],
      "text/plain": [
       "Matrix([\n",
       "[   0],\n",
       "[\\tau]])"
      ]
     },
     "metadata": {},
     "output_type": "display_data"
    }
   ],
   "source": [
    "# Generalised forces\n",
    "# STEP 5: calculate generalized forces\n",
    "# arbitrary force\n",
    "Fx, Fy, Fz = sym.symbols(['Fx','Fy', 'Fz'])\n",
    "\n",
    "FF = sym.Matrix([[Fx],[Fy],[Fz]])\n",
    "\n",
    "# end position in force coordinates wrt generalized coordinates:\n",
    "x = sym.Matrix([[X0 + La*sym.sin(th1) + Lp*sym.sin(th1 + th2)],\n",
    "                [Y0 - La*sym.cos(th1) - Lp*sym.cos(th1 + th2)],\n",
    "                [Z0]])\n",
    "\n",
    "x = sym.Matrix([[X0 + La*sym.sin(th1)*sym.cos(ph1)*0.001], \n",
    "                [Y0 - La*sym.sin(th1)*sym.sin(ph1)*0.001], \n",
    "                [Z0 - La*sym.cos(th1)*0.001]]) # force position is at the origin\n",
    "JF = x.jacobian(q) # the jacobian\n",
    "\n",
    "QF = JF.transpose()*FF\n",
    "display(JF,QF)\n",
    "# control torque\n",
    "tau = sym.symbols('\\\\tau')\n",
    "\n",
    "Qtau = sym.Matrix([[0],[tau]])\n",
    "display(Qtau)\n",
    "# Qall = QF + Qtau\n",
    "\n",
    "# # put it all together\n",
    "# EOM = Lg1 - Lg3 + Lg4 - Qall.transpose()"
   ]
  },
  {
   "cell_type": "code",
   "execution_count": null,
   "id": "c2bd865c-6724-46f3-9eed-ddafacaf672f",
   "metadata": {},
   "outputs": [],
   "source": []
  }
 ],
 "metadata": {
  "kernelspec": {
   "display_name": "Python 3 (ipykernel)",
   "language": "python",
   "name": "python3"
  },
  "language_info": {
   "codemirror_mode": {
    "name": "ipython",
    "version": 3
   },
   "file_extension": ".py",
   "mimetype": "text/x-python",
   "name": "python",
   "nbconvert_exporter": "python",
   "pygments_lexer": "ipython3",
   "version": "3.12.3"
  }
 },
 "nbformat": 4,
 "nbformat_minor": 5
}
