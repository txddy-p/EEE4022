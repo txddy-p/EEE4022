{
 "cells": [
  {
   "cell_type": "markdown",
   "id": "0c5b497d",
   "metadata": {},
   "source": [
    "# Box pendulum\n",
    "- This is modelling for the rotary pendulum\n",
    "- mP is the mass of the pendulum\n",
    "- mA is the mass of the Arm\n",
    "- $\\theta$ is the angle made by the arm from the principal axis\n",
    "- $\\alpha$ is the angle made by the pendulum from the z axis of the arm"
   ]
  },
  {
   "cell_type": "code",
   "execution_count": null,
   "id": "e4d46cce-aad3-4086-9598-f1bde4505488",
   "metadata": {},
   "outputs": [],
   "source": [
    "# Rotation matrices\n",
    "\n",
    "def Rot1(th):\n",
    "    \"\"\"Rotation matrix from base to Arm.\"\"\"\n",
    "    return np.array([[np.cos(th), np.sin(th), 0],\n",
    "                     [-np.sin(th), np.cos(th), 1],\n",
    "                    [0, 0, 1]])\n",
    "\n",
    "def Rot2(th):\n",
    "    \"\"\"Rotation matrix from Arm to Pen.\"\"\"\n",
    "    return np.array([\n",
    "        [0, np.sin(th), -np.cos(th)],\n",
    "        [0, np.cos(th),  np.sin(th)],\n",
    "        [0,          0,            1]\n",
    "    ])"
   ]
  },
  {
   "cell_type": "code",
   "execution_count": 2,
   "id": "a726949b",
   "metadata": {},
   "outputs": [],
   "source": [
    "# Imports\n",
    "import sympy as sym\n",
    "import numpy as np\n",
    "from IPython.display import display #for pretty printing"
   ]
  },
  {
   "cell_type": "code",
   "execution_count": 3,
   "id": "1103d436",
   "metadata": {},
   "outputs": [
    {
     "data": {
      "text/latex": [
       "$\\displaystyle \\left[\\begin{matrix}\\ddot{\\theta}\\\\\\ddot{\\alpha}\\end{matrix}\\right]$"
      ],
      "text/plain": [
       "Matrix([\n",
       "[\\ddot{\\theta}],\n",
       "[\\ddot{\\alpha}]])"
      ]
     },
     "metadata": {},
     "output_type": "display_data"
    }
   ],
   "source": [
    "# create symbolic variables\n",
    "\n",
    "# system parameters\n",
    "X0,Y0, Z0 = sym.symbols(['X0','Y0', 'Z0']) # fixed position of Arm\n",
    "g = sym.symbols('g')\n",
    "mP,mA = sym.symbols(['mP','mA']) # mass of links\n",
    "La,Lp = sym.symbols(['La','Lp']) # length of links\n",
    "InA,InP = sym.symbols(['InA','InP']) # moment of intertia of links\n",
    "\n",
    "# generalized coordinates\n",
    "th,alph = sym.symbols(['\\\\theta','\\\\alpha']) #position\n",
    "dth,dalph = sym.symbols(['\\\\dot{\\\\theta}','\\\\dot{\\\\alpha}']) #velocity\n",
    "ddth,ddalph = sym.symbols(['\\\\ddot{\\\\theta}','\\\\ddot{\\\\alpha}']) #acceleration\n",
    "\n",
    "q = sym.Matrix([[th],[alph]]) #group into matrices\n",
    "dq = sym.Matrix([[dth],[dalph]])\n",
    "ddq = sym.Matrix([[ddth],[ddalph]])\n",
    "\n",
    "display(ddq) #display prints it as cool latex stuff"
   ]
  },
  {
   "cell_type": "markdown",
   "id": "2df94833",
   "metadata": {},
   "source": [
    "## Positions"
   ]
  },
  {
   "cell_type": "code",
   "execution_count": 4,
   "id": "a07df4d8",
   "metadata": {},
   "outputs": [
    {
     "data": {
      "text/latex": [
       "$\\displaystyle \\left[\\begin{matrix}\\frac{La \\cos{\\left(\\theta \\right)}}{2}\\\\\\frac{La \\sin{\\left(\\theta \\right)}}{2}\\\\0\\end{matrix}\\right]$"
      ],
      "text/plain": [
       "Matrix([\n",
       "[La*cos(\\theta)/2],\n",
       "[La*sin(\\theta)/2],\n",
       "[               0]])"
      ]
     },
     "metadata": {},
     "output_type": "display_data"
    },
    {
     "data": {
      "text/latex": [
       "$\\displaystyle \\left[\\begin{matrix}La \\cos{\\left(\\theta \\right)} + \\frac{Lp \\sin{\\left(\\alpha \\right)} \\sin{\\left(\\theta \\right)}}{2}\\\\La \\sin{\\left(\\theta \\right)} - \\frac{Lp \\sin{\\left(\\alpha \\right)} \\cos{\\left(\\theta \\right)}}{2}\\\\\\frac{Lp \\cos{\\left(\\alpha \\right)}}{2}\\end{matrix}\\right]$"
      ],
      "text/plain": [
       "Matrix([\n",
       "[La*cos(\\theta) + Lp*sin(\\alpha)*sin(\\theta)/2],\n",
       "[La*sin(\\theta) - Lp*sin(\\alpha)*cos(\\theta)/2],\n",
       "[                             Lp*cos(\\alpha)/2]])"
      ]
     },
     "metadata": {},
     "output_type": "display_data"
    }
   ],
   "source": [
    "# STEP 1: write expressions for the system space coordinates in terms of the generalized coordinates and parameters\n",
    "##### Arm is at the origin so no need for X0 and Y0\n",
    "xArm = La*sym.cos(th)/2\n",
    "yArm = La*sym.sin(th)/2\n",
    "zArm = 0\n",
    "\n",
    "xPen = sym.simplify(La*sym.cos(th) + (Lp*sym.sin(alph)*sym.sin(th))/2)\n",
    "yPen = sym.simplify(La*sym.sin(th) - (Lp*sym.sin(alph)*sym.cos(th))/2)\n",
    "zPen = Lp*sym.cos(alph) / 2\n",
    "\n",
    "r_Arm = sym.Matrix([xArm, yArm, zArm])\n",
    "r_Pen = sym.Matrix([xPen, yPen, zPen])\n",
    "\n",
    "display(r_Arm, r_Pen)"
   ]
  },
  {
   "cell_type": "markdown",
   "id": "1923015b",
   "metadata": {},
   "source": [
    "## Velocities"
   ]
  },
  {
   "cell_type": "markdown",
   "id": "4550beca",
   "metadata": {},
   "source": [
    "### Linear velocities"
   ]
  },
  {
   "cell_type": "code",
   "execution_count": 5,
   "id": "9a894cd7",
   "metadata": {},
   "outputs": [
    {
     "data": {
      "text/latex": [
       "$\\displaystyle \\left[\\begin{matrix}- \\frac{La \\dot{\\theta} \\sin{\\left(\\theta \\right)}}{2}\\\\\\frac{La \\dot{\\theta} \\cos{\\left(\\theta \\right)}}{2}\\\\0\\end{matrix}\\right]$"
      ],
      "text/plain": [
       "Matrix([\n",
       "[-La*\\dot{\\theta}*sin(\\theta)/2],\n",
       "[ La*\\dot{\\theta}*cos(\\theta)/2],\n",
       "[                             0]])"
      ]
     },
     "metadata": {},
     "output_type": "display_data"
    },
    {
     "data": {
      "text/latex": [
       "$\\displaystyle \\left[\\begin{matrix}\\frac{Lp \\dot{\\alpha} \\sin{\\left(\\theta \\right)} \\cos{\\left(\\alpha \\right)}}{2} - \\frac{\\dot{\\theta} \\left(2 La \\sin{\\left(\\theta \\right)} - Lp \\sin{\\left(\\alpha \\right)} \\cos{\\left(\\theta \\right)}\\right)}{2}\\\\- \\frac{Lp \\dot{\\alpha} \\cos{\\left(\\alpha \\right)} \\cos{\\left(\\theta \\right)}}{2} + \\frac{\\dot{\\theta} \\left(2 La \\cos{\\left(\\theta \\right)} + Lp \\sin{\\left(\\alpha \\right)} \\sin{\\left(\\theta \\right)}\\right)}{2}\\\\- \\frac{Lp \\dot{\\alpha} \\sin{\\left(\\alpha \\right)}}{2}\\end{matrix}\\right]$"
      ],
      "text/plain": [
       "Matrix([\n",
       "[ Lp*\\dot{\\alpha}*sin(\\theta)*cos(\\alpha)/2 - \\dot{\\theta}*(2*La*sin(\\theta) - Lp*sin(\\alpha)*cos(\\theta))/2],\n",
       "[-Lp*\\dot{\\alpha}*cos(\\alpha)*cos(\\theta)/2 + \\dot{\\theta}*(2*La*cos(\\theta) + Lp*sin(\\alpha)*sin(\\theta))/2],\n",
       "[                                                                             -Lp*\\dot{\\alpha}*sin(\\alpha)/2]])"
      ]
     },
     "metadata": {},
     "output_type": "display_data"
    }
   ],
   "source": [
    "# STEP 2: generate expressions for the system space velocities\n",
    "p1 = sym.Matrix([xArm,yArm,zArm,th])\n",
    "[dxArm,dyArm,dzArm,dth] = p1.jacobian(q)*dq\n",
    "\n",
    "p2 = sym.Matrix([xPen,yPen,zPen,alph])\n",
    "[dxPen,dyPen,dzPen,dalph] = p2.jacobian(q)*dq\n",
    "\n",
    "dArm = sym.Matrix([dxArm, dyArm, dzArm])\n",
    "dPen = sym.Matrix([dxPen, dyPen, dzPen])\n",
    "\n",
    "\n",
    "dr_Arm = sym.simplify(r_Arm.jacobian(q)*dq)\n",
    "dr_Pen = sym.simplify(r_Pen.jacobian(q)*dq)\n",
    "display(dr_Arm,dr_Pen)"
   ]
  },
  {
   "cell_type": "markdown",
   "id": "f7310fb6",
   "metadata": {},
   "source": [
    "### Angular velocities"
   ]
  },
  {
   "cell_type": "code",
   "execution_count": 6,
   "id": "dda3a177",
   "metadata": {},
   "outputs": [
    {
     "data": {
      "text/latex": [
       "$\\displaystyle \\left[\\begin{matrix}\\dot{\\alpha}\\\\\\dot{\\theta} \\sin{\\left(\\alpha \\right)}\\\\\\dot{\\theta} \\cos{\\left(\\alpha \\right)}\\end{matrix}\\right]$"
      ],
      "text/plain": [
       "Matrix([\n",
       "[            \\dot{\\alpha}],\n",
       "[\\dot{\\theta}*sin(\\alpha)],\n",
       "[\\dot{\\theta}*cos(\\alpha)]])"
      ]
     },
     "metadata": {},
     "output_type": "display_data"
    },
    {
     "data": {
      "text/latex": [
       "$\\displaystyle \\left[\\begin{matrix}\\dot{\\alpha}\\\\\\dot{\\theta} \\sin{\\left(\\alpha \\right)}\\\\\\dot{\\theta} \\cos{\\left(\\alpha \\right)}\\end{matrix}\\right]$"
      ],
      "text/plain": [
       "Matrix([\n",
       "[            \\dot{\\alpha}],\n",
       "[\\dot{\\theta}*sin(\\alpha)],\n",
       "[\\dot{\\theta}*cos(\\alpha)]])"
      ]
     },
     "metadata": {},
     "output_type": "display_data"
    }
   ],
   "source": [
    "wArm = sym.Matrix([0, 0, dth])\n",
    "wPen = sym.Matrix([dalph, dth*sym.sin(alph), dth*sym.cos(alph)])\n",
    "wArm = wPen\n",
    "display(wArm,wPen)"
   ]
  },
  {
   "cell_type": "markdown",
   "id": "40be85b4",
   "metadata": {},
   "source": [
    "## Lagrange"
   ]
  },
  {
   "cell_type": "code",
   "execution_count": 7,
   "id": "6eb67370",
   "metadata": {},
   "outputs": [
    {
     "data": {
      "text/latex": [
       "$\\displaystyle \\left[\\begin{matrix}0.5 InA \\dot{\\alpha}^{2} + 0.5 InA \\dot{\\theta}^{2} + 0.5 InP \\dot{\\alpha}^{2} + 0.5 InP \\dot{\\theta}^{2} + 0.125 La^{2} \\dot{\\theta}^{2} mA + 0.5 La^{2} \\dot{\\theta}^{2} mP - 0.5 La Lp \\dot{\\alpha} \\dot{\\theta} mP \\cos{\\left(\\alpha \\right)} + 0.125 Lp^{2} \\dot{\\alpha}^{2} mP + 0.125 Lp^{2} \\dot{\\theta}^{2} mP \\sin^{2}{\\left(\\alpha \\right)}\\end{matrix}\\right]$"
      ],
      "text/plain": [
       "Matrix([[0.5*InA*\\dot{\\alpha}**2 + 0.5*InA*\\dot{\\theta}**2 + 0.5*InP*\\dot{\\alpha}**2 + 0.5*InP*\\dot{\\theta}**2 + 0.125*La**2*\\dot{\\theta}**2*mA + 0.5*La**2*\\dot{\\theta}**2*mP - 0.5*La*Lp*\\dot{\\alpha}*\\dot{\\theta}*mP*cos(\\alpha) + 0.125*Lp**2*\\dot{\\alpha}**2*mP + 0.125*Lp**2*\\dot{\\theta}**2*mP*sin(\\alpha)**2]])"
      ]
     },
     "metadata": {},
     "output_type": "display_data"
    },
    {
     "data": {
      "text/latex": [
       "$\\displaystyle \\left[\\begin{matrix}\\frac{Lp g mP \\cos{\\left(\\alpha \\right)}}{2}\\end{matrix}\\right]$"
      ],
      "text/plain": [
       "Matrix([[Lp*g*mP*cos(\\alpha)/2]])"
      ]
     },
     "metadata": {},
     "output_type": "display_data"
    }
   ],
   "source": [
    "# STEP 3: generate expressions for the kinetic and potential energy\n",
    "## Kinetic energies\n",
    "Thub = 0\n",
    "TArm = (0.5*mA*dArm.T*dArm) + (0.5*InA*wArm.T*wArm)\n",
    "TPen = (0.5*mP*dPen.T*dPen) + (0.5*InP*wPen.T*wPen)\n",
    "T = sym.Matrix([sym.simplify(TArm + TPen)])\n",
    "display(T)\n",
    "#T = sym.Matrix([0.5*mA*(dxArm**2+dyArm**2) + 0.5*mP*(dxPen**2+dyPen**2) + 0.5*InA*dth**2 + 0.5*InP*dalph**2])\n",
    "\n",
    "## Potential energies\n",
    "VArm = 0\n",
    "VHub = 0\n",
    "VPen = mP*g*zPen\n",
    "V = sym.Matrix([sym.simplify(VArm + VHub + VPen)])\n",
    "display(V)"
   ]
  },
  {
   "cell_type": "code",
   "execution_count": 8,
   "id": "201b00c8",
   "metadata": {},
   "outputs": [
    {
     "data": {
      "text/latex": [
       "$\\displaystyle \\left[\\begin{matrix}- 0.5 La Lp \\ddot{\\alpha} mP \\cos{\\left(\\alpha \\right)} + 0.5 Lp \\dot{\\alpha} mP \\left(La \\dot{\\alpha} + Lp \\dot{\\theta} \\cos{\\left(\\alpha \\right)}\\right) \\sin{\\left(\\alpha \\right)} + \\ddot{\\theta} \\left(1.0 InA + 1.0 InP + 0.25 La^{2} mA + 1.0 La^{2} mP + 0.25 Lp^{2} mP \\sin^{2}{\\left(\\alpha \\right)}\\right) & - 0.5 La Lp \\ddot{\\theta} mP \\cos{\\left(\\alpha \\right)} - 0.125 Lp^{2} \\dot{\\theta}^{2} mP \\sin{\\left(2 \\alpha \\right)} - \\frac{Lp g mP \\sin{\\left(\\alpha \\right)}}{2} + \\ddot{\\alpha} \\left(1.0 InA + 1.0 InP + 0.25 Lp^{2} mP\\right)\\end{matrix}\\right]$"
      ],
      "text/plain": [
       "Matrix([[-0.5*La*Lp*\\ddot{\\alpha}*mP*cos(\\alpha) + 0.5*Lp*\\dot{\\alpha}*mP*(La*\\dot{\\alpha} + Lp*\\dot{\\theta}*cos(\\alpha))*sin(\\alpha) + \\ddot{\\theta}*(1.0*InA + 1.0*InP + 0.25*La**2*mA + 1.0*La**2*mP + 0.25*Lp**2*mP*sin(\\alpha)**2), -0.5*La*Lp*\\ddot{\\theta}*mP*cos(\\alpha) - 0.125*Lp**2*\\dot{\\theta}**2*mP*sin(2*\\alpha) - Lp*g*mP*sin(\\alpha)/2 + \\ddot{\\alpha}*(1.0*InA + 1.0*InP + 0.25*Lp**2*mP)]])"
      ]
     },
     "metadata": {},
     "output_type": "display_data"
    }
   ],
   "source": [
    "# STEP 4: calculate each term of the Lagrange equation\n",
    "# term 1\n",
    "Lg1 = sym.zeros(1,len(q))\n",
    "for i in range(len(q)):\n",
    "    dT_ddq = sym.diff(T,dq[i]) # get partial of T in dq_i\n",
    "    Lg1[i] = dT_ddq.jacobian(q)*dq + dT_ddq.jacobian(dq)*ddq #...then get time derivative of that partial\n",
    "\n",
    "# term 3\n",
    "Lg3 = T.jacobian(q) # partial of T in q\n",
    "\n",
    "# term 4\n",
    "Lg4 = V.jacobian(q) # partial of U in q\n",
    "\n",
    "#combine\n",
    "EOM = sym.simplify(Lg1 - Lg3 + Lg4)\n",
    "\n",
    "display(EOM) #<-this will give you an idea of the magnitude of the faff a decent symbolic package lets you avoid"
   ]
  },
  {
   "cell_type": "markdown",
   "id": "b6a8cde6",
   "metadata": {},
   "source": [
    "# Test"
   ]
  },
  {
   "cell_type": "code",
   "execution_count": 9,
   "id": "087ada44",
   "metadata": {},
   "outputs": [],
   "source": [
    "#initial conditions\n",
    "th0 = np.pi/4\n",
    "alph0 = 0\n",
    "dth0 = 0\n",
    "dalph0 = 0\n",
    "\n",
    "h = 0.01\n",
    "\n",
    "#parameters\n",
    "X0val = 0\n",
    "Y0val = 0\n",
    "Laval = 1\n",
    "Lpval = 1\n",
    "\n",
    "parameter_values = [(X0,X0val),(Y0,Y0val),(g,9.81),(mA,1),(mP,1),(La,Laval),(Lp,Lpval),(InA,0.08),(InP,0.08)]\n",
    "\n",
    "thar = [th0]\n",
    "alphar = [alph0]\n",
    "dthar = [dth0]\n",
    "dalphar = [dalph0]\n",
    "\n",
    "N = 100\n",
    "for i in range(1,N):\n",
    "    # substitute parameter values and previous conditions into the EOM \n",
    "    past = [(th,thar[i-1]),(alph,alphar[i-1]),(dth,dthar[i-1]),(dalph,dalphar[i-1])]\n",
    "    EOM_sub = EOM.subs(parameter_values).subs(past)\n",
    "    #display(past)\n",
    "    # solve for the acceleration\n",
    "    acc = sym.solve(EOM_sub,[ddth, ddalph])\n",
    "    \n",
    "    # integrate for the next velocity and position\n",
    "    dthar.append(float(dthar[i-1]+h*acc[ddth]))\n",
    "    dalphar.append(float(dalphar[i-1]+h*acc[ddalph]))\n",
    "    thar.append(float(thar[i-1]+h*dthar[i]))\n",
    "    alphar.append(float(alphar[i-1]+h*dalphar[i]))"
   ]
  },
  {
   "cell_type": "code",
   "execution_count": 10,
   "id": "b2dd4a8b",
   "metadata": {},
   "outputs": [
    {
     "data": {
      "text/html": [
       "<video width=\"640\" height=\"480\" controls autoplay loop>\n",
       "  <source type=\"video/mp4\" src=\"data:video/mp4;base64,AAAAIGZ0eXBNNFYgAAACAE00ViBpc29taXNvMmF2YzEAAAAIZnJlZQAAF/9tZGF0AAACrgYF//+q\n",
       "3EXpvebZSLeWLNgg2SPu73gyNjQgLSBjb3JlIDE2NCByMzEwOCAzMWUxOWY5IC0gSC4yNjQvTVBF\n",
       "Ry00IEFWQyBjb2RlYyAtIENvcHlsZWZ0IDIwMDMtMjAyMyAtIGh0dHA6Ly93d3cudmlkZW9sYW4u\n",
       "b3JnL3gyNjQuaHRtbCAtIG9wdGlvbnM6IGNhYmFjPTEgcmVmPTMgZGVibG9jaz0xOjA6MCBhbmFs\n",
       "eXNlPTB4MzoweDExMyBtZT1oZXggc3VibWU9NyBwc3k9MSBwc3lfcmQ9MS4wMDowLjAwIG1peGVk\n",
       "X3JlZj0xIG1lX3JhbmdlPTE2IGNocm9tYV9tZT0xIHRyZWxsaXM9MSA4eDhkY3Q9MSBjcW09MCBk\n",
       "ZWFkem9uZT0yMSwxMSBmYXN0X3Bza2lwPTEgY2hyb21hX3FwX29mZnNldD0tMiB0aHJlYWRzPTYg\n",
       "bG9va2FoZWFkX3RocmVhZHM9MSBzbGljZWRfdGhyZWFkcz0wIG5yPTAgZGVjaW1hdGU9MSBpbnRl\n",
       "cmxhY2VkPTAgYmx1cmF5X2NvbXBhdD0wIGNvbnN0cmFpbmVkX2ludHJhPTAgYmZyYW1lcz0zIGJf\n",
       "cHlyYW1pZD0yIGJfYWRhcHQ9MSBiX2JpYXM9MCBkaXJlY3Q9MSB3ZWlnaHRiPTEgb3Blbl9nb3A9\n",
       "MCB3ZWlnaHRwPTIga2V5aW50PTI1MCBrZXlpbnRfbWluPTIwIHNjZW5lY3V0PTQwIGludHJhX3Jl\n",
       "ZnJlc2g9MCByY19sb29rYWhlYWQ9NDAgcmM9Y3JmIG1idHJlZT0xIGNyZj0yMy4wIHFjb21wPTAu\n",
       "NjAgcXBtaW49MCBxcG1heD02OSBxcHN0ZXA9NCBpcF9yYXRpbz0xLjQwIGFxPTE6MS4wMACAAAAK\n",
       "lWWIhAA///73aJ8Cm1pDeoDklcUl20+B/6tncHyP6QMAAAMAAAMAAAQwI4/0JP4fmpMAAAMARAAL\n",
       "4fP4StdcQHUWYSYHn73xloP+OLyjSoolTwjk0qw0C5+yM1GBxwT//oJ6zRdKFo8xU4+DDCnwPH5j\n",
       "T6AJtcBm3YpJQ68qVispMh5rWAvJsh3tg2IO64Xz/HDlNsDcX83hg4McUFdlDuOa9w606n6PXth9\n",
       "vjJI5UZ4Gql/mseSUn1tsIsP7ZhxksvA1p7tc+aiv6AGoDun/hcO9eW+5LYubtOdfb1PxAR6u/dp\n",
       "eVOEm+3OhMAAQBe3zdkV8tFYBqYQG4FwacFFAwyHEZIdsPmVs2aQ7Nd+drVYWVQnTWDuCn7R4Gng\n",
       "OXoLKM08cozpAVNgqAmWXFTOHEVSrtH0zGfJJz7hi6WMB4CdA8ZNdhFqLVCduT2xxcfgQ5j/v1g4\n",
       "FkAKcxQsuD8rtbnWIRG0Be3rJJqmhNED5ZBoRdfVPSgEAO8oIzc/Ftj1h8/QAzw/my9WvDIe5w0K\n",
       "5PR/GSZarcoznvS6cg5vC8TVg74NXBWh3YV+sE6YQgoIjL2TYb2MxNZzDvZ03U39h5Y5pUzRkPgw\n",
       "nlgMjWfjshICU4qAzTE9cz1e1UesKF0SsSXPlATglngWWwBAAySKIIcxnuaKPi/Wmko9EXuU/bOa\n",
       "HuqGaddnbeCseePLydbS3pYfkq4fIFW/GvVE9KEHMPuTGlrMd77cXR/AxTUHHYbXZfiGxTetSblD\n",
       "YgqkyldQIj+AEnGW/lLvhwuFWgKrgAacCofB5wOUuCfvkT3CyYdfUhoO61BFcV2859VAcbHlNw8w\n",
       "OEb8ow+ASVYAKruNbrl1SXhaqGBm77mmzyJHQF97mQ23xvUv6bd0j1p+u2YzvYr1OSlC8juoBjzA\n",
       "8p3U0GD4kTlTPIH293LLg1SZ2zxYvme3wKDl9wwCZqSfZ8IP8kAvpr1p8wDbSuLQAeqYwTZX3kJs\n",
       "kYirbpzK9OKePvZ85RCiFBxHSuRdGmN/NqTNscWOp9h3W9t8+IQeJQB/efcQYZUiTj7EUjwAnozj\n",
       "q3yKS0t/ucNUgPH/rqO/92y4zmmuzyDQgHeMoDzDfS51UGicKhJJd2gAWvvzaxocVR2gkJ+YmOkn\n",
       "HyJTHGA36w281rd2fmAdW4IS1+3FRm8Kx4/IS3sTRND2pxzWrLk6Mbe222mvGq07LC6t81fM87dV\n",
       "8dC7JoVE1wXDdMjUkJmb7Cps66vWt52RS56cqoUzPwobljowiqGgKIorxO9H/wnPbYHfopUFhGT5\n",
       "jszctrGXw0AF13hgLPXyXvw9ns5kfXGy6BHVXhvbAaCn+ntcXvOOzWvEhEIzwxS5ROdohstlab5r\n",
       "fiRxvJWiw/XpqDAuuELPgHJGEhzx2r+8MFtaqeEcYQCuf/6HxgEh6y4xgPqGnddbci6sdFkan2r9\n",
       "lLCsQAgJp3uW1aU18HDswZhNMmTn+FNZS0b40pZeaR6xxPqHh0ylPI//zgGiEeDdDn6xpkZRvIEa\n",
       "UPt1FuC1VVT6mZwPpRQxiSPZ3uBzs4Ivgtbpv/HS71zZLTSNJReAuZ0CpozjicBYFLfVeqAAACI9\n",
       "VlClnMh/E/o1FNKBaXBBAKya3vh1VWdDPGPBa1qZ4vTzaKCVEgmTb2DO1Hd15fyILlDHpo/yvPd1\n",
       "+O/9mD94iOLW0uJm4C4b0JlCjPTU9Jp1Tgy4Zx21rb/1kWn1+yiw4iJ6wgyzsVarvYWK4lEEA6V6\n",
       "vrongPFnnTzji8nKXF0BqSZls+RO8uao3JzrFJK2D5IS+0stJCuiqqOj3UrnuxReLKxWp5Kw/7WG\n",
       "T7aCCaJF3f/c16J/OI9yncSG2/tYzdHYhfdwLHny/QS9MDl1GWhKDo1NX3zYswqFmcmjgccO9nYb\n",
       "JNjMf9ZZ0hplxGjddTtGE5KRiwznfmAAM9H+Lgr5rHE2K2lq6vU3JwW0NAwy/B/rKWDBSmSmje8M\n",
       "CuXWgTigAc5bACLTLebsvBQ1GzqoUb8uTW/ziy0ne6GEMz+ljLFQBR9MObSEvy896QAqUXCyfgfd\n",
       "DzSFRN2ICpmJoO52Jzu4k7PjGix0/gDqBlyTaddJeR6UOvlbCA2Q3f+P1NZd0A5hh0QAKp4ZYpqf\n",
       "2Ho4oKZcqmpUecBXnXdi4/hnMUpH94p6mhP8zyUBaV+E+Nbmyx298YLMPk7XeuVqonZ+DxxmKj6P\n",
       "96xY+X/UkYySmNjf5TBylpPSeskljnsVsEzmhjzK3fnI2QTvk4xTGcnm79dWbhtd/0bI4qtxjFeT\n",
       "og0T2FcMJAu4VCNoVBKmphwo4ol/8rPaaWTzAs3Ghbw/G5S1E4C8PsONkuSivQAKYXJI0KUJkMwf\n",
       "uaiA5C7disSC0MJL2YvVwmEfTCSJGWQjbJlnPPJfyBT7YH2Fe5TqohxPAKflARrnk3ywzJ0Y1h9i\n",
       "Ppck+NmoM7k6zRtThWE3d9G4EL4zBhJP5Pp2q6OsVBrDG4qnKXjmeyldMA3jMihPmjGRp3YT1I8V\n",
       "erOo6lXuygwUVP9jrkyupMWPFe+6/rB3J2QcDvy3ga+nRykCL6xsZ+xZQ3oJMOT5+W2wz15s/3Ll\n",
       "ycFPtyQupFZKcmzrgQE7xgVL/HXk12Kb+AgC7AMUez8KiW9aL13Upa44XClqMl89yfoceT8jFebQ\n",
       "eu8QqH36j7AuHLa+tnPAznShJLnVO/7zuzCb94HpvHw02u+bx+86/vAzfatoC8g/mee1hIbTg3hm\n",
       "i7i60yufaaEFOtVGO6kj5TeLUldNLLToWCLzoC5TPZwnYNW22/nbeha9pfSB5ICnuq8zJmI1vUEz\n",
       "212czkGfUWVsF3UhFsfcRrX1R+e2k4xopJtY9LB3J/lulUMUG0xn5U4QUaUaI78r7FHfAB/sttTJ\n",
       "5VfGjAUr88eHEn8P7wLOqmHeUQEOkLnN+BQVrsQYOLAddz4zK6pMt+hGZVd6HEyuiCADWnyaClia\n",
       "XcAt+70U9+CPjI28oltjcc/J7l14f2UD88sAn1/KfuBgsVcgsHDiX37M3twsdE2aADr1GdFlmgH8\n",
       "f6FbEOl8/qv0XYKRX6PKdMyY4neetImlsPq0pdKrWVMq+S+hwGN4cNVydaeRXx5qNuQNqgx9tXSy\n",
       "5Rkzd9JsSyPrRaTijaYgfdsoVpcKKN/uXEqsHTSZLDA14LAtV0c+QBIGmM9Y9p8IcQ4BuKOAY7cH\n",
       "gPPpbo2Kwpj6gqJzqk9Kq90+7Pgs3v3EeO2rqsfgIncQrwTvW4Yb9hLrZzx1GtJAkUiQEgMFiVxy\n",
       "2P5H4ezcKZiHqHcP4ikyYL2Y+dp/e9eoaCKLlTVSLIbkmg/O/JMTiVskrFdaYvyYCaeojIdfBYBS\n",
       "wnWZMpODJWLUWnrFKd7Bxcbmm3mKAgi52nIiWF9PLbbsvU0aywgu3PAumTXDBf2f+d7QHpEVWJp4\n",
       "toVVzWRD8VhDVcWlLtB1H0AAZLKxGcP3A3bSWrg3c7H+acVaCueV1xfT5rgLIJ95t0s2uTBwfWuP\n",
       "cgPwRiVW1vchrIUtJwHyVPqnO8DX4BQJthUQoakW8c5sKNE5W7jEzsj4QoAjDmunMEC0xT+YsmkR\n",
       "Za9lvQbPSv3Be5c79QAnZ0jUQbHkFCNzwREHAAAc8QAAAElBmiRsQ//+qZYAKCJl6AHRPtrIor7K\n",
       "SIjKwsoj8m4f8eGHPX35xOI/ACIM6GD8p/9KsBwy/QRNea3Q0sK6Pg2sF06c+TxCIVKAAAAAHUGe\n",
       "QniGfwABm/i1AAzhbOwruyyBlQtM429M/rujAAAAFAGeYXRCvwAC+/09QBDUoqAz9wkyAAAAFgGe\n",
       "Y2pCvwAAAwAAAwAP4yl6Y27tcZcAAAAcQZpoSahBaJlMCH///qmWAAADAAADAAN5c2dEzQAAABxB\n",
       "noZFESwz/wAAAwAAfC5QbOYm5IfDMAE6gaDhAAAAFgGepXRCvwAAAwAAAwAP3wF6JVEeynMAAAAU\n",
       "AZ6nakK/AAADAAADAA/jKT3xpH4AAAAZQZqsSahBbJlMCH///qmWAAADAAADAAAs4AAAABtBnspF\n",
       "FSwz/wAAAwAAfC5QbOYm5IfDHO0cN4EAAAAUAZ7pdEK/AAADAAADAA/fAT3SjcYAAAAUAZ7rakK/\n",
       "AAADAAADAA/jKT3xpH4AAAAZQZrwSahBbJlMCH///qmWAAADAAADAAAs4QAAABtBnw5FFSwz/wAA\n",
       "AwAAfC5QbOYm5IfDHO0cN4EAAAAUAZ8tdEK/AAADAAADAA/fAT3SjccAAAAUAZ8vakK/AAADAAAD\n",
       "AA/jKT3xpH4AAAAZQZs0SahBbJlMCH///qmWAAADAAADAAAs4AAAABtBn1JFFSwz/wAAAwAAfC5Q\n",
       "bOYm5IfDHO0cN4EAAAAUAZ9xdEK/AAADAAADAA/fAT3SjcYAAAAUAZ9zakK/AAADAAADAA/jKT3x\n",
       "pH4AAAAZQZt4SahBbJlMCH///qmWAAADAAADAAAs4QAAABtBn5ZFFSwz/wAAAwAAfC5QbOYm5IfD\n",
       "HO0cN4AAAAAUAZ+1dEK/AAADAAADAA/fAT3SjccAAAAUAZ+3akK/AAADAAADAA/jKT3xpH8AAAAZ\n",
       "QZu8SahBbJlMCH///qmWAAADAAADAAAs4AAAABtBn9pFFSwz/wAAAwAAfC5QbOYm5IfDHO0cN4EA\n",
       "AAAUAZ/5dEK/AAADAAADAA/fAT3SjcYAAAAUAZ/7akK/AAADAAADAA/jKT3xpH8AAAAZQZvgSahB\n",
       "bJlMCH///qmWAAADAAADAAAs4QAAABtBnh5FFSwz/wAAAwAAfC5QbOYm5IfDHO0cN4AAAAAUAZ49\n",
       "dEK/AAADAAADAA/fAT3SjcYAAAAUAZ4/akK/AAADAAADAA/jKT3xpH8AAAAZQZokSahBbJlMCH//\n",
       "/qmWAAADAAADAAAs4AAAABtBnkJFFSwz/wAAAwAAfC5QbOYm5IfDHO0cN4EAAAAUAZ5hdEK/AAAD\n",
       "AAADAA/fAT3SjcYAAAAUAZ5jakK/AAADAAADAA/jKT3xpH8AAAAZQZpoSahBbJlMCH///qmWAAAD\n",
       "AAADAAAs4QAAABtBnoZFFSwz/wAAAwAAfC5QbOYm5IfDHO0cN4EAAAAUAZ6ldEK/AAADAAADAA/f\n",
       "AT3SjccAAAAUAZ6nakK/AAADAAADAA/jKT3xpH4AAAAZQZqsSahBbJlMCH///qmWAAADAAADAAAs\n",
       "4AAAABtBnspFFSwz/wAAAwAAfC5QbOYm5IfDHO0cN4EAAAAUAZ7pdEK/AAADAAADAA/fAT3SjcYA\n",
       "AAAUAZ7rakK/AAADAAADAA/jKT3xpH4AAAAZQZrwSahBbJlMCH///qmWAAADAAADAAAs4QAAABtB\n",
       "nw5FFSwz/wAAAwAAfC5QbOYm5IfDHO0cN4EAAAAUAZ8tdEK/AAADAAADAA/fAT3SjccAAAAUAZ8v\n",
       "akK/AAADAAADAA/jKT3xpH4AAAAZQZs0SahBbJlMCH///qmWAAADAAADAAAs4AAAABtBn1JFFSwz\n",
       "/wAAAwAAfC5QbOYm5IfDHO0cN4EAAAAUAZ9xdEK/AAADAAADAA/fAT3SjcYAAAAUAZ9zakK/AAAD\n",
       "AAADAA/jKT3xpH4AAAAZQZt4SahBbJlMCH///qmWAAADAAADAAAs4QAAABtBn5ZFFSwz/wAAAwAA\n",
       "fC5QbOYm5IfDHO0cN4AAAAAUAZ+1dEK/AAADAAADAA/fAT3SjccAAAAUAZ+3akK/AAADAAADAA/j\n",
       "KT3xpH8AAAAZQZu8SahBbJlMCH///qmWAAADAAADAAAs4AAAABtBn9pFFSwz/wAAAwAAfC5QbOYm\n",
       "5IfDHO0cN4EAAAAUAZ/5dEK/AAADAAADAA/fAT3SjcYAAAAUAZ/7akK/AAADAAADAA/jKT3xpH8A\n",
       "AAAZQZvgSahBbJlMCH///qmWAAADAAADAAAs4QAAABtBnh5FFSwz/wAAAwAAfC5QbOYm5IfDHO0c\n",
       "N4AAAAAUAZ49dEK/AAADAAADAA/fAT3SjcYAAAAUAZ4/akK/AAADAAADAA/jKT3xpH8AAAAZQZok\n",
       "SahBbJlMCH///qmWAAADAAADAAAs4AAAABtBnkJFFSwz/wAAAwAAfC5QbOYm5IfDHO0cN4EAAAAU\n",
       "AZ5hdEK/AAADAAADAA/fAT3SjcYAAAAUAZ5jakK/AAADAAADAA/jKT3xpH8AAAAZQZpoSahBbJlM\n",
       "CH///qmWAAADAAADAAAs4QAAABtBnoZFFSwz/wAAAwAAfC5QbOYm5IfDHO0cN4EAAAAUAZ6ldEK/\n",
       "AAADAAADAA/fAT3SjccAAAAUAZ6nakK/AAADAAADAA/jKT3xpH4AAAAZQZqsSahBbJlMCH///qmW\n",
       "AAADAAADAAAs4AAAABtBnspFFSwz/wAAAwAAfC5QbOYm5IfDHO0cN4EAAAAUAZ7pdEK/AAADAAAD\n",
       "AA/fAT3SjcYAAAAUAZ7rakK/AAADAAADAA/jKT3xpH4AAAAZQZrwSahBbJlMCH///qmWAAADAAAD\n",
       "AAAs4QAAABtBnw5FFSwz/wAAAwAAfC5QbOYm5IfDHO0cN4EAAAAUAZ8tdEK/AAADAAADAA/fAT3S\n",
       "jccAAAAUAZ8vakK/AAADAAADAA/jKT3xpH4AAAAZQZs0SahBbJlMCH///qmWAAADAAADAAAs4AAA\n",
       "ABtBn1JFFSwz/wAAAwAAfC5QbOYm5IfDHO0cN4EAAAAUAZ9xdEK/AAADAAADAA/fAT3SjcYAAAAU\n",
       "AZ9zakK/AAADAAADAA/jKT3xpH4AAAAZQZt4SahBbJlMCHf//qmWAAADAAADAAAs4QAAABtBn5ZF\n",
       "FSwz/wAAAwAAfC5QbOYm5IfDHO0cN4AAAAAUAZ+1dEK/AAADAAADAA/fAT3SjccAAAAUAZ+3akK/\n",
       "AAADAAADAA/jKT3xpH8AAAAZQZu8SahBbJlMCHf//qmWAAADAAADAAAs4AAAABtBn9pFFSwz/wAA\n",
       "AwAAfC5QbOYm5IfDHO0cN4EAAAAUAZ/5dEK/AAADAAADAA/fAT3SjcYAAAAUAZ/7akK/AAADAAAD\n",
       "AA/jKT3xpH8AAAAZQZvgSahBbJlMCG///qeEAAADAAADAABZQQAAABtBnh5FFSwz/wAAAwAAfC5Q\n",
       "bOYm5IfDHO0cN4AAAAAUAZ49dEK/AAADAAADAA/fAT3SjcYAAAAUAZ4/akK/AAADAAADAA/jKT3x\n",
       "pH8AAAAYQZojSahBbJlMCFf//jhAAAADAAADAAVMAAAAGkGeQUUVLC//AAADAACsnb3f1OUNNVCT\n",
       "LY4rAAAAFAGeYmpCvwAAAwAAAwAP4yk98aR+AAAH2m1vb3YAAABsbXZoZAAAAAAAAAAAAAAAAAAA\n",
       "A+gAABOIAAEAAAEAAAAAAAAAAAAAAAABAAAAAAAAAAAAAAAAAAAAAQAAAAAAAAAAAAAAAAAAQAAA\n",
       "AAAAAAAAAAAAAAAAAAAAAAAAAAAAAAAAAAAAAAIAAAcEdHJhawAAAFx0a2hkAAAAAwAAAAAAAAAA\n",
       "AAAAAQAAAAAAABOIAAAAAAAAAAAAAAAAAAAAAAABAAAAAAAAAAAAAAAAAAAAAQAAAAAAAAAAAAAA\n",
       "AAAAQAAAAAKAAAAB4AAAAAAAJGVkdHMAAAAcZWxzdAAAAAAAAAABAAATiAAABAAAAQAAAAAGfG1k\n",
       "aWEAAAAgbWRoZAAAAAAAAAAAAAAAAAAAKAAAAMgAVcQAAAAAAC1oZGxyAAAAAAAAAAB2aWRlAAAA\n",
       "AAAAAAAAAAAAVmlkZW9IYW5kbGVyAAAABidtaW5mAAAAFHZtaGQAAAABAAAAAAAAAAAAAAAkZGlu\n",
       "ZgAAABxkcmVmAAAAAAAAAAEAAAAMdXJsIAAAAAEAAAXnc3RibAAAALdzdHNkAAAAAAAAAAEAAACn\n",
       "YXZjMQAAAAAAAAABAAAAAAAAAAAAAAAAAAAAAAKAAeAASAAAAEgAAAAAAAAAAQAAAAAAAAAAAAAA\n",
       "AAAAAAAAAAAAAAAAAAAAAAAAAAAAABj//wAAADVhdmNDAWQAHv/hABhnZAAerNlAoD2hAAADAAEA\n",
       "AAMAKA8WLZYBAAZo6+PLIsD9+PgAAAAAHHV1aWRraEDyXyRPxbo5pRvPAyPzAAAAAAAAABhzdHRz\n",
       "AAAAAAAAAAEAAABkAAACAAAAABRzdHNzAAAAAAAAAAEAAAABAAADKGN0dHMAAAAAAAAAYwAAAAEA\n",
       "AAQAAAAAAQAACgAAAAABAAAEAAAAAAEAAAAAAAAAAQAAAgAAAAABAAAKAAAAAAEAAAQAAAAAAQAA\n",
       "AAAAAAABAAACAAAAAAEAAAoAAAAAAQAABAAAAAABAAAAAAAAAAEAAAIAAAAAAQAACgAAAAABAAAE\n",
       "AAAAAAEAAAAAAAAAAQAAAgAAAAABAAAKAAAAAAEAAAQAAAAAAQAAAAAAAAABAAACAAAAAAEAAAoA\n",
       "AAAAAQAABAAAAAABAAAAAAAAAAEAAAIAAAAAAQAACgAAAAABAAAEAAAAAAEAAAAAAAAAAQAAAgAA\n",
       "AAABAAAKAAAAAAEAAAQAAAAAAQAAAAAAAAABAAACAAAAAAEAAAoAAAAAAQAABAAAAAABAAAAAAAA\n",
       "AAEAAAIAAAAAAQAACgAAAAABAAAEAAAAAAEAAAAAAAAAAQAAAgAAAAABAAAKAAAAAAEAAAQAAAAA\n",
       "AQAAAAAAAAABAAACAAAAAAEAAAoAAAAAAQAABAAAAAABAAAAAAAAAAEAAAIAAAAAAQAACgAAAAAB\n",
       "AAAEAAAAAAEAAAAAAAAAAQAAAgAAAAABAAAKAAAAAAEAAAQAAAAAAQAAAAAAAAABAAACAAAAAAEA\n",
       "AAoAAAAAAQAABAAAAAABAAAAAAAAAAEAAAIAAAAAAQAACgAAAAABAAAEAAAAAAEAAAAAAAAAAQAA\n",
       "AgAAAAABAAAKAAAAAAEAAAQAAAAAAQAAAAAAAAABAAACAAAAAAEAAAoAAAAAAQAABAAAAAABAAAA\n",
       "AAAAAAEAAAIAAAAAAQAACgAAAAABAAAEAAAAAAEAAAAAAAAAAQAAAgAAAAABAAAKAAAAAAEAAAQA\n",
       "AAAAAQAAAAAAAAABAAACAAAAAAEAAAoAAAAAAQAABAAAAAABAAAAAAAAAAEAAAIAAAAAAQAACgAA\n",
       "AAABAAAEAAAAAAEAAAAAAAAAAQAAAgAAAAABAAAKAAAAAAEAAAQAAAAAAQAAAAAAAAABAAACAAAA\n",
       "AAEAAAoAAAAAAQAABAAAAAABAAAAAAAAAAEAAAIAAAAAAQAACAAAAAACAAACAAAAABxzdHNjAAAA\n",
       "AAAAAAEAAAABAAAAZAAAAAEAAAGkc3RzegAAAAAAAAAAAAAAZAAADUsAAABNAAAAIQAAABgAAAAa\n",
       "AAAAIAAAACAAAAAaAAAAGAAAAB0AAAAfAAAAGAAAABgAAAAdAAAAHwAAABgAAAAYAAAAHQAAAB8A\n",
       "AAAYAAAAGAAAAB0AAAAfAAAAGAAAABgAAAAdAAAAHwAAABgAAAAYAAAAHQAAAB8AAAAYAAAAGAAA\n",
       "AB0AAAAfAAAAGAAAABgAAAAdAAAAHwAAABgAAAAYAAAAHQAAAB8AAAAYAAAAGAAAAB0AAAAfAAAA\n",
       "GAAAABgAAAAdAAAAHwAAABgAAAAYAAAAHQAAAB8AAAAYAAAAGAAAAB0AAAAfAAAAGAAAABgAAAAd\n",
       "AAAAHwAAABgAAAAYAAAAHQAAAB8AAAAYAAAAGAAAAB0AAAAfAAAAGAAAABgAAAAdAAAAHwAAABgA\n",
       "AAAYAAAAHQAAAB8AAAAYAAAAGAAAAB0AAAAfAAAAGAAAABgAAAAdAAAAHwAAABgAAAAYAAAAHQAA\n",
       "AB8AAAAYAAAAGAAAAB0AAAAfAAAAGAAAABgAAAAcAAAAHgAAABgAAAAUc3RjbwAAAAAAAAABAAAA\n",
       "MAAAAGJ1ZHRhAAAAWm1ldGEAAAAAAAAAIWhkbHIAAAAAAAAAAG1kaXJhcHBsAAAAAAAAAAAAAAAA\n",
       "LWlsc3QAAAAlqXRvbwAAAB1kYXRhAAAAAQAAAABMYXZmNjAuMTYuMTAw\n",
       "\">\n",
       "  Your browser does not support the video tag.\n",
       "</video>"
      ],
      "text/plain": [
       "<IPython.core.display.HTML object>"
      ]
     },
     "execution_count": 10,
     "metadata": {},
     "output_type": "execute_result"
    },
    {
     "data": {
      "image/png": "[encoded data removed]",
      "text/plain": [
       "<Figure size 640x480 with 1 Axes>"
      ]
     },
     "metadata": {},
     "output_type": "display_data"
    }
   ],
   "source": [
    "#animate it\n",
    "import matplotlib.pyplot as plt\n",
    "import matplotlib.animation as ani\n",
    "from IPython.display import HTML\n",
    "%matplotlib inline\n",
    "\n",
    "fig1, ax1 = plt.subplots(1,1) #create axes\n",
    "\n",
    "def plot_pendulum(i,th_in,alph_in,ax): #update function for animation\n",
    "    ax.clear()\n",
    "    ax.set_xlim([-4,4])\n",
    "    ax.set_ylim([-4,4])\n",
    "    \n",
    "    #plot link 1\n",
    "    Latopx = X0val\n",
    "    Latopy = Y0val\n",
    "    Labottomx = X0val + Laval*np.sin(th_in[i])\n",
    "    Labottomy = Y0val - Laval*np.cos(th_in[i])\n",
    "    ax.plot([Latopx,Labottomx],[Latopy,Labottomy],color='xkcd:black')\n",
    "    \n",
    "    #plot link 2\n",
    "    Lpbottomx = Labottomx + Lpval*np.sin(th_in[i] + alph_in[i])\n",
    "    Lpbottomy = Labottomy - Lpval*np.cos(th_in[i] + alph_in[i]) \n",
    "    ax.plot([Labottomx,Lpbottomx],[Labottomy,Lpbottomy],color='xkcd:black')\n",
    "    \n",
    "update = lambda i: plot_pendulum(i,thar,alphar,ax1) #lambdify update function\n",
    "\n",
    "animate = ani.FuncAnimation(fig1,update,range(N),interval = 50,repeat=True)\n",
    "\n",
    "HTML(animate.to_html5_video()) #you need to convert the animation to HTML5 to embed it in the notebook"
   ]
  },
  {
   "cell_type": "code",
   "execution_count": 11,
   "id": "fb4979bb",
   "metadata": {},
   "outputs": [
    {
     "name": "stdout",
     "output_type": "stream",
     "text": [
      "Frame 0: th = 0.7853981633974483, alpha = 0\n",
      "Frame 0: th = 0.7853981633974483, alpha = 0\n",
      "Frame 1: th = 0.7853981633974483, alpha = 0.0\n",
      "Frame 2: th = 0.7853981633974483, alpha = 0.0\n",
      "Frame 3: th = 0.7853981633974483, alpha = 0.0\n",
      "Frame 4: th = 0.7853981633974483, alpha = 0.0\n",
      "Frame 5: th = 0.7853981633974483, alpha = 0.0\n",
      "Frame 6: th = 0.7853981633974483, alpha = 0.0\n",
      "Frame 7: th = 0.7853981633974483, alpha = 0.0\n",
      "Frame 8: th = 0.7853981633974483, alpha = 0.0\n",
      "Frame 9: th = 0.7853981633974483, alpha = 0.0\n",
      "Frame 10: th = 0.7853981633974483, alpha = 0.0\n",
      "Frame 11: th = 0.7853981633974483, alpha = 0.0\n",
      "Frame 12: th = 0.7853981633974483, alpha = 0.0\n",
      "Frame 13: th = 0.7853981633974483, alpha = 0.0\n",
      "Frame 14: th = 0.7853981633974483, alpha = 0.0\n",
      "Frame 15: th = 0.7853981633974483, alpha = 0.0\n",
      "Frame 16: th = 0.7853981633974483, alpha = 0.0\n",
      "Frame 17: th = 0.7853981633974483, alpha = 0.0\n",
      "Frame 18: th = 0.7853981633974483, alpha = 0.0\n",
      "Frame 19: th = 0.7853981633974483, alpha = 0.0\n",
      "Frame 20: th = 0.7853981633974483, alpha = 0.0\n",
      "Frame 21: th = 0.7853981633974483, alpha = 0.0\n",
      "Frame 22: th = 0.7853981633974483, alpha = 0.0\n",
      "Frame 23: th = 0.7853981633974483, alpha = 0.0\n",
      "Frame 24: th = 0.7853981633974483, alpha = 0.0\n",
      "Frame 25: th = 0.7853981633974483, alpha = 0.0\n",
      "Frame 26: th = 0.7853981633974483, alpha = 0.0\n",
      "Frame 27: th = 0.7853981633974483, alpha = 0.0\n",
      "Frame 28: th = 0.7853981633974483, alpha = 0.0\n",
      "Frame 29: th = 0.7853981633974483, alpha = 0.0\n",
      "Frame 30: th = 0.7853981633974483, alpha = 0.0\n",
      "Frame 31: th = 0.7853981633974483, alpha = 0.0\n",
      "Frame 32: th = 0.7853981633974483, alpha = 0.0\n",
      "Frame 33: th = 0.7853981633974483, alpha = 0.0\n",
      "Frame 34: th = 0.7853981633974483, alpha = 0.0\n",
      "Frame 35: th = 0.7853981633974483, alpha = 0.0\n",
      "Frame 36: th = 0.7853981633974483, alpha = 0.0\n",
      "Frame 37: th = 0.7853981633974483, alpha = 0.0\n",
      "Frame 38: th = 0.7853981633974483, alpha = 0.0\n",
      "Frame 39: th = 0.7853981633974483, alpha = 0.0\n",
      "Frame 40: th = 0.7853981633974483, alpha = 0.0\n",
      "Frame 41: th = 0.7853981633974483, alpha = 0.0\n",
      "Frame 42: th = 0.7853981633974483, alpha = 0.0\n",
      "Frame 43: th = 0.7853981633974483, alpha = 0.0\n",
      "Frame 44: th = 0.7853981633974483, alpha = 0.0\n",
      "Frame 45: th = 0.7853981633974483, alpha = 0.0\n",
      "Frame 46: th = 0.7853981633974483, alpha = 0.0\n",
      "Frame 47: th = 0.7853981633974483, alpha = 0.0\n",
      "Frame 48: th = 0.7853981633974483, alpha = 0.0\n",
      "Frame 49: th = 0.7853981633974483, alpha = 0.0\n",
      "Frame 50: th = 0.7853981633974483, alpha = 0.0\n",
      "Frame 51: th = 0.7853981633974483, alpha = 0.0\n",
      "Frame 52: th = 0.7853981633974483, alpha = 0.0\n",
      "Frame 53: th = 0.7853981633974483, alpha = 0.0\n",
      "Frame 54: th = 0.7853981633974483, alpha = 0.0\n",
      "Frame 55: th = 0.7853981633974483, alpha = 0.0\n",
      "Frame 56: th = 0.7853981633974483, alpha = 0.0\n",
      "Frame 57: th = 0.7853981633974483, alpha = 0.0\n",
      "Frame 58: th = 0.7853981633974483, alpha = 0.0\n",
      "Frame 59: th = 0.7853981633974483, alpha = 0.0\n",
      "Frame 60: th = 0.7853981633974483, alpha = 0.0\n",
      "Frame 61: th = 0.7853981633974483, alpha = 0.0\n",
      "Frame 62: th = 0.7853981633974483, alpha = 0.0\n",
      "Frame 63: th = 0.7853981633974483, alpha = 0.0\n",
      "Frame 64: th = 0.7853981633974483, alpha = 0.0\n",
      "Frame 65: th = 0.7853981633974483, alpha = 0.0\n",
      "Frame 66: th = 0.7853981633974483, alpha = 0.0\n",
      "Frame 67: th = 0.7853981633974483, alpha = 0.0\n",
      "Frame 68: th = 0.7853981633974483, alpha = 0.0\n",
      "Frame 69: th = 0.7853981633974483, alpha = 0.0\n",
      "Frame 70: th = 0.7853981633974483, alpha = 0.0\n",
      "Frame 71: th = 0.7853981633974483, alpha = 0.0\n",
      "Frame 72: th = 0.7853981633974483, alpha = 0.0\n",
      "Frame 73: th = 0.7853981633974483, alpha = 0.0\n",
      "Frame 74: th = 0.7853981633974483, alpha = 0.0\n",
      "Frame 75: th = 0.7853981633974483, alpha = 0.0\n",
      "Frame 76: th = 0.7853981633974483, alpha = 0.0\n",
      "Frame 77: th = 0.7853981633974483, alpha = 0.0\n",
      "Frame 78: th = 0.7853981633974483, alpha = 0.0\n",
      "Frame 79: th = 0.7853981633974483, alpha = 0.0\n",
      "Frame 80: th = 0.7853981633974483, alpha = 0.0\n",
      "Frame 81: th = 0.7853981633974483, alpha = 0.0\n",
      "Frame 82: th = 0.7853981633974483, alpha = 0.0\n",
      "Frame 83: th = 0.7853981633974483, alpha = 0.0\n",
      "Frame 84: th = 0.7853981633974483, alpha = 0.0\n",
      "Frame 85: th = 0.7853981633974483, alpha = 0.0\n",
      "Frame 86: th = 0.7853981633974483, alpha = 0.0\n",
      "Frame 87: th = 0.7853981633974483, alpha = 0.0\n",
      "Frame 88: th = 0.7853981633974483, alpha = 0.0\n",
      "Frame 89: th = 0.7853981633974483, alpha = 0.0\n",
      "Frame 90: th = 0.7853981633974483, alpha = 0.0\n",
      "Frame 91: th = 0.7853981633974483, alpha = 0.0\n",
      "Frame 92: th = 0.7853981633974483, alpha = 0.0\n",
      "Frame 93: th = 0.7853981633974483, alpha = 0.0\n",
      "Frame 94: th = 0.7853981633974483, alpha = 0.0\n",
      "Frame 95: th = 0.7853981633974483, alpha = 0.0\n",
      "Frame 96: th = 0.7853981633974483, alpha = 0.0\n",
      "Frame 97: th = 0.7853981633974483, alpha = 0.0\n",
      "Frame 98: th = 0.7853981633974483, alpha = 0.0\n",
      "Frame 99: th = 0.7853981633974483, alpha = 0.0\n"
     ]
    },
    {
     "data": {
      "text/html": [
       "<video width=\"640\" height=\"480\" controls autoplay loop>\n",
       "  <source type=\"video/mp4\" src=\"data:video/mp4;base64,AAAAIGZ0eXBNNFYgAAACAE00ViBpc29taXNvMmF2YzEAAAAIZnJlZQAAF/9tZGF0AAACrgYF//+q\n",
       "3EXpvebZSLeWLNgg2SPu73gyNjQgLSBjb3JlIDE2NCByMzEwOCAzMWUxOWY5IC0gSC4yNjQvTVBF\n",
       "Ry00IEFWQyBjb2RlYyAtIENvcHlsZWZ0IDIwMDMtMjAyMyAtIGh0dHA6Ly93d3cudmlkZW9sYW4u\n",
       "b3JnL3gyNjQuaHRtbCAtIG9wdGlvbnM6IGNhYmFjPTEgcmVmPTMgZGVibG9jaz0xOjA6MCBhbmFs\n",
       "eXNlPTB4MzoweDExMyBtZT1oZXggc3VibWU9NyBwc3k9MSBwc3lfcmQ9MS4wMDowLjAwIG1peGVk\n",
       "X3JlZj0xIG1lX3JhbmdlPTE2IGNocm9tYV9tZT0xIHRyZWxsaXM9MSA4eDhkY3Q9MSBjcW09MCBk\n",
       "ZWFkem9uZT0yMSwxMSBmYXN0X3Bza2lwPTEgY2hyb21hX3FwX29mZnNldD0tMiB0aHJlYWRzPTYg\n",
       "bG9va2FoZWFkX3RocmVhZHM9MSBzbGljZWRfdGhyZWFkcz0wIG5yPTAgZGVjaW1hdGU9MSBpbnRl\n",
       "cmxhY2VkPTAgYmx1cmF5X2NvbXBhdD0wIGNvbnN0cmFpbmVkX2ludHJhPTAgYmZyYW1lcz0zIGJf\n",
       "cHlyYW1pZD0yIGJfYWRhcHQ9MSBiX2JpYXM9MCBkaXJlY3Q9MSB3ZWlnaHRiPTEgb3Blbl9nb3A9\n",
       "MCB3ZWlnaHRwPTIga2V5aW50PTI1MCBrZXlpbnRfbWluPTIwIHNjZW5lY3V0PTQwIGludHJhX3Jl\n",
       "ZnJlc2g9MCByY19sb29rYWhlYWQ9NDAgcmM9Y3JmIG1idHJlZT0xIGNyZj0yMy4wIHFjb21wPTAu\n",
       "NjAgcXBtaW49MCBxcG1heD02OSBxcHN0ZXA9NCBpcF9yYXRpbz0xLjQwIGFxPTE6MS4wMACAAAAK\n",
       "lWWIhAA///73aJ8Cm1pDeoDklcUl20+B/6tncHyP6QMAAAMAAAMAAAQwI4/0JP4fmpMAAAMARAAL\n",
       "4fP4StdcQHUWYSYHn73xloP+OLyjSoolTwjk0qw0C5+yM1GBxwT//oJ6zRdKFo8xU4+DDCnwPH5j\n",
       "T6AJtcBm3YpJQ68qVispMh5rWAvJsh3tg2IO64Xz/HDlNsDcX83hg4McUFdlDuOa9w606n6PXth9\n",
       "vjJI5UZ4Gql/mseSUn1tsIsP7ZhxksvA1p7tc+aiv6AGoDun/hcO9eW+5LYubtOdfb1PxAR6u/dp\n",
       "eVOEm+3OhMAAQBe3zdkV8tFYBqYQG4FwacFFAwyHEZIdsPmVs2aQ7Nd+drVYWVQnTWDuCn7R4Gng\n",
       "OXoLKM08cozpAVNgqAmWXFTOHEVSrtH0zGfJJz7hi6WMB4CdA8ZNdhFqLVCduT2xxcfgQ5j/v1g4\n",
       "FkAKcxQsuD8rtbnWIRG0Be3rJJqmhNED5ZBoRdfVPSgEAO8oIzc/Ftj1h8/QAzw/my9WvDIe5w0K\n",
       "5PR/GSZarcoznvS6cg5vC8TVg74NXBWh3YV+sE6YQgoIjL2TYb2MxNZzDvZ03U39h5Y5pUzRkPgw\n",
       "nlgMjWfjshICU4qAzTE9cz1e1UesKF0SsSXPlATglngWWwBAAySKIIcxnuaKPi/Wmko9EXuU/bOa\n",
       "HuqGaddnbeCseePLydbS3pYfkq4fIFW/GvVE9KEHMPuTGlrMd77cXR/AxTUHHYbXZfiGxTetSblD\n",
       "YgqkyldQIj+AEnGW/lLvhwuFWgKrgAacCofB5wOUuCfvkT3CyYdfUhoO61BFcV2859VAcbHlNw8w\n",
       "OEb8ow+ASVYAKruNbrl1SXhaqGBm77mmzyJHQF97mQ23xvUv6bd0j1p+u2YzvYr1OSlC8juoBjzA\n",
       "8p3U0GD4kTlTPIH293LLg1SZ2zxYvme3wKDl9wwCZqSfZ8IP8kAvpr1p8wDbSuLQAeqYwTZX3kJs\n",
       "kYirbpzK9OKePvZ85RCiFBxHSuRdGmN/NqTNscWOp9h3W9t8+IQeJQB/efcQYZUiTj7EUjwAnozj\n",
       "q3yKS0t/ucNUgPH/rqO/92y4zmmuzyDQgHeMoDzDfS51UGicKhJJd2gAWvvzaxocVR2gkJ+YmOkn\n",
       "HyJTHGA36w281rd2fmAdW4IS1+3FRm8Kx4/IS3sTRND2pxzWrLk6Mbe222mvGq07LC6t81fM87dV\n",
       "8dC7JoVE1wXDdMjUkJmb7Cps66vWt52RS56cqoUzPwobljowiqGgKIorxO9H/wnPbYHfopUFhGT5\n",
       "jszctrGXw0AF13hgLPXyXvw9ns5kfXGy6BHVXhvbAaCn+ntcXvOOzWvEhEIzwxS5ROdohstlab5r\n",
       "fiRxvJWiw/XpqDAuuELPgHJGEhzx2r+8MFtaqeEcYQCuf/6HxgEh6y4xgPqGnddbci6sdFkan2r9\n",
       "lLCsQAgJp3uW1aU18HDswZhNMmTn+FNZS0b40pZeaR6xxPqHh0ylPI//zgGiEeDdDn6xpkZRvIEa\n",
       "UPt1FuC1VVT6mZwPpRQxiSPZ3uBzs4Ivgtbpv/HS71zZLTSNJReAuZ0CpozjicBYFLfVeqAAACI9\n",
       "VlClnMh/E/o1FNKBaXBBAKya3vh1VWdDPGPBa1qZ4vTzaKCVEgmTb2DO1Hd15fyILlDHpo/yvPd1\n",
       "+O/9mD94iOLW0uJm4C4b0JlCjPTU9Jp1Tgy4Zx21rb/1kWn1+yiw4iJ6wgyzsVarvYWK4lEEA6V6\n",
       "vrongPFnnTzji8nKXF0BqSZls+RO8uao3JzrFJK2D5IS+0stJCuiqqOj3UrnuxReLKxWp5Kw/7WG\n",
       "T7aCCaJF3f/c16J/OI9yncSG2/tYzdHYhfdwLHny/QS9MDl1GWhKDo1NX3zYswqFmcmjgccO9nYb\n",
       "JNjMf9ZZ0hplxGjddTtGE5KRiwznfmAAM9H+Lgr5rHE2K2lq6vU3JwW0NAwy/B/rKWDBSmSmje8M\n",
       "CuXWgTigAc5bACLTLebsvBQ1GzqoUb8uTW/ziy0ne6GEMz+ljLFQBR9MObSEvy896QAqUXCyfgfd\n",
       "DzSFRN2ICpmJoO52Jzu4k7PjGix0/gDqBlyTaddJeR6UOvlbCA2Q3f+P1NZd0A5hh0QAKp4ZYpqf\n",
       "2Ho4oKZcqmpUecBXnXdi4/hnMUpH94p6mhP8zyUBaV+E+Nbmyx298YLMPk7XeuVqonZ+DxxmKj6P\n",
       "96xY+X/UkYySmNjf5TBylpPSeskljnsVsEzmhjzK3fnI2QTvk4xTGcnm79dWbhtd/0bI4qtxjFeT\n",
       "og0T2FcMJAu4VCNoVBKmphwo4ol/8rPaaWTzAs3Ghbw/G5S1E4C8PsONkuSivQAKYXJI0KUJkMwf\n",
       "uaiA5C7disSC0MJL2YvVwmEfTCSJGWQjbJlnPPJfyBT7YH2Fe5TqohxPAKflARrnk3ywzJ0Y1h9i\n",
       "Ppck+NmoM7k6zRtThWE3d9G4EL4zBhJP5Pp2q6OsVBrDG4qnKXjmeyldMA3jMihPmjGRp3YT1I8V\n",
       "erOo6lXuygwUVP9jrkyupMWPFe+6/rB3J2QcDvy3ga+nRykCL6xsZ+xZQ3oJMOT5+W2wz15s/3Ll\n",
       "ycFPtyQupFZKcmzrgQE7xgVL/HXk12Kb+AgC7AMUez8KiW9aL13Upa44XClqMl89yfoceT8jFebQ\n",
       "eu8QqH36j7AuHLa+tnPAznShJLnVO/7zuzCb94HpvHw02u+bx+86/vAzfatoC8g/mee1hIbTg3hm\n",
       "i7i60yufaaEFOtVGO6kj5TeLUldNLLToWCLzoC5TPZwnYNW22/nbeha9pfSB5ICnuq8zJmI1vUEz\n",
       "212czkGfUWVsF3UhFsfcRrX1R+e2k4xopJtY9LB3J/lulUMUG0xn5U4QUaUaI78r7FHfAB/sttTJ\n",
       "5VfGjAUr88eHEn8P7wLOqmHeUQEOkLnN+BQVrsQYOLAddz4zK6pMt+hGZVd6HEyuiCADWnyaClia\n",
       "XcAt+70U9+CPjI28oltjcc/J7l14f2UD88sAn1/KfuBgsVcgsHDiX37M3twsdE2aADr1GdFlmgH8\n",
       "f6FbEOl8/qv0XYKRX6PKdMyY4neetImlsPq0pdKrWVMq+S+hwGN4cNVydaeRXx5qNuQNqgx9tXSy\n",
       "5Rkzd9JsSyPrRaTijaYgfdsoVpcKKN/uXEqsHTSZLDA14LAtV0c+QBIGmM9Y9p8IcQ4BuKOAY7cH\n",
       "gPPpbo2Kwpj6gqJzqk9Kq90+7Pgs3v3EeO2rqsfgIncQrwTvW4Yb9hLrZzx1GtJAkUiQEgMFiVxy\n",
       "2P5H4ezcKZiHqHcP4ikyYL2Y+dp/e9eoaCKLlTVSLIbkmg/O/JMTiVskrFdaYvyYCaeojIdfBYBS\n",
       "wnWZMpODJWLUWnrFKd7Bxcbmm3mKAgi52nIiWF9PLbbsvU0aywgu3PAumTXDBf2f+d7QHpEVWJp4\n",
       "toVVzWRD8VhDVcWlLtB1H0AAZLKxGcP3A3bSWrg3c7H+acVaCueV1xfT5rgLIJ95t0s2uTBwfWuP\n",
       "cgPwRiVW1vchrIUtJwHyVPqnO8DX4BQJthUQoakW8c5sKNE5W7jEzsj4QoAjDmunMEC0xT+YsmkR\n",
       "Za9lvQbPSv3Be5c79QAnZ0jUQbHkFCNzwREHAAAc8QAAAElBmiRsQ//+qZYAKCJl6AHRPtrIor7K\n",
       "SIjKwsoj8m4f8eGHPX35xOI/ACIM6GD8p/9KsBwy/QRNea3Q0sK6Pg2sF06c+TxCIVKAAAAAHUGe\n",
       "QniGfwABm/i1AAzhbOwruyyBlQtM429M/rujAAAAFAGeYXRCvwAC+/09QBDUoqAz9wkyAAAAFgGe\n",
       "Y2pCvwAAAwAAAwAP4yl6Y27tcZcAAAAcQZpoSahBaJlMCH///qmWAAADAAADAAN5c2dEzQAAABxB\n",
       "noZFESwz/wAAAwAAfC5QbOYm5IfDMAE6gaDhAAAAFgGepXRCvwAAAwAAAwAP3wF6JVEeynMAAAAU\n",
       "AZ6nakK/AAADAAADAA/jKT3xpH4AAAAZQZqsSahBbJlMCH///qmWAAADAAADAAAs4AAAABtBnspF\n",
       "FSwz/wAAAwAAfC5QbOYm5IfDHO0cN4EAAAAUAZ7pdEK/AAADAAADAA/fAT3SjcYAAAAUAZ7rakK/\n",
       "AAADAAADAA/jKT3xpH4AAAAZQZrwSahBbJlMCH///qmWAAADAAADAAAs4QAAABtBnw5FFSwz/wAA\n",
       "AwAAfC5QbOYm5IfDHO0cN4EAAAAUAZ8tdEK/AAADAAADAA/fAT3SjccAAAAUAZ8vakK/AAADAAAD\n",
       "AA/jKT3xpH4AAAAZQZs0SahBbJlMCH///qmWAAADAAADAAAs4AAAABtBn1JFFSwz/wAAAwAAfC5Q\n",
       "bOYm5IfDHO0cN4EAAAAUAZ9xdEK/AAADAAADAA/fAT3SjcYAAAAUAZ9zakK/AAADAAADAA/jKT3x\n",
       "pH4AAAAZQZt4SahBbJlMCH///qmWAAADAAADAAAs4QAAABtBn5ZFFSwz/wAAAwAAfC5QbOYm5IfD\n",
       "HO0cN4AAAAAUAZ+1dEK/AAADAAADAA/fAT3SjccAAAAUAZ+3akK/AAADAAADAA/jKT3xpH8AAAAZ\n",
       "QZu8SahBbJlMCH///qmWAAADAAADAAAs4AAAABtBn9pFFSwz/wAAAwAAfC5QbOYm5IfDHO0cN4EA\n",
       "AAAUAZ/5dEK/AAADAAADAA/fAT3SjcYAAAAUAZ/7akK/AAADAAADAA/jKT3xpH8AAAAZQZvgSahB\n",
       "bJlMCH///qmWAAADAAADAAAs4QAAABtBnh5FFSwz/wAAAwAAfC5QbOYm5IfDHO0cN4AAAAAUAZ49\n",
       "dEK/AAADAAADAA/fAT3SjcYAAAAUAZ4/akK/AAADAAADAA/jKT3xpH8AAAAZQZokSahBbJlMCH//\n",
       "/qmWAAADAAADAAAs4AAAABtBnkJFFSwz/wAAAwAAfC5QbOYm5IfDHO0cN4EAAAAUAZ5hdEK/AAAD\n",
       "AAADAA/fAT3SjcYAAAAUAZ5jakK/AAADAAADAA/jKT3xpH8AAAAZQZpoSahBbJlMCH///qmWAAAD\n",
       "AAADAAAs4QAAABtBnoZFFSwz/wAAAwAAfC5QbOYm5IfDHO0cN4EAAAAUAZ6ldEK/AAADAAADAA/f\n",
       "AT3SjccAAAAUAZ6nakK/AAADAAADAA/jKT3xpH4AAAAZQZqsSahBbJlMCH///qmWAAADAAADAAAs\n",
       "4AAAABtBnspFFSwz/wAAAwAAfC5QbOYm5IfDHO0cN4EAAAAUAZ7pdEK/AAADAAADAA/fAT3SjcYA\n",
       "AAAUAZ7rakK/AAADAAADAA/jKT3xpH4AAAAZQZrwSahBbJlMCH///qmWAAADAAADAAAs4QAAABtB\n",
       "nw5FFSwz/wAAAwAAfC5QbOYm5IfDHO0cN4EAAAAUAZ8tdEK/AAADAAADAA/fAT3SjccAAAAUAZ8v\n",
       "akK/AAADAAADAA/jKT3xpH4AAAAZQZs0SahBbJlMCH///qmWAAADAAADAAAs4AAAABtBn1JFFSwz\n",
       "/wAAAwAAfC5QbOYm5IfDHO0cN4EAAAAUAZ9xdEK/AAADAAADAA/fAT3SjcYAAAAUAZ9zakK/AAAD\n",
       "AAADAA/jKT3xpH4AAAAZQZt4SahBbJlMCH///qmWAAADAAADAAAs4QAAABtBn5ZFFSwz/wAAAwAA\n",
       "fC5QbOYm5IfDHO0cN4AAAAAUAZ+1dEK/AAADAAADAA/fAT3SjccAAAAUAZ+3akK/AAADAAADAA/j\n",
       "KT3xpH8AAAAZQZu8SahBbJlMCH///qmWAAADAAADAAAs4AAAABtBn9pFFSwz/wAAAwAAfC5QbOYm\n",
       "5IfDHO0cN4EAAAAUAZ/5dEK/AAADAAADAA/fAT3SjcYAAAAUAZ/7akK/AAADAAADAA/jKT3xpH8A\n",
       "AAAZQZvgSahBbJlMCH///qmWAAADAAADAAAs4QAAABtBnh5FFSwz/wAAAwAAfC5QbOYm5IfDHO0c\n",
       "N4AAAAAUAZ49dEK/AAADAAADAA/fAT3SjcYAAAAUAZ4/akK/AAADAAADAA/jKT3xpH8AAAAZQZok\n",
       "SahBbJlMCH///qmWAAADAAADAAAs4AAAABtBnkJFFSwz/wAAAwAAfC5QbOYm5IfDHO0cN4EAAAAU\n",
       "AZ5hdEK/AAADAAADAA/fAT3SjcYAAAAUAZ5jakK/AAADAAADAA/jKT3xpH8AAAAZQZpoSahBbJlM\n",
       "CH///qmWAAADAAADAAAs4QAAABtBnoZFFSwz/wAAAwAAfC5QbOYm5IfDHO0cN4EAAAAUAZ6ldEK/\n",
       "AAADAAADAA/fAT3SjccAAAAUAZ6nakK/AAADAAADAA/jKT3xpH4AAAAZQZqsSahBbJlMCH///qmW\n",
       "AAADAAADAAAs4AAAABtBnspFFSwz/wAAAwAAfC5QbOYm5IfDHO0cN4EAAAAUAZ7pdEK/AAADAAAD\n",
       "AA/fAT3SjcYAAAAUAZ7rakK/AAADAAADAA/jKT3xpH4AAAAZQZrwSahBbJlMCH///qmWAAADAAAD\n",
       "AAAs4QAAABtBnw5FFSwz/wAAAwAAfC5QbOYm5IfDHO0cN4EAAAAUAZ8tdEK/AAADAAADAA/fAT3S\n",
       "jccAAAAUAZ8vakK/AAADAAADAA/jKT3xpH4AAAAZQZs0SahBbJlMCH///qmWAAADAAADAAAs4AAA\n",
       "ABtBn1JFFSwz/wAAAwAAfC5QbOYm5IfDHO0cN4EAAAAUAZ9xdEK/AAADAAADAA/fAT3SjcYAAAAU\n",
       "AZ9zakK/AAADAAADAA/jKT3xpH4AAAAZQZt4SahBbJlMCHf//qmWAAADAAADAAAs4QAAABtBn5ZF\n",
       "FSwz/wAAAwAAfC5QbOYm5IfDHO0cN4AAAAAUAZ+1dEK/AAADAAADAA/fAT3SjccAAAAUAZ+3akK/\n",
       "AAADAAADAA/jKT3xpH8AAAAZQZu8SahBbJlMCHf//qmWAAADAAADAAAs4AAAABtBn9pFFSwz/wAA\n",
       "AwAAfC5QbOYm5IfDHO0cN4EAAAAUAZ/5dEK/AAADAAADAA/fAT3SjcYAAAAUAZ/7akK/AAADAAAD\n",
       "AA/jKT3xpH8AAAAZQZvgSahBbJlMCG///qeEAAADAAADAABZQQAAABtBnh5FFSwz/wAAAwAAfC5Q\n",
       "bOYm5IfDHO0cN4AAAAAUAZ49dEK/AAADAAADAA/fAT3SjcYAAAAUAZ4/akK/AAADAAADAA/jKT3x\n",
       "pH8AAAAYQZojSahBbJlMCFf//jhAAAADAAADAAVMAAAAGkGeQUUVLC//AAADAACsnb3f1OUNNVCT\n",
       "LY4rAAAAFAGeYmpCvwAAAwAAAwAP4yk98aR+AAAH2m1vb3YAAABsbXZoZAAAAAAAAAAAAAAAAAAA\n",
       "A+gAABOIAAEAAAEAAAAAAAAAAAAAAAABAAAAAAAAAAAAAAAAAAAAAQAAAAAAAAAAAAAAAAAAQAAA\n",
       "AAAAAAAAAAAAAAAAAAAAAAAAAAAAAAAAAAAAAAIAAAcEdHJhawAAAFx0a2hkAAAAAwAAAAAAAAAA\n",
       "AAAAAQAAAAAAABOIAAAAAAAAAAAAAAAAAAAAAAABAAAAAAAAAAAAAAAAAAAAAQAAAAAAAAAAAAAA\n",
       "AAAAQAAAAAKAAAAB4AAAAAAAJGVkdHMAAAAcZWxzdAAAAAAAAAABAAATiAAABAAAAQAAAAAGfG1k\n",
       "aWEAAAAgbWRoZAAAAAAAAAAAAAAAAAAAKAAAAMgAVcQAAAAAAC1oZGxyAAAAAAAAAAB2aWRlAAAA\n",
       "AAAAAAAAAAAAVmlkZW9IYW5kbGVyAAAABidtaW5mAAAAFHZtaGQAAAABAAAAAAAAAAAAAAAkZGlu\n",
       "ZgAAABxkcmVmAAAAAAAAAAEAAAAMdXJsIAAAAAEAAAXnc3RibAAAALdzdHNkAAAAAAAAAAEAAACn\n",
       "YXZjMQAAAAAAAAABAAAAAAAAAAAAAAAAAAAAAAKAAeAASAAAAEgAAAAAAAAAAQAAAAAAAAAAAAAA\n",
       "AAAAAAAAAAAAAAAAAAAAAAAAAAAAABj//wAAADVhdmNDAWQAHv/hABhnZAAerNlAoD2hAAADAAEA\n",
       "AAMAKA8WLZYBAAZo6+PLIsD9+PgAAAAAHHV1aWRraEDyXyRPxbo5pRvPAyPzAAAAAAAAABhzdHRz\n",
       "AAAAAAAAAAEAAABkAAACAAAAABRzdHNzAAAAAAAAAAEAAAABAAADKGN0dHMAAAAAAAAAYwAAAAEA\n",
       "AAQAAAAAAQAACgAAAAABAAAEAAAAAAEAAAAAAAAAAQAAAgAAAAABAAAKAAAAAAEAAAQAAAAAAQAA\n",
       "AAAAAAABAAACAAAAAAEAAAoAAAAAAQAABAAAAAABAAAAAAAAAAEAAAIAAAAAAQAACgAAAAABAAAE\n",
       "AAAAAAEAAAAAAAAAAQAAAgAAAAABAAAKAAAAAAEAAAQAAAAAAQAAAAAAAAABAAACAAAAAAEAAAoA\n",
       "AAAAAQAABAAAAAABAAAAAAAAAAEAAAIAAAAAAQAACgAAAAABAAAEAAAAAAEAAAAAAAAAAQAAAgAA\n",
       "AAABAAAKAAAAAAEAAAQAAAAAAQAAAAAAAAABAAACAAAAAAEAAAoAAAAAAQAABAAAAAABAAAAAAAA\n",
       "AAEAAAIAAAAAAQAACgAAAAABAAAEAAAAAAEAAAAAAAAAAQAAAgAAAAABAAAKAAAAAAEAAAQAAAAA\n",
       "AQAAAAAAAAABAAACAAAAAAEAAAoAAAAAAQAABAAAAAABAAAAAAAAAAEAAAIAAAAAAQAACgAAAAAB\n",
       "AAAEAAAAAAEAAAAAAAAAAQAAAgAAAAABAAAKAAAAAAEAAAQAAAAAAQAAAAAAAAABAAACAAAAAAEA\n",
       "AAoAAAAAAQAABAAAAAABAAAAAAAAAAEAAAIAAAAAAQAACgAAAAABAAAEAAAAAAEAAAAAAAAAAQAA\n",
       "AgAAAAABAAAKAAAAAAEAAAQAAAAAAQAAAAAAAAABAAACAAAAAAEAAAoAAAAAAQAABAAAAAABAAAA\n",
       "AAAAAAEAAAIAAAAAAQAACgAAAAABAAAEAAAAAAEAAAAAAAAAAQAAAgAAAAABAAAKAAAAAAEAAAQA\n",
       "AAAAAQAAAAAAAAABAAACAAAAAAEAAAoAAAAAAQAABAAAAAABAAAAAAAAAAEAAAIAAAAAAQAACgAA\n",
       "AAABAAAEAAAAAAEAAAAAAAAAAQAAAgAAAAABAAAKAAAAAAEAAAQAAAAAAQAAAAAAAAABAAACAAAA\n",
       "AAEAAAoAAAAAAQAABAAAAAABAAAAAAAAAAEAAAIAAAAAAQAACAAAAAACAAACAAAAABxzdHNjAAAA\n",
       "AAAAAAEAAAABAAAAZAAAAAEAAAGkc3RzegAAAAAAAAAAAAAAZAAADUsAAABNAAAAIQAAABgAAAAa\n",
       "AAAAIAAAACAAAAAaAAAAGAAAAB0AAAAfAAAAGAAAABgAAAAdAAAAHwAAABgAAAAYAAAAHQAAAB8A\n",
       "AAAYAAAAGAAAAB0AAAAfAAAAGAAAABgAAAAdAAAAHwAAABgAAAAYAAAAHQAAAB8AAAAYAAAAGAAA\n",
       "AB0AAAAfAAAAGAAAABgAAAAdAAAAHwAAABgAAAAYAAAAHQAAAB8AAAAYAAAAGAAAAB0AAAAfAAAA\n",
       "GAAAABgAAAAdAAAAHwAAABgAAAAYAAAAHQAAAB8AAAAYAAAAGAAAAB0AAAAfAAAAGAAAABgAAAAd\n",
       "AAAAHwAAABgAAAAYAAAAHQAAAB8AAAAYAAAAGAAAAB0AAAAfAAAAGAAAABgAAAAdAAAAHwAAABgA\n",
       "AAAYAAAAHQAAAB8AAAAYAAAAGAAAAB0AAAAfAAAAGAAAABgAAAAdAAAAHwAAABgAAAAYAAAAHQAA\n",
       "AB8AAAAYAAAAGAAAAB0AAAAfAAAAGAAAABgAAAAcAAAAHgAAABgAAAAUc3RjbwAAAAAAAAABAAAA\n",
       "MAAAAGJ1ZHRhAAAAWm1ldGEAAAAAAAAAIWhkbHIAAAAAAAAAAG1kaXJhcHBsAAAAAAAAAAAAAAAA\n",
       "LWlsc3QAAAAlqXRvbwAAAB1kYXRhAAAAAQAAAABMYXZmNjAuMTYuMTAw\n",
       "\">\n",
       "  Your browser does not support the video tag.\n",
       "</video>"
      ],
      "text/plain": [
       "<IPython.core.display.HTML object>"
      ]
     },
     "execution_count": 11,
     "metadata": {},
     "output_type": "execute_result"
    }
   ],
   "source": [
    "import matplotlib.pyplot as plt\n",
    "import matplotlib.animation as ani\n",
    "from IPython.display import HTML\n",
    "import numpy as np\n",
    "\n",
    "%matplotlib inline\n",
    "\n",
    "fig1, ax1 = plt.subplots(1, 1)  # create axes\n",
    "\n",
    "def plot_pendulum(i, th_in, alph_in, ax):  # update function for animation\n",
    "    ax.clear()\n",
    "    ax.set_xlim([-4, 4])\n",
    "    ax.set_ylim([-4, 4])\n",
    "    \n",
    "    # Debug: Print current angles\n",
    "    print(f\"Frame {i}: th = {th_in[i]}, alpha = {alph_in[i]}\")\n",
    "\n",
    "    # plot link 1\n",
    "    Latopy = Y0val\n",
    "    Latopz = X0val\n",
    "    Labottomz = X0val + Laval * np.sin(th_in[i])\n",
    "    Labottomy = Y0val - Laval * np.cos(th_in[i])\n",
    "    ax.plot([Latopz, Labottomz], [Latopy, Labottomy], color='xkcd:black')\n",
    "    \n",
    "    # plot link 2\n",
    "    Lpbottomz = Labottomz + Lpval * np.sin(th_in[i] + alph_in[i])\n",
    "    Lpbottomy = Labottomy - Lpval * np.cos(th_in[i] + alph_in[i]) \n",
    "    ax.plot([Labottomz, Lpbottomz], [Labottomy, Lpbottomy], color='xkcd:black')\n",
    "\n",
    "update = lambda i: plot_pendulum(i, thar, alphar, ax1)  # lambdify update function\n",
    "\n",
    "# Create animation\n",
    "animate = ani.FuncAnimation(fig1, update, frames=range(N), interval=50, repeat=True)\n",
    "\n",
    "# Display animation\n",
    "plt.close(fig1)  # Prevents static display of the last frame\n",
    "HTML(animate.to_html5_video())  # Convert the animation to HTML5 to embed it in the notebook\n"
   ]
  },
  {
   "cell_type": "code",
   "execution_count": null,
   "id": "97af6227-461c-47a2-8ce0-d5f5114a0c6e",
   "metadata": {},
   "outputs": [],
   "source": []
  }
 ],
 "metadata": {
  "kernelspec": {
   "display_name": "Python 3 (ipykernel)",
   "language": "python",
   "name": "python3"
  },
  "language_info": {
   "codemirror_mode": {
    "name": "ipython",
    "version": 3
   },
   "file_extension": ".py",
   "mimetype": "text/x-python",
   "name": "python",
   "nbconvert_exporter": "python",
   "pygments_lexer": "ipython3",
   "version": "3.12.2"
  }
 },
 "nbformat": 4,
 "nbformat_minor": 5
}
