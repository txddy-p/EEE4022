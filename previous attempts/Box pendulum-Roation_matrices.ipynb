{
 "cells": [
  {
   "cell_type": "markdown",
   "id": "0c5b497d",
   "metadata": {},
   "source": [
    "# Box pendulum\n",
    "- This is modelling for the rotary pendulum\n",
    "- mP is the mass of the pendulum\n",
    "- mA is the mass of the Arm\n",
    "- $\\theta$ is the angle made by the arm from the principal axis\n",
    "- $\\alpha$ is the angle made by the pendulum from the z axis of the arm"
   ]
  },
  {
   "cell_type": "code",
   "execution_count": 1,
   "id": "e4d46cce-aad3-4086-9598-f1bde4505488",
   "metadata": {},
   "outputs": [],
   "source": [
    "# Rotation matrices\n",
    "\n",
    "def Rot1(th):\n",
    "    \"\"\"Rotation matrix from base to Arm.\"\"\"\n",
    "    return np.array([[np.cos(th), np.sin(th), 0],\n",
    "                     [-np.sin(th), np.cos(th), 1],\n",
    "                    [0, 0, 1]])\n",
    "\n",
    "def Rot2(th):\n",
    "    \"\"\"Rotation matrix from Arm to Pen.\"\"\"\n",
    "    return np.array([\n",
    "        [0, np.sin(th), -np.cos(th)],\n",
    "        [0, np.cos(th),  np.sin(th)],\n",
    "        [0,          0,            1]\n",
    "    ])"
   ]
  },
  {
   "cell_type": "code",
   "execution_count": 2,
   "id": "a726949b",
   "metadata": {},
   "outputs": [],
   "source": [
    "# Imports\n",
    "import sympy as sym\n",
    "import numpy as np\n",
    "from IPython.display import display #for pretty printing"
   ]
  },
  {
   "cell_type": "code",
   "execution_count": null,
   "id": "1103d436",
   "metadata": {},
   "outputs": [],
   "source": [
    "# create symbolic variables\n",
    "\n",
    "# system parameters\n",
    "X0,Y0, Z0 = sym.symbols(['X0','Y0', 'Z0']) # fixed position of Arm\n",
    "g = sym.symbols('g')\n",
    "mP,mA = sym.symbols(['mP','mA']) # mass of links\n",
    "La,Lp = sym.symbols(['La','Lp']) # length of links\n",
    "InA,InP = sym.symbols(['InA','InP']) # moment of intertia of links\n",
    "\n",
    "# generalized coordinates\n",
    "th,alph = sym.symbols(['\\\\theta','\\\\alpha']) #position\n",
    "dth,dalph = sym.symbols(['\\\\dot{\\\\theta}','\\\\dot{\\\\alpha}']) #velocity\n",
    "ddth,ddalph = sym.symbols(['\\\\ddot{\\\\theta}','\\\\ddot{\\\\alpha}']) #acceleration\n",
    "\n",
    "q = sym.Matrix([[th],[alph]]) #group into matrices\n",
    "dq = sym.Matrix([[dth],[dalph]])\n",
    "ddq = sym.Matrix([[ddth],[ddalph]])\n",
    "\n",
    "display(ddq) #display prints it as cool latex stuff"
   ]
  },
  {
   "cell_type": "markdown",
   "id": "2df94833",
   "metadata": {},
   "source": [
    "## Positions"
   ]
  },
  {
   "cell_type": "code",
   "execution_count": null,
   "id": "a07df4d8",
   "metadata": {},
   "outputs": [],
   "source": []
  },
  {
   "cell_type": "markdown",
   "id": "1923015b",
   "metadata": {},
   "source": [
    "## Velocities"
   ]
  },
  {
   "cell_type": "markdown",
   "id": "4550beca",
   "metadata": {},
   "source": [
    "### Linear velocities"
   ]
  },
  {
   "cell_type": "code",
   "execution_count": null,
   "id": "9a894cd7",
   "metadata": {},
   "outputs": [],
   "source": [
    "w1 = sym.Matrix([0, 0, dth])\n",
    "v1t = w1*sym.Matrix([La, 0, 0])\n",
    "\n",
    "display(w1, v1t)"
   ]
  },
  {
   "cell_type": "markdown",
   "id": "f7310fb6",
   "metadata": {},
   "source": [
    "### Angular velocities"
   ]
  },
  {
   "cell_type": "code",
   "execution_count": null,
   "id": "dda3a177",
   "metadata": {},
   "outputs": [],
   "source": [
    "wArm = sym.Matrix([0, 0, dth])\n",
    "wPen = sym.Matrix([dalph, dth*sym.sin(alph), dth*sym.cos(alph)])\n",
    "display(wArm[2],dth)"
   ]
  },
  {
   "cell_type": "markdown",
   "id": "40be85b4",
   "metadata": {},
   "source": [
    "## Lagrange"
   ]
  },
  {
   "cell_type": "code",
   "execution_count": null,
   "id": "6eb67370",
   "metadata": {},
   "outputs": [],
   "source": [
    "# STEP 3: generate expressions for the kinetic and potential energy\n",
    "## Kinetic energies\n",
    "Thub = 0\n",
    "TArm = (0.5*m1*dArm.T*dArm) + (0.5*In1*wArm.T*wArm)\n",
    "TPen = (0.5*m2*dPen.T*dPen) + (0.5*In2*wPen.T*wPen)\n",
    "T = TArm + TPen\n",
    "display(T)\n",
    "#T = sym.Matrix([0.5*m1*(dxArm**2+dyArm**2) + 0.5*m2*(dxPen**2+dyPen**2) + 0.5*In1*dth**2 + 0.5*In2*dalph**2])\n",
    "\n",
    "## Potential energies\n",
    "VArm = 0\n",
    "VHub = 0\n",
    "VPen = m2*g*zPen\n",
    "V = sym.Matrix([VArm + VHub + VPen])\n",
    "display(V)"
   ]
  },
  {
   "cell_type": "code",
   "execution_count": null,
   "id": "201b00c8",
   "metadata": {},
   "outputs": [],
   "source": [
    "# STEP 4: calculate each term of the Lagrange equation\n",
    "# term 1\n",
    "Lg1 = sym.zeros(1,len(q))\n",
    "for i in range(len(q)):\n",
    "    dT_ddq = sym.diff(T,dq[i]) # get partial of T in dq_i\n",
    "    Lg1[i] = dT_ddq.jacobian(q)*dq + dT_ddq.jacobian(dq)*ddq #...then get time derivative of that partial\n",
    "\n",
    "# term 3\n",
    "Lg3 = T.jacobian(q) # partial of T in q\n",
    "\n",
    "# term 4\n",
    "Lg4 = V.jacobian(q) # partial of U in q\n",
    "\n",
    "#combine\n",
    "EOM = Lg1 - Lg3 + Lg4\n",
    "\n",
    "#display(EOM) #<-this will give you an idea of the magnitude of the faff a decent symbolic package lets you avoid"
   ]
  },
  {
   "cell_type": "markdown",
   "id": "b6a8cde6",
   "metadata": {},
   "source": [
    "# Test"
   ]
  },
  {
   "cell_type": "code",
   "execution_count": null,
   "id": "087ada44",
   "metadata": {},
   "outputs": [],
   "source": [
    "#initial conditions\n",
    "th0 = np.pi/4\n",
    "th20 = 0\n",
    "dth0 = 0\n",
    "dth20 = 0\n",
    "\n",
    "h = 0.01\n",
    "\n",
    "#parameters\n",
    "X0val = 0\n",
    "Y0val = 2\n",
    "Laval = 1\n",
    "Lpval = 1\n",
    "\n",
    "parameter_values = [(X0,X0val),(Y0,Y0val),(g,9.81),(m1,1),(m2,1),(La,Laval),(Lp,Lpval),(In1,0.08),(In2,0.08)]\n",
    "\n",
    "thr = [th0]\n",
    "alphr = [th20]\n",
    "dthr = [dth0]\n",
    "dalphr = [dth20]\n",
    "\n",
    "N = 100\n",
    "for i in range(1,N):\n",
    "    # substitute parameter values and previous conditions into the EOM \n",
    "    past = [(th,thr[i-1]),(th2,alphr[i-1]),(dth,dthr[i-1]),(dth2,dalphr[i-1])]\n",
    "    EOM_sub = EOM.subs(parameter_values).subs(past)\n",
    "    \n",
    "    # solve for the acceleration\n",
    "    acc = sym.solve(EOM_sub,[ddth, ddth2])\n",
    "    \n",
    "    # integrate for the next velocity and position    \n",
    "    dthr.append(float(dthr[i-1]+h*acc[ddth]))\n",
    "    dalphr.append(float(dalphr[i-1]+h*acc[ddth2]))\n",
    "    thr.append(float(thr[i-1]+h*dthr[i]))\n",
    "    alphr.append(float(alphr[i-1]+h*dalphr[i]))"
   ]
  },
  {
   "cell_type": "code",
   "execution_count": null,
   "id": "b2dd4a8b",
   "metadata": {},
   "outputs": [],
   "source": [
    "import numpy as np\n",
    "import matplotlib.pyplot as plt\n",
    "import matplotlib.animation as ani\n",
    "from mpl_toolkits.mplot3d import Axes3D\n",
    "from IPython.display import HTML\n",
    "\n",
    "# Initialize the figure and 3D axis\n",
    "fig1 = plt.figure()\n",
    "ax1 = fig1.add_subplot(111, projection='3d')\n",
    "\n",
    "# Define the lengths of the links\n",
    "La = 1  # Length of the first link (arm)\n",
    "Lp = 1  # Length of the second link (pendulum)\n",
    "\n",
    "# Define the plot limits\n",
    "ax1.set_xlim([-2, 2])\n",
    "ax1.set_ylim([0, 4])\n",
    "ax1.set_zlim([-2, 2])\n",
    "ax1.set_xlabel('X axis')\n",
    "ax1.set_ylabel('Y axis')\n",
    "ax1.set_zlabel('Z axis')\n",
    "\n",
    "def plot_furuta_pendulum_3d(i, th_in, th2_in, ax):\n",
    "    ax.clear()\n",
    "    \n",
    "    # Calculate positions of the arm\n",
    "    Latopx = 0\n",
    "    Latopy = 0\n",
    "    Latopz = 0\n",
    "    \n",
    "    Labottomx = La * np.cos(th_in[i])\n",
    "    Labottomy = La * np.sin(th_in[i])\n",
    "    Labottomz = 0\n",
    "    \n",
    "    # Plot the first link (arm)\n",
    "    ax.plot([Latopx, Labottomx], [Latopy, Labottomy], [Latopz, Labottomz], color='k', linewidth=2)\n",
    "    \n",
    "    # Add axis to the arm\n",
    "    ax.quiver(Latopx, Latopy, Latopz, Labottomx - Latopx, Labottomy - Latopy, Labottomz - Latopz, \n",
    "              color='r', length=La, normalize=True, arrow_length_ratio=0.1)\n",
    "    \n",
    "    # Calculate positions of the pendulum\n",
    "    # Pendulum rotates about the end of the arm\n",
    "    Lpbottomx = Labottomx + Lp * np.cos(th_in[i]) * np.cos(th2_in[i])\n",
    "    Lpbottomy = Labottomy + Lp * np.sin(th_in[i]) * np.cos(th2_in[i])\n",
    "    Lpbottomz = Labottomz - Lp * np.sin(th2_in[i])\n",
    "    \n",
    "    # Plot the second link (pendulum)\n",
    "    ax.plot([Labottomx, Lpbottomx], [Labottomy, Lpbottomy], [Labottomz, Lpbottomz], color='k', linewidth=2)\n",
    "    \n",
    "    # Add axis to the pendulum\n",
    "    ax.quiver(Labottomx, Labottomy, Labottomz, Lpbottomx - Labottomx, Lpbottomy - Labottomy, Lpbottomz - Labottomz, \n",
    "              color='b', length=Lp, normalize=True, arrow_length_ratio=0.1)\n",
    "\n",
    "    # Set plot limits\n",
    "    ax.set_xlim([-2, 2])\n",
    "    ax.set_ylim([-2, 2])\n",
    "    ax.set_zlim([-2, 2])\n",
    "    ax.set_xlabel('X axis')\n",
    "    ax.set_ylabel('Y axis')\n",
    "    ax.set_zlabel('Z axis')\n",
    "\n",
    "# Generate some example data\n",
    "N = 100  # Number of frames\n",
    "thr = np.linspace(0, 2 * np.pi, N)  # Example angle data for link 1\n",
    "alphr = np.linspace(0, np.pi, N)  # Example angle data for link 2\n",
    "\n",
    "# Define the update function\n",
    "update = lambda i: plot_furuta_pendulum_3d(i, thr, alphr, ax1)\n",
    "\n",
    "# Create the animation\n",
    "animate = ani.FuncAnimation(fig1, update, frames=range(N), interval=50, repeat=True)\n",
    "\n",
    "# Convert to HTML5 video for embedding in notebook\n",
    "HTML(animate.to_html5_video())\n"
   ]
  },
  {
   "cell_type": "code",
   "execution_count": null,
   "id": "ebc9e51c",
   "metadata": {},
   "outputs": [],
   "source": [
    "#initial conditions\n",
    "th0 = np.pi/4\n",
    "th20 = 0\n",
    "dth0 = 0\n",
    "dth20 = 0\n",
    "\n",
    "h = 0.01\n",
    "\n",
    "#parameters\n",
    "X0val = 0\n",
    "Y0val = 0\n",
    "Z0val = 0\n",
    "Laval = 1\n",
    "Lpval = 1\n",
    "\n",
    "parameter_values = [(X0,X0val),(Y0,Y0val),(g,9.81),(m1,1),(m2,1),(La,Laval),(Lp,Lpval),(In1,0.08),(In2,0.08)]\n",
    "\n",
    "thr = [th0]\n",
    "alphr = [th20]\n",
    "dthr = [dth0]\n",
    "dalphr = [dth20]\n",
    "\n",
    "N = 100\n",
    "for i in range(1,N):\n",
    "    # substitute parameter values and previous conditions into the EOM \n",
    "    past = [(th,thr[i-1]),(th2,alphr[i-1]),(dth,dthr[i-1]),(dth2,dalphr[i-1])]\n",
    "    EOM_sub = EOM.subs(parameter_values).subs(past)\n",
    "    \n",
    "    # solve for the acceleration\n",
    "    acc = sym.solve(EOM_sub,[ddth, ddth2])\n",
    "    \n",
    "    # integrate for the next velocity and position    \n",
    "    dthr.append(float(dthr[i-1]+h*acc[ddth]))\n",
    "    dalphr.append(float(dalphr[i-1]+h*acc[ddth2]))\n",
    "    thr.append(float(thr[i-1]+h*dthr[i]))\n",
    "    alphr.append(float(alphr[i-1]+h*dalphr[i]))"
   ]
  },
  {
   "cell_type": "code",
   "execution_count": null,
   "id": "fb4979bb",
   "metadata": {},
   "outputs": [],
   "source": []
  }
 ],
 "metadata": {
  "kernelspec": {
   "display_name": "Python 3 (ipykernel)",
   "language": "python",
   "name": "python3"
  },
  "language_info": {
   "codemirror_mode": {
    "name": "ipython",
    "version": 3
   },
   "file_extension": ".py",
   "mimetype": "text/x-python",
   "name": "python",
   "nbconvert_exporter": "python",
   "pygments_lexer": "ipython3",
   "version": "3.12.2"
  }
 },
 "nbformat": 4,
 "nbformat_minor": 5
}
