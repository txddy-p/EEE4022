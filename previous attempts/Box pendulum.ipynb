{
 "cells": [
  {
   "cell_type": "markdown",
   "id": "0c5b497d",
   "metadata": {},
   "source": [
    "# Box pendulum\n",
    "- This is modelling for the rotary pendulum\n",
    "- mP is the mass of the pendulum\n",
    "- mA is the mass of the Arm\n",
    "- $\\theta$ is the angle made by the arm from the principal axis\n",
    "- $\\alpha$ is the angle made by the pendulum from the z axis of the arm"
   ]
  },
  {
   "cell_type": "code",
   "execution_count": 1,
   "id": "a726949b",
   "metadata": {},
   "outputs": [],
   "source": [
    "# Imports\n",
    "import sympy as sym\n",
    "import numpy as np\n",
    "from IPython.display import display #for pretty printing"
   ]
  },
  {
   "cell_type": "code",
   "execution_count": null,
   "id": "1103d436",
   "metadata": {},
   "outputs": [],
   "source": [
    "# create symbolic variables\n",
    "\n",
    "# system parameters\n",
    "X0,Y0, Z0 = sym.symbols(['X0','Y0', 'Z0']) # fixed position of Arm\n",
    "g = sym.symbols('g')\n",
    "mP,mA = sym.symbols(['mP','mA']) # mass of links\n",
    "La,Lp = sym.symbols(['la','lp']) # length of links\n",
    "InA,InP = sym.symbols(['InA','InP']) # moment of intertia of links\n",
    "\n",
    "# generalized coordinates\n",
    "th,alph = sym.symbols(['\\\\theta','\\\\alpha']) #position\n",
    "dth,dalph = sym.symbols(['\\\\dot{\\\\theta}','\\\\dot{\\\\alpha}']) #velocity\n",
    "ddth,ddalph = sym.symbols(['\\\\ddot{\\\\theta}','\\\\ddot{\\\\alpha}']) #acceleration\n",
    "\n",
    "q = sym.Matrix([[th],[alph]]) #group into matrices\n",
    "dq = sym.Matrix([[dth],[dalph]])\n",
    "ddq = sym.Matrix([[ddth],[ddalph]])\n",
    "\n",
    "display(ddq) #display prints it as cool latex stuff"
   ]
  },
  {
   "cell_type": "markdown",
   "id": "2df94833",
   "metadata": {},
   "source": [
    "## Positions"
   ]
  },
  {
   "cell_type": "code",
   "execution_count": null,
   "id": "a07df4d8",
   "metadata": {},
   "outputs": [],
   "source": [
    "# STEP 1: write expressions for the system space coordinates in terms of the generalized coordinates and parameters\n",
    "##### Arm is at the origin so no need for X0 and Y0\n",
    "xArm = X0 + La*sym.cos(th)/2\n",
    "yArm = Y0 + La*sym.sin(th)/2\n",
    "zArm = Z0\n",
    "\n",
    "xPen = X0 + sym.simplify(La*sym.cos(th) + (Lp*sym.sin(alph)*sym.sin(th))/2)\n",
    "yPen = Y0 + sym.simplify(La*sym.sin(th) - (Lp*sym.sin(alph)*sym.cos(th))/2)\n",
    "zPen = Z0 +Lp*sym.cos(alph) / 2\n",
    "\n",
    "r_Arm = sym.Matrix([xArm, yArm, zArm])\n",
    "r_Pen = sym.Matrix([xPen, yPen, zPen])\n",
    "\n",
    "display(r_Arm, r_Pen)"
   ]
  },
  {
   "cell_type": "markdown",
   "id": "1923015b",
   "metadata": {},
   "source": [
    "## Velocities"
   ]
  },
  {
   "cell_type": "markdown",
   "id": "4550beca",
   "metadata": {},
   "source": [
    "### Linear velocities"
   ]
  },
  {
   "cell_type": "code",
   "execution_count": null,
   "id": "9a894cd7",
   "metadata": {},
   "outputs": [],
   "source": [
    "# STEP 2: generate expressions for the system space velocities\n",
    "p1 = sym.Matrix([xArm,yArm,zArm,th])\n",
    "[dxArm,dyArm,dzArm,dth] = p1.jacobian(q)*dq\n",
    "\n",
    "p2 = sym.Matrix([xPen,yPen,zPen,alph])\n",
    "[dxPen,dyPen,dzPen,dalph] = p2.jacobian(q)*dq\n",
    "\n",
    "dArm = sym.Matrix([dxArm, dyArm, dzArm])\n",
    "dPen = sym.Matrix([dxPen, dyPen, dzPen])\n",
    "\n",
    "\n",
    "dr_Arm = sym.simplify(r_Arm.jacobian(q)*dq)\n",
    "dr_Pen = sym.simplify(r_Pen.jacobian(q)*dq)\n",
    "display(dr_Arm,dr_Pen)"
   ]
  },
  {
   "cell_type": "markdown",
   "id": "f7310fb6",
   "metadata": {},
   "source": [
    "### Angular velocities"
   ]
  },
  {
   "cell_type": "code",
   "execution_count": null,
   "id": "dda3a177",
   "metadata": {},
   "outputs": [],
   "source": [
    "wArm = sym.Matrix([0, 0, dth])\n",
    "#wPen = sym.Matrix([dalph, dth*sym.sin(alph), dth*sym.cos(alph)])\n",
    "wPen = sym.Matrix([-sym.cos(alph)*dth, dth*sym.sin(alph), dalph])\n",
    "#wArm = wPen\n",
    "display(wArm,wPen)"
   ]
  },
  {
   "cell_type": "markdown",
   "id": "40be85b4",
   "metadata": {},
   "source": [
    "## Lagrange"
   ]
  },
  {
   "cell_type": "code",
   "execution_count": null,
   "id": "6eb67370",
   "metadata": {},
   "outputs": [],
   "source": [
    "# STEP 3: generate expressions for the kinetic and potential energy\n",
    "## Kinetic energies\n",
    "Thub = 0\n",
    "TArm = (0.5*mA*dArm.T*dArm) + (0.5*InA*wArm.T*wArm)\n",
    "TPen = (0.5*mP*dPen.T*dPen) + (0.5*InP*wPen.T*wPen)\n",
    "T = sym.Matrix([sym.simplify(TArm + TPen)])\n",
    "display(T)\n",
    "#T = sym.Matrix([0.5*mA*(dxArm**2+dyArm**2) + 0.5*mP*(dxPen**2+dyPen**2) + 0.5*InA*dth**2 + 0.5*InP*dalph**2])\n",
    "\n",
    "## Potential energies\n",
    "VArm = 0\n",
    "VHub = 0\n",
    "VPen = mP*g*zPen\n",
    "V = sym.Matrix([sym.simplify(VArm + VHub + VPen)])\n",
    "display(V)"
   ]
  },
  {
   "cell_type": "code",
   "execution_count": null,
   "id": "201b00c8",
   "metadata": {},
   "outputs": [],
   "source": [
    "# STEP 4: calculate each term of the Lagrange equation\n",
    "# term 1\n",
    "Lg1 = sym.zeros(1,len(q))\n",
    "for i in range(len(q)):\n",
    "    dT_ddq = sym.diff(T,dq[i]) # get partial of T in dq_i\n",
    "    Lg1[i] = dT_ddq.jacobian(q)*dq + dT_ddq.jacobian(dq)*ddq #...then get time derivative of that partial\n",
    "\n",
    "# term 3\n",
    "Lg3 = T.jacobian(q) # partial of T in q\n",
    "\n",
    "# term 4\n",
    "Lg4 = V.jacobian(q) # partial of U in q\n",
    "\n",
    "#combine\n",
    "EOM = sym.simplify(Lg1 - Lg3 + Lg4)\n",
    "\n",
    "display(EOM) #<-this will give you an idea of the magnitude of the faff a decent symbolic package lets you avoid"
   ]
  },
  {
   "cell_type": "markdown",
   "id": "b6a8cde6",
   "metadata": {},
   "source": [
    "# Test"
   ]
  },
  {
   "cell_type": "code",
   "execution_count": null,
   "id": "087ada44",
   "metadata": {},
   "outputs": [],
   "source": [
    "#initial conditions\n",
    "th0 = 0\n",
    "alph0 = 0\n",
    "dth0 = 0\n",
    "dalph0 = 0\n",
    "\n",
    "h = 0.01\n",
    "\n",
    "#parameters\n",
    "X0val = 0\n",
    "Y0val = 0\n",
    "Laval = 1\n",
    "Lpval = 1\n",
    "\n",
    "parameter_values = [(X0,X0val),(Y0,Y0val),(g,9.81),(mA,1),(mP,1),(La,Laval),(Lp,Lpval),(InA,0.08),(InP,0.08)]\n",
    "\n",
    "thar = [th0]\n",
    "alphar = [alph0]\n",
    "dthar = [dth0]\n",
    "dalphar = [dalph0]\n",
    "\n",
    "N = 100\n",
    "for i in range(1,N):\n",
    "    # substitute parameter values and previous conditions into the EOM \n",
    "    past = [(th,thar[i-1]),(alph,alphar[i-1]),(dth,dthar[i-1]),(dalph,dalphar[i-1])]\n",
    "    EOM_sub = EOM.subs(parameter_values).subs(past)\n",
    "    #display(past)\n",
    "    # solve for the acceleration\n",
    "    acc = sym.solve(EOM_sub,[ddth, ddalph])\n",
    "    \n",
    "    # integrate for the next velocity and position\n",
    "    dthar.append(float(dthar[i-1]+h*acc[ddth]))\n",
    "    dalphar.append(float(dalphar[i-1]+h*acc[ddalph]))\n",
    "    thar.append(float(thar[i-1]+h*dthar[i]))\n",
    "    alphar.append(float(alphar[i-1]+h*dalphar[i]))\n",
    "\n",
    "print(thar)"
   ]
  },
  {
   "cell_type": "code",
   "execution_count": null,
   "id": "b2dd4a8b",
   "metadata": {},
   "outputs": [],
   "source": [
    "#animate it\n",
    "import matplotlib.pyplot as plt\n",
    "import matplotlib.animation as ani\n",
    "from IPython.display import HTML\n",
    "%matplotlib inline\n",
    "\n",
    "fig1, ax1 = plt.subplots(1,1) #create axes\n",
    "\n",
    "def plot_pendulum(i,th_in,alph_in,ax): #update function for animation\n",
    "    ax.clear()\n",
    "    ax.set_xlim([-4,4])\n",
    "    ax.set_ylim([-4,4])\n",
    "    \n",
    "    #plot link 1\n",
    "    Latopx = X0val\n",
    "    Latopy = Y0val\n",
    "    Labottomx = X0val + Laval*np.sin(th_in[i])\n",
    "    Labottomy = Y0val - Laval*np.cos(th_in[i])\n",
    "    ax.plot([Latopx,Labottomx],[Latopy,Labottomy],color='xkcd:black')\n",
    "    \n",
    "    #plot link 2\n",
    "    Lpbottomx = Labottomx + Lpval*np.sin(th_in[i] + alph_in[i])\n",
    "    Lpbottomy = Labottomy - Lpval*np.cos(th_in[i] + alph_in[i]) \n",
    "    ax.plot([Labottomx,Lpbottomx],[Labottomy,Lpbottomy],color='xkcd:black')\n",
    "    \n",
    "update = lambda i: plot_pendulum(i,thar,alphar,ax1) #lambdify update function\n",
    "\n",
    "animate = ani.FuncAnimation(fig1,update,range(N),interval = 50,repeat=True)\n",
    "\n",
    "HTML(animate.to_html5_video()) #you need to convert the animation to HTML5 to embed it in the notebook"
   ]
  },
  {
   "cell_type": "code",
   "execution_count": null,
   "id": "fb4979bb",
   "metadata": {},
   "outputs": [],
   "source": [
    "import matplotlib.pyplot as plt\n",
    "import matplotlib.animation as ani\n",
    "from IPython.display import HTML\n",
    "import numpy as np\n",
    "\n",
    "%matplotlib inline\n",
    "\n",
    "fig1, ax1 = plt.subplots(1, 1)  # create axes\n",
    "\n",
    "def plot_pendulum(i, th_in, alph_in, ax):  # update function for animation\n",
    "    ax.clear()\n",
    "    ax.set_xlim([-4, 4])\n",
    "    ax.set_ylim([-4, 4])\n",
    "    \n",
    "    # Debug: Print current angles\n",
    "    print(f\"Frame {i}: th = {th_in[i]}, alpha = {alph_in[i]}\")\n",
    "\n",
    "    # plot link 1\n",
    "    Latopy = Y0val\n",
    "    Latopz = X0val\n",
    "    Labottomz = X0val + Laval * np.sin(th_in[i])\n",
    "    Labottomy = Y0val - Laval * np.cos(th_in[i])\n",
    "    ax.plot([Latopz, Labottomz], [Latopy, Labottomy], color='xkcd:black')\n",
    "    \n",
    "    # plot link 2\n",
    "    Lpbottomz = Labottomz + Lpval * np.sin(th_in[i] + alph_in[i])\n",
    "    Lpbottomy = Labottomy - Lpval * np.cos(th_in[i] + alph_in[i]) \n",
    "    ax.plot([Labottomz, Lpbottomz], [Labottomy, Lpbottomy], color='xkcd:black')\n",
    "\n",
    "update = lambda i: plot_pendulum(i, thar, alphar, ax1)  # lambdify update function\n",
    "\n",
    "# Create animation\n",
    "animate = ani.FuncAnimation(fig1, update, frames=range(N), interval=50, repeat=True)\n",
    "\n",
    "# Display animation\n",
    "plt.close(fig1)  # Prevents static display of the last frame\n",
    "HTML(animate.to_html5_video())  # Convert the animation to HTML5 to embed it in the notebook\n"
   ]
  },
  {
   "cell_type": "code",
   "execution_count": null,
   "id": "97af6227-461c-47a2-8ce0-d5f5114a0c6e",
   "metadata": {},
   "outputs": [],
   "source": []
  }
 ],
 "metadata": {
  "kernelspec": {
   "display_name": "Python 3 (ipykernel)",
   "language": "python",
   "name": "python3"
  },
  "language_info": {
   "codemirror_mode": {
    "name": "ipython",
    "version": 3
   },
   "file_extension": ".py",
   "mimetype": "text/x-python",
   "name": "python",
   "nbconvert_exporter": "python",
   "pygments_lexer": "ipython3",
   "version": "3.12.3"
  }
 },
 "nbformat": 4,
 "nbformat_minor": 5
}
