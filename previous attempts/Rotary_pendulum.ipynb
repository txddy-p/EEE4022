{
 "cells": [
  {
   "cell_type": "markdown",
   "id": "0c5b497d",
   "metadata": {},
   "source": [
    "# Box pendulum\n",
    "- This is modelling for the rotary pendulum"
   ]
  },
  {
   "cell_type": "code",
   "execution_count": 1,
   "id": "a726949b",
   "metadata": {},
   "outputs": [],
   "source": [
    "# Imports\n",
    "import sympy as sym\n",
    "import numpy as np\n",
    "from IPython.display import display #for pretty printing"
   ]
  },
  {
   "cell_type": "code",
   "execution_count": null,
   "id": "1103d436",
   "metadata": {},
   "outputs": [],
   "source": [
    "# create symbolic variables\n",
    "\n",
    "# system parameters\n",
    "X0,Y0, Z0 = sym.symbols(['X0','Y0', 'Z0']) # fixed position of first link\n",
    "g = sym.symbols('g')\n",
    "m1,m2 = sym.symbols(['m1','m2']) # mass of links\n",
    "l1,l2 = sym.symbols(['l1','l2']) # length of links\n",
    "In1,In2 = sym.symbols(['In1','In2']) # moment of intertia of links\n",
    "\n",
    "# generalized coordinates\n",
    "th1,th2 = sym.symbols(['theta1','theta2']) #position\n",
    "dth1,dth2 = sym.symbols([r'\\dot{\\\\theta}_{1}',r'\\dot{\\\\theta}_{2}']) #velocity\n",
    "ddth1,ddth2 = sym.symbols([r'\\ddot{\\\\theta}_{1}',r'\\ddot{\\\\theta}_{2}']) #acceleration\n",
    "\n",
    "q = sym.Matrix([[th1],[th2]]) #group into matrices\n",
    "dq = sym.Matrix([[dth1],[dth2]])\n",
    "ddq = sym.Matrix([[ddth1],[ddth2]])\n",
    "\n",
    "display(ddq) #display prints it as cool latex stuff"
   ]
  },
  {
   "cell_type": "markdown",
   "id": "2df94833",
   "metadata": {},
   "source": [
    "## Positions"
   ]
  },
  {
   "cell_type": "code",
   "execution_count": null,
   "id": "a07df4d8",
   "metadata": {},
   "outputs": [],
   "source": [
    "# STEP 1: write expressions for the system space coordinates in terms of the generalized coordinates and parameters\n",
    "\n",
    "th1a = th1\n",
    "th2a = th2\n",
    "\n",
    "##### Arm is at the origin so no need for X0 and Y0\n",
    "xArm = X0+0.5*l1*sym.cos(th1a)\n",
    "yArm = Y0+0.5*l1*sym.sin(th1a)\n",
    "zArm = 0\n",
    "\n",
    "xPen = l1*sym.cos(th1a) + 0.5*l2*(sym.sin(th2a)*sym.sin(th1a))\n",
    "yPen = l1*sym.sin(th1a) - 0.5*l2*(sym.sin(th2a)*sym.cos(th1a))\n",
    "zPen = l2*sym.cos(th2a)*0.5"
   ]
  },
  {
   "cell_type": "markdown",
   "id": "1923015b",
   "metadata": {},
   "source": [
    "## Velocities"
   ]
  },
  {
   "cell_type": "markdown",
   "id": "4550beca",
   "metadata": {},
   "source": [
    "### Linear velocities"
   ]
  },
  {
   "cell_type": "code",
   "execution_count": null,
   "id": "9a894cd7",
   "metadata": {},
   "outputs": [],
   "source": [
    "# STEP 2: generate expressions for the system space velocities\n",
    "p1 = sym.Matrix([xArm,yArm,zArm,th1])\n",
    "[dxArm,dyArm,dzArm,dth1a] = p1.jacobian(q)*dq\n",
    "\n",
    "p2 = sym.Matrix([xPen,yPen,zPen,th2a])\n",
    "[dxPen,dyPen,dzPen,dth2a] = p2.jacobian(q)*dq\n",
    "\n",
    "dArm = sym.Matrix([dxArm, dyArm, dzArm])\n",
    "dPen = sym.Matrix([dxPen, dyPen, dzPen])\n",
    "\n",
    "display(dArm)\n",
    "display(dPen)"
   ]
  },
  {
   "cell_type": "markdown",
   "id": "f7310fb6",
   "metadata": {},
   "source": [
    "### Angular velocities"
   ]
  },
  {
   "cell_type": "code",
   "execution_count": null,
   "id": "dda3a177",
   "metadata": {
    "scrolled": true
   },
   "outputs": [],
   "source": [
    "wArm = sym.Matrix([0, 0, dth1a])\n",
    "wPen = sym.Matrix([dth2a, dth1a*sym.sin(th2a), dth1a*sym.cos(th2a)])"
   ]
  },
  {
   "cell_type": "markdown",
   "id": "40be85b4",
   "metadata": {},
   "source": [
    "## Lagrange"
   ]
  },
  {
   "cell_type": "code",
   "execution_count": null,
   "id": "6eb67370",
   "metadata": {},
   "outputs": [],
   "source": [
    "# STEP 3: generate expressions for the kinetic and potential energy\n",
    "## Kinetic energies\n",
    "Thub = 0\n",
    "TArm = (0.5*m1*dArm.T*dArm) + (0.5*In1*wArm.T*wArm)\n",
    "TPen = (0.5*m2*dPen.T*dPen) + (0.5*In2*wPen.T*wPen)\n",
    "T = TArm + TPen\n",
    "display(T)\n",
    "#T = sym.Matrix([0.5*m1*(dxArm**2+dyArm**2) + 0.5*m2*(dxPen**2+dyPen**2) + 0.5*In1*dth1a**2 + 0.5*In2*dth2a**2])\n",
    "\n",
    "## Potential energies\n",
    "VArm = 0\n",
    "VHub = 0\n",
    "VPen = m2*g*zPen\n",
    "V = sym.Matrix([VArm + VHub + VPen])\n",
    "display(V)"
   ]
  },
  {
   "cell_type": "code",
   "execution_count": null,
   "id": "201b00c8",
   "metadata": {},
   "outputs": [],
   "source": [
    "# STEP 4: calculate each term of the Lagrange equation\n",
    "# term 1\n",
    "Lg1 = sym.zeros(1,len(q))\n",
    "for i in range(len(q)):\n",
    "    dT_ddq = sym.diff(T,dq[i]) # get partial of T in dq_i\n",
    "    Lg1[i] = dT_ddq.jacobian(q)*dq + dT_ddq.jacobian(dq)*ddq #...then get time derivative of that partial\n",
    "\n",
    "# term 3\n",
    "Lg3 = T.jacobian(q) # partial of T in q\n",
    "\n",
    "# term 4\n",
    "Lg4 = V.jacobian(q) # partial of U in q\n",
    "\n",
    "#combine\n",
    "EOM = Lg1 - Lg3 + Lg4\n",
    "\n",
    "#display(EOM) #<-this will give you an idea of the magnitude of the faff a decent symbolic package lets you avoid"
   ]
  },
  {
   "cell_type": "markdown",
   "id": "b6a8cde6",
   "metadata": {},
   "source": [
    "# Test"
   ]
  },
  {
   "cell_type": "code",
   "execution_count": null,
   "id": "087ada44",
   "metadata": {},
   "outputs": [],
   "source": [
    "#initial conditions\n",
    "th10 = np.pi/4\n",
    "th20 = 0\n",
    "dth10 = 0\n",
    "dth20 = 0\n",
    "\n",
    "h = 0.01\n",
    "\n",
    "#parameters\n",
    "X0val = 0\n",
    "Y0val = 2\n",
    "l1val = 1\n",
    "l2val = 1\n",
    "\n",
    "parameter_values = [(X0,X0val),(Y0,Y0val),(g,9.81),(m1,1),(m2,1),(l1,l1val),(l2,l2val),(In1,0.08),(In2,0.08)]\n",
    "\n",
    "th1ar = [th10]\n",
    "th2ar = [th20]\n",
    "dth1ar = [dth10]\n",
    "dth2ar = [dth20]\n",
    "\n",
    "N = 100\n",
    "for i in range(1,N):\n",
    "    # substitute parameter values and previous conditions into the EOM \n",
    "    past = [(th1,th1ar[i-1]),(th2,th2ar[i-1]),(dth1,dth1ar[i-1]),(dth2,dth2ar[i-1])]\n",
    "    EOM_sub = EOM.subs(parameter_values).subs(past)\n",
    "    \n",
    "    # solve for the acceleration\n",
    "    acc = sym.solve(EOM_sub,[ddth1, ddth2])\n",
    "    \n",
    "    # integrate for the next velocity and position    \n",
    "    dth1ar.append(float(dth1ar[i-1]+h*acc[ddth1]))\n",
    "    dth2ar.append(float(dth2ar[i-1]+h*acc[ddth2]))\n",
    "    th1ar.append(float(th1ar[i-1]+h*dth1ar[i]))\n",
    "    th2ar.append(float(th2ar[i-1]+h*dth2ar[i]))"
   ]
  },
  {
   "cell_type": "code",
   "execution_count": null,
   "id": "b2dd4a8b",
   "metadata": {},
   "outputs": [],
   "source": [
    "import numpy as np\n",
    "import matplotlib.pyplot as plt\n",
    "import matplotlib.animation as ani\n",
    "from mpl_toolkits.mplot3d import Axes3D\n",
    "from IPython.display import HTML\n",
    "\n",
    "# Initialize the figure and 3D axis\n",
    "fig1 = plt.figure()\n",
    "ax1 = fig1.add_subplot(111, projection='3d')\n",
    "\n",
    "# Define the lengths of the links\n",
    "l1 = 1  # Length of the first link (arm)\n",
    "l2 = 1  # Length of the second link (pendulum)\n",
    "\n",
    "# Define the plot limits\n",
    "ax1.set_xlim([-2, 2])\n",
    "ax1.set_ylim([0, 4])\n",
    "ax1.set_zlim([-2, 2])\n",
    "ax1.set_xlabel('X axis')\n",
    "ax1.set_ylabel('Y axis')\n",
    "ax1.set_zlabel('Z axis')\n",
    "\n",
    "def plot_furuta_pendulum_3d(i, th1_in, th2_in, ax):\n",
    "    ax.clear()\n",
    "    \n",
    "    # Calculate positions of the arm\n",
    "    L1topx = 0\n",
    "    L1topy = 0\n",
    "    L1topz = 0\n",
    "    \n",
    "    L1bottomx = l1 * np.cos(th1_in[i])\n",
    "    L1bottomy = l1 * np.sin(th1_in[i])\n",
    "    L1bottomz = 0\n",
    "    \n",
    "    # Plot the first link (arm)\n",
    "    ax.plot([L1topx, L1bottomx], [L1topy, L1bottomy], [L1topz, L1bottomz], color='k', linewidth=2)\n",
    "    \n",
    "    # Add axis to the arm\n",
    "    ax.quiver(L1topx, L1topy, L1topz, L1bottomx - L1topx, L1bottomy - L1topy, L1bottomz - L1topz, \n",
    "              color='r', length=l1, normalize=True, arrow_length_ratio=0.1)\n",
    "    \n",
    "    # Calculate positions of the pendulum\n",
    "    # Pendulum rotates about the end of the arm\n",
    "    L2bottomx = L1bottomx + l2 * np.cos(th1_in[i]) * np.cos(th2_in[i])\n",
    "    L2bottomy = L1bottomy + l2 * np.sin(th1_in[i]) * np.cos(th2_in[i])\n",
    "    L2bottomz = L1bottomz - l2 * np.sin(th2_in[i])\n",
    "    \n",
    "    # Plot the second link (pendulum)\n",
    "    ax.plot([L1bottomx, L2bottomx], [L1bottomy, L2bottomy], [L1bottomz, L2bottomz], color='k', linewidth=2)\n",
    "    \n",
    "    # Add axis to the pendulum\n",
    "    ax.quiver(L1bottomx, L1bottomy, L1bottomz, L2bottomx - L1bottomx, L2bottomy - L1bottomy, L2bottomz - L1bottomz, \n",
    "              color='b', length=l2, normalize=True, arrow_length_ratio=0.1)\n",
    "\n",
    "    # Set plot limits\n",
    "    ax.set_xlim([-2, 2])\n",
    "    ax.set_ylim([-2, 2])\n",
    "    ax.set_zlim([-2, 2])\n",
    "    ax.set_xlabel('X axis')\n",
    "    ax.set_ylabel('Y axis')\n",
    "    ax.set_zlabel('Z axis')\n",
    "\n",
    "# Generate some example data\n",
    "N = 100  # Number of frames\n",
    "th1ar = np.linspace(0, 2 * np.pi, N)  # Example angle data for link 1\n",
    "th2ar = np.linspace(0, np.pi, N)  # Example angle data for link 2\n",
    "\n",
    "# Define the update function\n",
    "update = lambda i: plot_furuta_pendulum_3d(i, th1ar, th2ar, ax1)\n",
    "\n",
    "# Create the animation\n",
    "animate = ani.FuncAnimation(fig1, update, frames=range(N), interval=50, repeat=True)\n",
    "\n",
    "# Convert to HTML5 video for embedding in notebook\n",
    "HTML(animate.to_html5_video())\n"
   ]
  },
  {
   "cell_type": "code",
   "execution_count": null,
   "id": "ebc9e51c",
   "metadata": {},
   "outputs": [],
   "source": [
    "#initial conditions\n",
    "th10 = np.pi/4\n",
    "th20 = 0\n",
    "dth10 = 0\n",
    "dth20 = 0\n",
    "\n",
    "h = 0.01\n",
    "\n",
    "#parameters\n",
    "X0val = 0\n",
    "Y0val = 0\n",
    "Z0val = 0\n",
    "l1val = 1\n",
    "l2val = 1\n",
    "\n",
    "parameter_values = [(X0,X0val),(Y0,Y0val),(g,9.81),(m1,1),(m2,1),(l1,l1val),(l2,l2val),(In1,0.08),(In2,0.08)]\n",
    "\n",
    "th1ar = [th10]\n",
    "th2ar = [th20]\n",
    "dth1ar = [dth10]\n",
    "dth2ar = [dth20]\n",
    "\n",
    "N = 100\n",
    "for i in range(1,N):\n",
    "    # substitute parameter values and previous conditions into the EOM \n",
    "    past = [(th1,th1ar[i-1]),(th2,th2ar[i-1]),(dth1,dth1ar[i-1]),(dth2,dth2ar[i-1])]\n",
    "    EOM_sub = EOM.subs(parameter_values).subs(past)\n",
    "    \n",
    "    # solve for the acceleration\n",
    "    acc = sym.solve(EOM_sub,[ddth1, ddth2])\n",
    "    \n",
    "    # integrate for the next velocity and position    \n",
    "    dth1ar.append(float(dth1ar[i-1]+h*acc[ddth1]))\n",
    "    dth2ar.append(float(dth2ar[i-1]+h*acc[ddth2]))\n",
    "    th1ar.append(float(th1ar[i-1]+h*dth1ar[i]))\n",
    "    th2ar.append(float(th2ar[i-1]+h*dth2ar[i]))"
   ]
  },
  {
   "cell_type": "code",
   "execution_count": null,
   "id": "fb4979bb",
   "metadata": {},
   "outputs": [],
   "source": []
  }
 ],
 "metadata": {
  "kernelspec": {
   "display_name": "Python 3 (ipykernel)",
   "language": "python",
   "name": "python3"
  },
  "language_info": {
   "codemirror_mode": {
    "name": "ipython",
    "version": 3
   },
   "file_extension": ".py",
   "mimetype": "text/x-python",
   "name": "python",
   "nbconvert_exporter": "python",
   "pygments_lexer": "ipython3",
   "version": "3.12.2"
  }
 },
 "nbformat": 4,
 "nbformat_minor": 5
}
